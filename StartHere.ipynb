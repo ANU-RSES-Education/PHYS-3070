{
 "cells": [
  {
   "cell_type": "markdown",
   "metadata": {},
   "source": [
    "# RSES / Physics of the Earth PHYS-3070\n",
    "\n",
    "![Health check](https://github.com/ANU-RSES-Education/PHYS-3070/workflows/Health%20check/badge.svg)\n",
    "\n",
    "## Jupyterbook\n",
    "\n",
    "[![https://img.shields.io/badge/<LABEL>-<MESSAGE>-<COLOR>](https://img.shields.io/badge/EMSC3002-Course_Notes-blue)](https://ANU-RSES-Education.github.io/PHYS-3070)\n",
    "\n",
    "\n",
    "For this example, you can see the [online version](https://anu-rses-education.github.io/PHYS-3070/FrontPage.html) which is automatically built by github using this repository.\n",
    "\n",
    "\n",
    "## Notebooks\n",
    "    \n",
    "  1. [NB 1.1](Notebooks/LAB-Maps-Data/PHYS3070-LabMD.1.1.ipynb)\n",
    "  1. [NB 1.2](Notebooks/LAB-Maps-Data/PHYS3070-LabMD.1.2.ipynb)\n",
    "  1. [NB 1.3](Notebooks/LAB-Maps-Data/PHYS3070-LabMD.1.3.ipynb)\n",
    "  1. [NB 2.1](Notebooks/LAB-Maps-Data/PHYS3070-LabMD.2.1.ipynb)\n",
    "  1. [NB 2.2](Notebooks/LAB-Maps-Data/PHYS3070-LabMD.2.2.ipynb)\n",
    "  1. [NB 2.3](Notebooks/LAB-Maps-Data/PHYS3070-LabMD.2.3.ipynb)\n",
    "  1. [NB 2.4](Notebooks/LAB-Maps-Data/PHYS3070-LabMD.2.4.ipynb)\n",
    "  1. [NB 2.5](Notebooks/LAB-Maps-Data/PHYS3070-LabMD.2.5.ipynb)\n",
    "\n",
    "\n",
    "## Administration tasks\n",
    "\n",
    "<!--\n",
    "If the hub has a signup page it can be reached here:\n",
    "    \n",
    "[![Signup](https://img.shields.io/badge/User-Signup-blue)](https://test.rses.underworldcloud.org/hub/signup)\n",
    "\n",
    "And the corresponding page for an admin user to authorise the users after they sign-up is\n",
    "    \n",
    "[![Authorize](https://img.shields.io/badge/Admin-Authorize-Red)](https://test.rses.underworldcloud.org/hub/authorize)\n",
    "\n",
    "-->\n",
    "   \n",
    "Admin users have access to the hub control panel to shut down wayward servers and add / remove users. \n",
    "    \n",
    "[![ControlPanel](https://img.shields.io/badge/Admin-HubControlPanel-Red)](https://phys3070-2021.rses.underworldcloud.org/hub/admin)\n",
    "    \n",
    "\n",
    "To make a \"binder-like\" link to a files in a repository on this droplet, you can read the [nbgitpuller documentation](https://jupyterhub.github.io/nbgitpuller/link.html) or fill out a form here:\n",
    "\n",
    " [![https://img.shields.io/badge/<LABEL>-<MESSAGE>-<COLOR>](https://img.shields.io/badge/Admin-LinkMaker-Red)](https://jupyterhub.github.io/nbgitpuller/link.html?hub=https://phys3070-2021.rses.underworldcloud.org&repo=https://github.com/ANU-RSES-Education/PHYS-3070)\n",
    "\n",
    "\n",
    "\n",
    "\n"
   ]
  },
  {
   "cell_type": "code",
   "execution_count": null,
   "metadata": {},
   "outputs": [],
   "source": []
  }
 ],
 "metadata": {
  "file_extension": ".py",
  "kernelspec": {
   "display_name": "Python 3",
   "language": "python",
   "name": "python3"
  },
  "language_info": {
   "codemirror_mode": {
    "name": "ipython",
    "version": 3
   },
   "file_extension": ".py",
   "mimetype": "text/x-python",
   "name": "python",
   "nbconvert_exporter": "python",
   "pygments_lexer": "ipython3",
   "version": "3.9.4"
  },
  "mimetype": "text/x-python",
  "name": "python",
  "npconvert_exporter": "python",
  "pygments_lexer": "ipython3",
  "version": 3
 },
 "nbformat": 4,
 "nbformat_minor": 4
}
