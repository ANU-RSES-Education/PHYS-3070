{
 "cells": [
  {
   "cell_type": "markdown",
   "id": "4d23436d",
   "metadata": {},
   "source": [
    "## Visualise stokes annulus model (flow etc)"
   ]
  },
  {
   "cell_type": "code",
   "execution_count": 1,
   "id": "f56963d3",
   "metadata": {
    "execution": {
     "iopub.execute_input": "2024-08-12T23:46:37.074606Z",
     "iopub.status.busy": "2024-08-12T23:46:37.074491Z",
     "iopub.status.idle": "2024-08-12T23:46:37.078370Z",
     "shell.execute_reply": "2024-08-12T23:46:37.078146Z",
     "shell.execute_reply.started": "2024-08-12T23:46:37.074589Z"
    }
   },
   "outputs": [],
   "source": [
    "# to fix trame issue\n",
    "import nest_asyncio\n",
    "nest_asyncio.apply()\n",
    "import os"
   ]
  },
  {
   "cell_type": "code",
   "execution_count": 2,
   "id": "0b026768",
   "metadata": {
    "execution": {
     "iopub.execute_input": "2024-08-12T23:46:37.078919Z",
     "iopub.status.busy": "2024-08-12T23:46:37.078830Z",
     "iopub.status.idle": "2024-08-12T23:46:38.179733Z",
     "shell.execute_reply": "2024-08-12T23:46:38.179451Z",
     "shell.execute_reply.started": "2024-08-12T23:46:37.078908Z"
    }
   },
   "outputs": [],
   "source": [
    "import petsc4py\n",
    "import underworld3 as uw\n",
    "import numpy as np\n",
    "import sympy"
   ]
  },
  {
   "cell_type": "code",
   "execution_count": 3,
   "id": "8c3f6ccb",
   "metadata": {
    "execution": {
     "iopub.execute_input": "2024-08-12T23:46:38.180360Z",
     "iopub.status.busy": "2024-08-12T23:46:38.180233Z",
     "iopub.status.idle": "2024-08-12T23:46:38.311495Z",
     "shell.execute_reply": "2024-08-12T23:46:38.311031Z",
     "shell.execute_reply.started": "2024-08-12T23:46:38.180352Z"
    }
   },
   "outputs": [
    {
     "name": "stdout",
     "output_type": "stream",
     "text": [
      "total 0\n",
      "drwxr-xr-x  824 lmoresi  staff  26368 Aug 13 09:44 \u001b[34mRa1e5\u001b[m\u001b[m/\n"
     ]
    }
   ],
   "source": [
    "ls -trl output/annulus/ | tail"
   ]
  },
  {
   "cell_type": "code",
   "execution_count": 4,
   "id": "bf972017",
   "metadata": {
    "execution": {
     "iopub.execute_input": "2024-08-12T23:46:38.312353Z",
     "iopub.status.busy": "2024-08-12T23:46:38.312228Z",
     "iopub.status.idle": "2024-08-12T23:46:38.446682Z",
     "shell.execute_reply": "2024-08-12T23:46:38.446028Z",
     "shell.execute_reply.started": "2024-08-12T23:46:38.312336Z"
    }
   },
   "outputs": [
    {
     "name": "stdout",
     "output_type": "stream",
     "text": [
      "-rw-r--r--  1 lmoresi  staff   88760 Aug 12 16:36 annulus_ckpt.mesh.U.00068.h5\n",
      "-rw-r--r--  1 lmoresi  staff   37048 Aug 12 16:36 annulus_ckpt.mesh.P.00068.h5\n",
      "-rw-r--r--  1 lmoresi  staff   69160 Aug 12 16:36 annulus_ckpt.mesh.T.00068.h5\n",
      "-rw-r--r--  1 lmoresi  staff    3030 Aug 12 16:36 annulus_ckpt.mesh.00068.xdmf\n",
      "-rw-r--r--  1 lmoresi  staff   88760 Aug 12 16:36 annulus_ckpt.mesh.U.00069.h5\n",
      "-rw-r--r--  1 lmoresi  staff   37048 Aug 12 16:36 annulus_ckpt.mesh.P.00069.h5\n",
      "-rw-r--r--  1 lmoresi  staff   69160 Aug 12 16:36 annulus_ckpt.mesh.T.00069.h5\n",
      "-rw-r--r--  1 lmoresi  staff    3030 Aug 12 16:36 annulus_ckpt.mesh.00069.xdmf\n",
      "-rw-r--r--  1 lmoresi  staff  381460 Aug 13 09:43 annulus_ckpt0.png\n",
      "-rw-r--r--  1 lmoresi  staff  711720 Aug 13 09:43 annulus_ckpt10.png\n"
     ]
    }
   ],
   "source": [
    "ls -trl output/annulus/Ra1e5/ | tail"
   ]
  },
  {
   "cell_type": "code",
   "execution_count": 5,
   "id": "9a912364",
   "metadata": {
    "execution": {
     "iopub.execute_input": "2024-08-12T23:46:38.450274Z",
     "iopub.status.busy": "2024-08-12T23:46:38.449981Z",
     "iopub.status.idle": "2024-08-12T23:46:38.453361Z",
     "shell.execute_reply": "2024-08-12T23:46:38.452870Z",
     "shell.execute_reply.started": "2024-08-12T23:46:38.450244Z"
    },
    "lines_to_next_cell": 2
   },
   "outputs": [],
   "source": [
    "checkpoint_dir = \"output/annulus/Ra1e5\"\n",
    "checkpoint_base = f\"annulus_ckpt\"\n",
    "meshfile = os.path.join(checkpoint_dir, checkpoint_base) + \".mesh.00000.h5\""
   ]
  },
  {
   "cell_type": "code",
   "execution_count": 6,
   "id": "b5d63def",
   "metadata": {
    "execution": {
     "iopub.execute_input": "2024-08-12T23:46:38.453950Z",
     "iopub.status.busy": "2024-08-12T23:46:38.453844Z",
     "iopub.status.idle": "2024-08-12T23:46:38.575688Z",
     "shell.execute_reply": "2024-08-12T23:46:38.575359Z",
     "shell.execute_reply.started": "2024-08-12T23:46:38.453939Z"
    }
   },
   "outputs": [],
   "source": [
    "r_i = 0.5\n",
    "r_o = 1.0\n",
    "\n",
    "mesh = uw.discretisation.Mesh(meshfile, \n",
    "                              coordinate_system_type=uw.coordinates.CoordinateSystemType.CYLINDRICAL2D,\n",
    "                              refinement=0)\n",
    "\n",
    "# mesh = uw.meshing.Annulus(\n",
    "#     radiusInner=r_i, \n",
    "#     radiusOuter=r_o, \n",
    "#     cellSize=1/20, \n",
    "#     degree=1, \n",
    "#     qdegree=3, \n",
    "# )\n",
    "\n",
    "\n",
    "\n",
    "# mesh = uw.meshing.Annulus(\n",
    "#     radiusInner=r_i, \n",
    "#     radiusOuter=r_o, \n",
    "#     cellSize=1/24, \n",
    "#     degree=1, \n",
    "#     qdegree=3, \n",
    "# )\n",
    "\n",
    "x = mesh.N.x\n",
    "y = mesh.N.y\n",
    "\n",
    "r = sympy.sqrt(x**2 + y**2)  # cf radius_fn which is 0->1\n",
    "th = sympy.atan2(y + 1.0e-5, x + 1.0e-5)\n",
    "\n",
    "v_soln = uw.discretisation.MeshVariable(\"U\", mesh, mesh.dim, degree=1)\n",
    "t_soln = uw.discretisation.MeshVariable(\"T\", mesh, 1, degree=2)\n",
    "flux = uw.discretisation.MeshVariable(r\"dTdz\", mesh, 1, degree=2)"
   ]
  },
  {
   "cell_type": "code",
   "execution_count": null,
   "id": "7ee76dff-a6bd-4c4e-b9ad-0c19c64b3f34",
   "metadata": {},
   "outputs": [],
   "source": []
  },
  {
   "cell_type": "code",
   "execution_count": 7,
   "id": "425534ca",
   "metadata": {
    "execution": {
     "iopub.execute_input": "2024-08-12T23:46:38.576262Z",
     "iopub.status.busy": "2024-08-12T23:46:38.576171Z",
     "iopub.status.idle": "2024-08-12T23:46:38.595580Z",
     "shell.execute_reply": "2024-08-12T23:46:38.595269Z",
     "shell.execute_reply.started": "2024-08-12T23:46:38.576254Z"
    },
    "lines_to_next_cell": 2,
    "scrolled": true
   },
   "outputs": [
    {
     "name": "stdout",
     "output_type": "stream",
     "text": [
      "Local points: 484\n",
      "Distance N 0:10\n",
      "[0.         0.00110973 0.00170484 0.00170484]\n",
      "[   0  790 1236 1250]\n",
      "[ 9.00374364e-02  6.48567655e+01  1.90861701e+02 -1.92623646e+02]\n",
      "[0.         0.00110973 0.00170484 0.00170484]\n",
      "[   1  792 1237 1251]\n",
      "[-9.07339783e-02 -6.46450727e+01 -1.91147639e+02  1.92924161e+02]\n",
      "[0.         0.00157398 0.00170775 0.00170775]\n",
      "[   2 1654 1676  990]\n",
      "[ 8.40318956e-02 -3.92603341e+01 -1.17415025e+02  7.68670004e+01]\n",
      "[0.         0.00157398 0.00170775 0.00170775]\n",
      "[   3 1655 1678  993]\n",
      "[-8.36816948e-02  3.93211671e+01  1.17702178e+02 -7.76309220e+01]\n",
      "[0.         0.00150443 0.00170484 0.00170484]\n",
      "[   4  794 1250 1226]\n",
      "[-382.26694945 -423.59512406 -192.62364639 -549.84856769]\n",
      "[0.         0.00154515 0.00168277 0.00170484]\n",
      "[   5  855  854 1226]\n",
      "[-704.41906409 -644.36684325 -556.78123136 -549.84856769]\n",
      "[0.         0.00154515 0.00170484 0.00170484]\n",
      "[   6  859  858 1242]\n",
      "[-837.87321868 -657.11511307 -505.04489431 -699.1042785 ]\n",
      "[0.         0.00155317 0.00170484 0.00170484]\n",
      "[   7  541  540 1242]\n",
      "[-483.96300677  134.03188731 -274.56690223 -699.1042785 ]\n",
      "[0.         0.00170484 0.00170484 0.00174149]\n",
      "[   8 1238  778  779]\n",
      "[478.33633187 934.47957745 -47.22310372 559.7942755 ]\n",
      "[0.         0.00165877 0.00170484 0.00170484]\n",
      "[   9  810 1238 1254]\n",
      "[1429.27804329 1684.33922972  934.47957745 1696.32985205]\n",
      "Weights [[1000078.45480719]\n",
      " [1000078.45480719]\n",
      " [1000073.60085994]\n",
      " [1000073.60085994]\n",
      " [1000074.21823764]\n",
      " [1000074.03459327]\n",
      " [1000073.87630827]\n",
      " [1000073.81054558]]\n",
      "Values [[ 9.19344041e-02  2.35935272e+03]\n",
      " [-9.26241843e-02 -2.36365671e+03]\n",
      " [ 8.20551185e-02 -2.82936510e+03]\n",
      " [-8.17149463e-02  2.83658754e+03]\n",
      " [-3.82267481e+02  2.29166041e+03]\n",
      " [-7.04410195e+02  2.05243904e+03]\n",
      " [-8.37857200e+02  1.54887868e+03]\n",
      " [-4.83947466e+02  6.21874809e+02]]\n",
      "Local points: 1822\n",
      "Distance N 0:10\n",
      "[0.         0.00110973 0.00170484 0.00170484]\n",
      "[   0  790 1236 1250]\n",
      "[1.         0.40804758 1.         1.        ]\n",
      "[0.         0.00110973 0.00170484 0.00170484]\n",
      "[   1  792 1237 1251]\n",
      "[1.         0.40634325 1.         1.        ]\n",
      "[0.         0.00157398 0.00170775 0.00170775]\n",
      "[   2 1654 1676  990]\n",
      "[0.         0.31650565 0.         0.34408456]\n",
      "[0.         0.00157398 0.00170775 0.00170775]\n",
      "[   3 1655 1678  993]\n",
      "[0.         0.31954026 0.         0.34823275]\n",
      "[0.         0.00150443 0.00170484 0.00170484]\n",
      "[   4  794 1250 1226]\n",
      "[1.         0.46755885 1.         1.        ]\n",
      "[0.         0.00154515 0.00168277 0.00170484]\n",
      "[   5  855  854 1226]\n",
      "[1.         0.57383698 0.51197611 1.        ]\n",
      "[0.         0.00154515 0.00170484 0.00170484]\n",
      "[   6  859  858 1242]\n",
      "[1.         0.62170929 0.70110623 1.        ]\n",
      "[0.         0.00155317 0.00170484 0.00170484]\n",
      "[   7  541  540 1242]\n",
      "[1.         0.9589213  0.81353002 1.        ]\n",
      "[0.         0.00170484 0.00170484 0.00174149]\n",
      "[   8 1238  778  779]\n",
      "[1.         1.         1.         1.00495466]\n",
      "[0.         0.00165877 0.00170484 0.00170484]\n",
      "[   9  810 1238 1254]\n",
      "[1.         0.63806193 1.         1.        ]\n",
      "Weights [[1000078.45480719]\n",
      " [1000078.45480719]\n",
      " [1000073.60085994]\n",
      " [1000073.60085994]\n",
      " [1000074.21823764]\n",
      " [1000074.03459327]\n",
      " [1000073.87630827]\n",
      " [1000073.81054558]]\n",
      "Values [[9.99982232e-01]\n",
      " [9.99982181e-01]\n",
      " [1.63024801e-05]\n",
      " [1.64793322e-05]\n",
      " [9.99986274e-01]\n",
      " [9.99977264e-01]\n",
      " [9.99983139e-01]\n",
      " [9.99994442e-01]]\n"
     ]
    }
   ],
   "source": [
    "step=10\n",
    "v_soln.read_timestep(checkpoint_base, \"U\", step, outputPath=checkpoint_dir)\n",
    "t_soln.read_timestep(checkpoint_base, \"T\", step, outputPath=checkpoint_dir)\n",
    "\n",
    "\n"
   ]
  },
  {
   "cell_type": "code",
   "execution_count": 8,
   "id": "d3047dde-92ae-444e-9bf8-fb7285bceb01",
   "metadata": {
    "execution": {
     "iopub.execute_input": "2024-08-12T23:46:38.596181Z",
     "iopub.status.busy": "2024-08-12T23:46:38.596064Z",
     "iopub.status.idle": "2024-08-12T23:46:39.188888Z",
     "shell.execute_reply": "2024-08-12T23:46:39.188317Z",
     "shell.execute_reply.started": "2024-08-12T23:46:38.596168Z"
    },
    "scrolled": true
   },
   "outputs": [
    {
     "name": "stdout",
     "output_type": "stream",
     "text": [
      "Local points: 1822\n",
      "Distance N 0:10\n",
      "[0.         0.00110973 0.00170484]\n",
      "[   0  790 1236]\n",
      "[0.99998223 0.40805896 0.99996481]\n",
      "[0.         0.00110973 0.00170484]\n",
      "[   1  792 1237]\n",
      "[0.99998218 0.40635468 0.99996475]\n",
      "[0.         0.00157398 0.00170775]\n",
      "[   2 1654 1676]\n",
      "[1.63024801e-05 3.16502669e-01 1.50082578e-05]\n",
      "[0.         0.00157398 0.00170775]\n",
      "[   3 1655 1678]\n",
      "[1.64793322e-05 3.19537224e-01 1.51140030e-05]\n",
      "[0.         0.00150443 0.00170484]\n",
      "[   4  794 1250]\n",
      "[0.99998627 0.46758313 0.99998579]\n",
      "[0.         0.00154515 0.00168277]\n",
      "[  5 855 854]\n",
      "[0.99997726 0.57385633 0.51198316]\n",
      "[0.         0.00154515 0.00170484]\n",
      "[  6 859 858]\n",
      "[0.99998314 0.62172498 0.70111253]\n",
      "[0.         0.00155317 0.00170484]\n",
      "[  7 541 540]\n",
      "[0.99999444 0.95891965 0.81353201]\n",
      "[0.         0.00170484 0.00170484]\n",
      "[   8 1238  778]\n",
      "[1.00000012 0.99999342 1.00000013]\n",
      "[0.         0.00165877 0.00170484]\n",
      "[   9  810 1238]\n",
      "[0.99999111 0.63806463 0.99999342]\n",
      "Weights [[1000054.23626263]\n",
      " [1000054.23626263]\n",
      " [1000049.40300332]\n",
      " [1000049.40300332]\n",
      " [1000049.99969308]\n",
      " [1000049.81604871]\n",
      " [1000049.65776372]\n",
      " [1000049.59200104]]\n",
      "Values [[9.99964465e-01]\n",
      " [9.99964362e-01]\n",
      " [2.42791400e-05]\n",
      " [2.45324686e-05]\n",
      " [9.99972549e-01]\n",
      " [9.99954529e-01]\n",
      " [9.99966279e-01]\n",
      " [9.99988884e-01]]\n"
     ]
    },
    {
     "data": {
      "application/vnd.jupyter.widget-view+json": {
       "model_id": "b339e026e92445f0ac3374c75bb14ce8",
       "version_major": 2,
       "version_minor": 0
      },
      "text/plain": [
       "Widget(value='<iframe id=\"pyvista-jupyter_trame__template_P_0x1521f0110_0\" src=\"http://localhost:8889/trame-ju…"
      ]
     },
     "metadata": {},
     "output_type": "display_data"
    }
   ],
   "source": [
    "import pyvista as pv\n",
    "import underworld3.visualisation as vis\n",
    "\n",
    "\n",
    "t_cloud = uw.visualisation.meshVariable_to_pv_cloud(t_soln)\n",
    "t_cloud.point_data[\"T\"] = vis.scalar_fn_to_pv_points(t_cloud, t_soln.sym)\n",
    "t_mesh = t_cloud.delaunay_2d(alpha=1/10)\n",
    "pl = pv.Plotter(window_size=[1000, 1000])\n",
    "\n",
    "pl.add_mesh(\n",
    "        t_mesh,\n",
    "        cmap=\"RdBu_r\",\n",
    "        edge_color=\"Black\",\n",
    "        show_edges=False)\n",
    "\n",
    "pl.show()"
   ]
  },
  {
   "cell_type": "code",
   "execution_count": null,
   "id": "759146ba-947b-4b2b-ab02-cb2d564ae027",
   "metadata": {},
   "outputs": [],
   "source": []
  },
  {
   "cell_type": "code",
   "execution_count": 9,
   "id": "95b8ce49-c5e0-4971-84f0-bb4967a0e7fa",
   "metadata": {
    "execution": {
     "iopub.execute_input": "2024-08-12T23:46:39.189563Z",
     "iopub.status.busy": "2024-08-12T23:46:39.189403Z",
     "iopub.status.idle": "2024-08-12T23:46:39.310474Z",
     "shell.execute_reply": "2024-08-12T23:46:39.309967Z",
     "shell.execute_reply.started": "2024-08-12T23:46:39.189554Z"
    }
   },
   "outputs": [
    {
     "ename": "ZeroDivisionError",
     "evalue": "division by zero",
     "output_type": "error",
     "traceback": [
      "\u001b[0;31m---------------------------------------------------------------------------\u001b[0m",
      "\u001b[0;31mZeroDivisionError\u001b[0m                         Traceback (most recent call last)",
      "Cell \u001b[0;32mIn[9], line 1\u001b[0m\n\u001b[0;32m----> 1\u001b[0m \u001b[38;5;241;43m0\u001b[39;49m\u001b[38;5;241;43m/\u001b[39;49m\u001b[38;5;241;43m0\u001b[39;49m\n",
      "\u001b[0;31mZeroDivisionError\u001b[0m: division by zero"
     ]
    }
   ],
   "source": [
    "0/0"
   ]
  },
  {
   "cell_type": "code",
   "execution_count": null,
   "id": "b9768720",
   "metadata": {
    "execution": {
     "iopub.status.busy": "2024-08-12T23:46:39.310871Z",
     "iopub.status.idle": "2024-08-12T23:46:39.310971Z",
     "shell.execute_reply": "2024-08-12T23:46:39.310918Z",
     "shell.execute_reply.started": "2024-08-12T23:46:39.310914Z"
    }
   },
   "outputs": [],
   "source": [
    "steps = range(0,20,10)"
   ]
  },
  {
   "cell_type": "code",
   "execution_count": null,
   "id": "25ffe942",
   "metadata": {
    "execution": {
     "iopub.status.busy": "2024-08-12T23:46:39.311439Z",
     "iopub.status.idle": "2024-08-12T23:46:39.311547Z",
     "shell.execute_reply": "2024-08-12T23:46:39.311493Z",
     "shell.execute_reply.started": "2024-08-12T23:46:39.311488Z"
    },
    "lines_to_next_cell": 0
   },
   "outputs": [],
   "source": [
    "import mpi4py\n",
    "import pyvista as pv\n",
    "import underworld3.visualisation as vis\n",
    "\n",
    "pl = pv.Plotter(window_size=[1000, 1000])\n",
    "\n",
    "for step in steps:\n",
    "\n",
    "    try:\n",
    "        v_soln.read_timestep(checkpoint_base, \"U\", step, outputPath=checkpoint_dir)\n",
    "        t_soln.read_timestep(checkpoint_base, \"T\", step, outputPath=checkpoint_dir)\n",
    "        print(f\"Plotting step {step}\")\n",
    "\n",
    "    except:\n",
    "        print(f\"Failed to read step {step} correctly\")\n",
    "        continue\n",
    "\n",
    "    pl.clear()\n",
    "\n",
    "    pvmesh = vis.mesh_to_pv_mesh(mesh)\n",
    "    pvmesh.point_data[\"T\"] = vis.scalar_fn_to_pv_points(pvmesh, t_soln.sym[0])\n",
    "    pvmesh.point_data[\"V\"] = vis.vector_fn_to_pv_points(pvmesh, v_soln.sym)\n",
    "    \n",
    "    velocity_points = vis.meshVariable_to_pv_cloud(v_soln)\n",
    "    velocity_points.point_data[\"V\"] = vis.vector_fn_to_pv_points(velocity_points, v_soln.sym)\n",
    "\n",
    "    temperature_points = vis.meshVariable_to_pv_cloud(t_soln)\n",
    "    temperature_points.point_data[\"T\"] = vis.scalar_fn_to_pv_points(temperature_points, t_soln.sym)\n",
    "\n",
    "    # point sources at cell centres\n",
    "    skip = 15\n",
    "    points = np.zeros((mesh._centroids[::skip].shape[0], 3))\n",
    "    points[:, 0] = mesh._centroids[::skip, 0]\n",
    "    points[:, 1] = mesh._centroids[::skip, 1]\n",
    "    point_cloud = pv.PolyData(points)\n",
    "    \n",
    "    pvstream = pvmesh.streamlines_from_source(\n",
    "        point_cloud,\n",
    "        vectors=\"V\",\n",
    "        integration_direction=\"both\",\n",
    "        max_time=1,\n",
    "        surface_streamlines=True,\n",
    "    )\n",
    "    \n",
    "    pl.add_mesh(\n",
    "        pvmesh,\n",
    "        cmap=\"RdBu_r\",\n",
    "        edge_color=\"Black\",\n",
    "        show_edges=False,\n",
    "        scalars=\"T\",\n",
    "        use_transparency=False,\n",
    "        opacity=1.0,\n",
    "        show_scalar_bar=False\n",
    "    )\n",
    "    \n",
    "    pl.add_mesh(pvstream, opacity=0.4, show_scalar_bar=False)    \n",
    "    pl.add_points(point_cloud, color=\"White\", point_size=3.0, opacity=0.25)\n",
    "    # pl.add_points(temperature_points, \n",
    "    #               render_points_as_spheres=True,\n",
    "    #               cmap=\"RdBu_r\", scalars=\"T\", \n",
    "    #               point_size=5.0, opacity=1,\n",
    "    #               show_scalar_bar=False,\n",
    "    #              )\n",
    "\n",
    "\n",
    "    \n",
    "    imagefile = os.path.join(checkpoint_dir, checkpoint_base) + f\"{step}.png\"\n",
    "    \n",
    "    pl.screenshot(filename=imagefile, window_size=(1000, 1000), return_img=False)\n",
    "\n"
   ]
  },
  {
   "cell_type": "code",
   "execution_count": null,
   "id": "ef5a9c93",
   "metadata": {
    "execution": {
     "iopub.status.busy": "2024-08-12T23:46:39.311851Z",
     "iopub.status.idle": "2024-08-12T23:46:39.312015Z",
     "shell.execute_reply": "2024-08-12T23:46:39.311962Z",
     "shell.execute_reply.started": "2024-08-12T23:46:39.311958Z"
    }
   },
   "outputs": [],
   "source": [
    "pl.show()"
   ]
  },
  {
   "cell_type": "code",
   "execution_count": null,
   "id": "726f0636",
   "metadata": {
    "execution": {
     "iopub.status.busy": "2024-08-12T23:46:39.312272Z",
     "iopub.status.idle": "2024-08-12T23:46:39.312361Z",
     "shell.execute_reply": "2024-08-12T23:46:39.312314Z",
     "shell.execute_reply.started": "2024-08-12T23:46:39.312310Z"
    }
   },
   "outputs": [],
   "source": [
    "## Calculate heat flux, evaluate at surface — proxy for boundary layer thickness"
   ]
  },
  {
   "cell_type": "code",
   "execution_count": null,
   "id": "4d9cfedc",
   "metadata": {
    "execution": {
     "iopub.status.busy": "2024-08-12T23:46:39.312646Z",
     "iopub.status.idle": "2024-08-12T23:46:39.312745Z",
     "shell.execute_reply": "2024-08-12T23:46:39.312689Z",
     "shell.execute_reply.started": "2024-08-12T23:46:39.312686Z"
    }
   },
   "outputs": [],
   "source": [
    "flux_solver = uw.systems.Projection(mesh, flux)\n",
    "\n",
    "# Conductive flux only !\n",
    "radial_flux = -mesh.vector.gradient(t_soln.sym[0]).dot(mesh.CoordinateSystem.unit_e_0)\n",
    "radial_flux *= sympy.exp(-100*(r-1)**2) \n",
    "\n",
    "flux_solver.uw_function = radial_flux\n",
    "flux_solver.smoothing = 1.0e-3\n",
    "flux_solver.solve()"
   ]
  },
  {
   "cell_type": "code",
   "execution_count": null,
   "id": "14253218",
   "metadata": {
    "execution": {
     "iopub.status.busy": "2024-08-12T23:46:39.313030Z",
     "iopub.status.idle": "2024-08-12T23:46:39.313121Z",
     "shell.execute_reply": "2024-08-12T23:46:39.313070Z",
     "shell.execute_reply.started": "2024-08-12T23:46:39.313066Z"
    },
    "lines_to_next_cell": 0
   },
   "outputs": [],
   "source": [
    "import mpi4py\n",
    "import pyvista as pv\n",
    "import underworld3.visualisation as vis\n",
    "\n",
    "pvmesh = vis.mesh_to_pv_mesh(mesh)\n",
    "pvmesh.point_data[\"dTdz\"] = vis.scalar_fn_to_pv_points(pvmesh, flux.sym[0])\n",
    "pvmesh.point_data[\"V\"] = vis.vector_fn_to_pv_points(pvmesh, v_soln.sym)\n",
    "pvmesh.point_data[\"V\"] -= pvmesh.point_data[\"V\"].mean()\n",
    "\n",
    "velocity_points = vis.meshVariable_to_pv_cloud(v_soln)\n",
    "velocity_points.point_data[\"V\"] = vis.vector_fn_to_pv_points(velocity_points, v_soln.sym)\n",
    "\n",
    "# point sources at cell centres\n",
    "skip = 1\n",
    "points = np.zeros((mesh._centroids[::skip].shape[0], 3))\n",
    "points[:, 0] = mesh._centroids[::skip, 0]\n",
    "points[:, 1] = mesh._centroids[::skip, 1]\n",
    "point_cloud = pv.PolyData(points)\n",
    "\n",
    "pvstream = pvmesh.streamlines_from_source(\n",
    "    point_cloud,\n",
    "    vectors=\"V\",\n",
    "    integration_direction=\"both\",\n",
    "    max_time=0.5,\n",
    ")\n",
    "\n",
    "pl = pv.Plotter(window_size=[1000, 1000])\n",
    "\n",
    "pl.add_mesh(\n",
    "    pvmesh,\n",
    "    cmap=\"Reds\",\n",
    "    edge_color=\"Black\",\n",
    "    show_edges=True,\n",
    "    scalars=\"dTdz\",\n",
    "    use_transparency=False,\n",
    "    opacity=1.0,\n",
    ")\n",
    "\n",
    "# \n",
    "# pl.add_mesh(pvmesh, \"Black\", \"wireframe\",  opacity=0.1)\n",
    "\n",
    "# pl.add_points(point_cloud, color=\"White\", point_size=3.0, opacity=0.25)\n",
    "\n",
    "# pl.add_arrows(velocity_points.points, velocity_points.point_data[\"V\"], mag=0.0001, show_scalar_bar=True)\n",
    "pl.add_mesh(pvstream, opacity=0.4, show_scalar_bar=False)\n",
    "    \n",
    "# pl.remove_scalar_bar(\"V\")\n",
    "\n",
    "imagefile = os.path.join(checkpoint_dir, checkpoint_base) + f\"{step}.png\"\n",
    "\n",
    "pl.screenshot(filename=imagefile, window_size=(1000, 1000), return_img=False)\n",
    "# OR\n"
   ]
  },
  {
   "cell_type": "code",
   "execution_count": null,
   "id": "8ba2cf38",
   "metadata": {
    "execution": {
     "iopub.status.busy": "2024-08-12T23:46:39.313455Z",
     "iopub.status.idle": "2024-08-12T23:46:39.313552Z",
     "shell.execute_reply": "2024-08-12T23:46:39.313496Z",
     "shell.execute_reply.started": "2024-08-12T23:46:39.313492Z"
    },
    "lines_to_next_cell": 2
   },
   "outputs": [],
   "source": [
    "pl.show()"
   ]
  },
  {
   "cell_type": "code",
   "execution_count": null,
   "id": "f6bc3bc7-2164-4799-9f00-f6cfef07058d",
   "metadata": {
    "execution": {
     "iopub.status.busy": "2024-08-12T23:46:39.313790Z",
     "iopub.status.idle": "2024-08-12T23:46:39.313877Z",
     "shell.execute_reply": "2024-08-12T23:46:39.313830Z",
     "shell.execute_reply.started": "2024-08-12T23:46:39.313826Z"
    }
   },
   "outputs": [],
   "source": [
    "0/0"
   ]
  },
  {
   "cell_type": "code",
   "execution_count": null,
   "id": "a3b5759e-b8f6-4cf9-a437-578043f0886c",
   "metadata": {},
   "outputs": [],
   "source": []
  },
  {
   "cell_type": "code",
   "execution_count": null,
   "id": "c5400a52-e5d6-400a-825b-1bacf34ea443",
   "metadata": {},
   "outputs": [],
   "source": []
  }
 ],
 "metadata": {
  "jupytext": {
   "cell_metadata_filter": "-all",
   "main_language": "python",
   "notebook_metadata_filter": "-all"
  },
  "kernelspec": {
   "display_name": "Python 3 (ipykernel)",
   "language": "python",
   "name": "python3"
  },
  "language_info": {
   "codemirror_mode": {
    "name": "ipython",
    "version": 3
   },
   "file_extension": ".py",
   "mimetype": "text/x-python",
   "name": "python",
   "nbconvert_exporter": "python",
   "pygments_lexer": "ipython3",
   "version": "3.11.8"
  }
 },
 "nbformat": 4,
 "nbformat_minor": 5
}
