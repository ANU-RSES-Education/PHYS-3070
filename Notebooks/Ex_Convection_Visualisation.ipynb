{
 "cells": [
  {
   "cell_type": "markdown",
   "id": "4d23436d",
   "metadata": {},
   "source": [
    "## Visualise stokes annulus model (flow etc)"
   ]
  },
  {
   "cell_type": "code",
   "execution_count": 1,
   "id": "f56963d3",
   "metadata": {
    "execution": {
     "iopub.execute_input": "2024-08-13T11:38:03.167002Z",
     "iopub.status.busy": "2024-08-13T11:38:03.166932Z",
     "iopub.status.idle": "2024-08-13T11:38:03.169442Z",
     "shell.execute_reply": "2024-08-13T11:38:03.169260Z",
     "shell.execute_reply.started": "2024-08-13T11:38:03.166994Z"
    }
   },
   "outputs": [],
   "source": [
    "# to fix trame issue\n",
    "import nest_asyncio\n",
    "nest_asyncio.apply()\n",
    "import os"
   ]
  },
  {
   "cell_type": "code",
   "execution_count": 2,
   "id": "0b026768",
   "metadata": {
    "execution": {
     "iopub.execute_input": "2024-08-13T11:38:03.169976Z",
     "iopub.status.busy": "2024-08-13T11:38:03.169864Z",
     "iopub.status.idle": "2024-08-13T11:38:04.155638Z",
     "shell.execute_reply": "2024-08-13T11:38:04.155351Z",
     "shell.execute_reply.started": "2024-08-13T11:38:03.169967Z"
    }
   },
   "outputs": [],
   "source": [
    "import petsc4py\n",
    "import underworld3 as uw\n",
    "import numpy as np\n",
    "import sympy"
   ]
  },
  {
   "cell_type": "code",
   "execution_count": 3,
   "id": "8c3f6ccb",
   "metadata": {
    "execution": {
     "iopub.execute_input": "2024-08-13T11:38:04.156251Z",
     "iopub.status.busy": "2024-08-13T11:38:04.156130Z",
     "iopub.status.idle": "2024-08-13T11:38:04.283512Z",
     "shell.execute_reply": "2024-08-13T11:38:04.283170Z",
     "shell.execute_reply.started": "2024-08-13T11:38:04.156243Z"
    }
   },
   "outputs": [
    {
     "name": "stdout",
     "output_type": "stream",
     "text": [
      "total 0\n",
      "drwxr-xr-x  2385 lmoresi  staff  76320 Aug 13 21:37 \u001b[34mRa1e5\u001b[m\u001b[m/\n"
     ]
    }
   ],
   "source": [
    "ls -trl output/annulus/ | tail"
   ]
  },
  {
   "cell_type": "code",
   "execution_count": 4,
   "id": "bf972017",
   "metadata": {
    "execution": {
     "iopub.execute_input": "2024-08-13T11:38:04.284155Z",
     "iopub.status.busy": "2024-08-13T11:38:04.284073Z",
     "iopub.status.idle": "2024-08-13T11:38:04.421984Z",
     "shell.execute_reply": "2024-08-13T11:38:04.421592Z",
     "shell.execute_reply.started": "2024-08-13T11:38:04.284143Z"
    }
   },
   "outputs": [
    {
     "name": "stdout",
     "output_type": "stream",
     "text": [
      "-rw-r--r--    1 lmoresi  staff  220952 Aug 13 21:37 annulus_ckpt.mesh.T.00592.h5\n",
      "-rw-r--r--    1 lmoresi  staff    3030 Aug 13 21:37 annulus_ckpt.mesh.00592.xdmf\n",
      "-rw-r--r--    1 lmoresi  staff  129560 Aug 13 21:37 annulus_ckpt.mesh.U.00593.h5\n",
      "-rw-r--r--    1 lmoresi  staff   49576 Aug 13 21:37 annulus_ckpt.mesh.P.00593.h5\n",
      "-rw-r--r--    1 lmoresi  staff  220952 Aug 13 21:37 annulus_ckpt.mesh.T.00593.h5\n",
      "-rw-r--r--    1 lmoresi  staff    3030 Aug 13 21:37 annulus_ckpt.mesh.00593.xdmf\n",
      "-rw-r--r--    1 lmoresi  staff  129560 Aug 13 21:37 annulus_ckpt.mesh.U.00594.h5\n",
      "-rw-r--r--    1 lmoresi  staff   49576 Aug 13 21:37 annulus_ckpt.mesh.P.00594.h5\n",
      "-rw-r--r--    1 lmoresi  staff  220952 Aug 13 21:37 annulus_ckpt.mesh.T.00594.h5\n",
      "-rw-r--r--    1 lmoresi  staff    3030 Aug 13 21:37 annulus_ckpt.mesh.00594.xdmf\n"
     ]
    }
   ],
   "source": [
    "ls -trl output/annulus/Ra1e5/ | tail"
   ]
  },
  {
   "cell_type": "code",
   "execution_count": 5,
   "id": "9a912364",
   "metadata": {
    "execution": {
     "iopub.execute_input": "2024-08-13T11:38:04.425243Z",
     "iopub.status.busy": "2024-08-13T11:38:04.425094Z",
     "iopub.status.idle": "2024-08-13T11:38:04.428142Z",
     "shell.execute_reply": "2024-08-13T11:38:04.427850Z",
     "shell.execute_reply.started": "2024-08-13T11:38:04.425226Z"
    },
    "lines_to_next_cell": 2
   },
   "outputs": [],
   "source": [
    "checkpoint_dir = \"output/annulus/Ra1e5\"\n",
    "checkpoint_base = f\"annulus_ckpt\"\n",
    "meshfile = os.path.join(checkpoint_dir, checkpoint_base) + \".mesh.00000.h5\"\n",
    "image_dir = os.path.join(\"output/annulus/Ra1e5\",\"images\")\n",
    "os.makedirs(image_dir, exist_ok=True)"
   ]
  },
  {
   "cell_type": "code",
   "execution_count": 6,
   "id": "b5d63def",
   "metadata": {
    "execution": {
     "iopub.execute_input": "2024-08-13T11:38:04.428714Z",
     "iopub.status.busy": "2024-08-13T11:38:04.428616Z",
     "iopub.status.idle": "2024-08-13T11:38:04.539889Z",
     "shell.execute_reply": "2024-08-13T11:38:04.539552Z",
     "shell.execute_reply.started": "2024-08-13T11:38:04.428705Z"
    }
   },
   "outputs": [],
   "source": [
    "r_i = 0.5\n",
    "r_o = 1.0\n",
    "\n",
    "mesh = uw.discretisation.Mesh(meshfile, \n",
    "                              coordinate_system_type=uw.coordinates.CoordinateSystemType.CYLINDRICAL2D)\n",
    "\n",
    "x = mesh.N.x\n",
    "y = mesh.N.y\n",
    "\n",
    "r = sympy.sqrt(x**2 + y**2)  # cf radius_fn which is 0->1\n",
    "th = sympy.atan2(y + 1.0e-5, x + 1.0e-5)\n",
    "\n",
    "v_soln = uw.discretisation.MeshVariable(\"U\", mesh, mesh.dim, degree=2)\n",
    "t_soln = uw.discretisation.MeshVariable(\"T\", mesh, 1, degree=3)\n",
    "flux = uw.discretisation.MeshVariable(r\"dTdz\", mesh, 1, degree=1)"
   ]
  },
  {
   "cell_type": "code",
   "execution_count": 12,
   "id": "b9768720",
   "metadata": {
    "execution": {
     "iopub.execute_input": "2024-08-13T22:52:12.100129Z",
     "iopub.status.busy": "2024-08-13T22:52:12.099398Z",
     "iopub.status.idle": "2024-08-13T22:52:12.113864Z",
     "shell.execute_reply": "2024-08-13T22:52:12.112978Z",
     "shell.execute_reply.started": "2024-08-13T22:52:12.100051Z"
    }
   },
   "outputs": [],
   "source": [
    "steps = range(600,800,1)"
   ]
  },
  {
   "cell_type": "code",
   "execution_count": 13,
   "id": "25ffe942",
   "metadata": {
    "execution": {
     "iopub.execute_input": "2024-08-13T22:52:12.553874Z",
     "iopub.status.busy": "2024-08-13T22:52:12.553256Z",
     "iopub.status.idle": "2024-08-13T22:52:51.788799Z",
     "shell.execute_reply": "2024-08-13T22:52:51.788188Z",
     "shell.execute_reply.started": "2024-08-13T22:52:12.553829Z"
    },
    "lines_to_next_cell": 0
   },
   "outputs": [
    {
     "name": "stdout",
     "output_type": "stream",
     "text": [
      "Plotting step 600\n",
      "Plotting step 601\n",
      "Plotting step 602\n",
      "Plotting step 603\n",
      "Plotting step 604\n",
      "Plotting step 605\n",
      "Plotting step 606\n",
      "Plotting step 607\n",
      "Plotting step 608\n",
      "Plotting step 609\n",
      "Plotting step 610\n",
      "Plotting step 611\n",
      "Plotting step 612\n",
      "Plotting step 613\n",
      "Plotting step 614\n",
      "Plotting step 615\n",
      "Plotting step 616\n",
      "Plotting step 617\n",
      "Plotting step 618\n",
      "Plotting step 619\n",
      "Plotting step 620\n",
      "Plotting step 621\n",
      "Plotting step 622\n",
      "Plotting step 623\n",
      "Plotting step 624\n",
      "Plotting step 625\n",
      "Plotting step 626\n",
      "Plotting step 627\n",
      "Plotting step 628\n",
      "Plotting step 629\n",
      "Plotting step 630\n",
      "Plotting step 631\n",
      "Plotting step 632\n",
      "Plotting step 633\n",
      "Plotting step 634\n",
      "Plotting step 635\n",
      "Plotting step 636\n",
      "Plotting step 637\n",
      "Plotting step 638\n",
      "Plotting step 639\n",
      "Plotting step 640\n",
      "Plotting step 641\n",
      "Plotting step 642\n",
      "Plotting step 643\n",
      "Plotting step 644\n",
      "Plotting step 645\n",
      "Plotting step 646\n",
      "Plotting step 647\n",
      "Plotting step 648\n",
      "Plotting step 649\n",
      "Plotting step 650\n",
      "Plotting step 651\n",
      "Plotting step 652\n",
      "Plotting step 653\n",
      "Plotting step 654\n",
      "Plotting step 655\n",
      "Plotting step 656\n",
      "Plotting step 657\n",
      "Plotting step 658\n",
      "Plotting step 659\n",
      "Plotting step 660\n",
      "Plotting step 661\n",
      "Plotting step 662\n",
      "Plotting step 663\n",
      "Plotting step 664\n",
      "Plotting step 665\n",
      "Plotting step 666\n",
      "Plotting step 667\n",
      "Plotting step 668\n",
      "Plotting step 669\n",
      "Plotting step 670\n",
      "Plotting step 671\n",
      "Plotting step 672\n",
      "Plotting step 673\n",
      "Plotting step 674\n",
      "Plotting step 675\n",
      "Plotting step 676\n",
      "Plotting step 677\n",
      "Plotting step 678\n",
      "Plotting step 679\n",
      "Plotting step 680\n",
      "Plotting step 681\n",
      "Plotting step 682\n",
      "Plotting step 683\n",
      "Plotting step 684\n",
      "Plotting step 685\n",
      "Plotting step 686\n",
      "Plotting step 687\n",
      "Plotting step 688\n",
      "Plotting step 689\n",
      "Plotting step 690\n",
      "Plotting step 691\n",
      "Plotting step 692\n",
      "Plotting step 693\n",
      "Plotting step 694\n",
      "Plotting step 695\n",
      "Plotting step 696\n",
      "Plotting step 697\n",
      "Plotting step 698\n",
      "Plotting step 699\n",
      "Plotting step 700\n",
      "Plotting step 701\n",
      "Plotting step 702\n",
      "Plotting step 703\n",
      "Plotting step 704\n",
      "Plotting step 705\n",
      "Plotting step 706\n",
      "Plotting step 707\n",
      "Plotting step 708\n",
      "Plotting step 709\n",
      "Plotting step 710\n",
      "Plotting step 711\n",
      "Plotting step 712\n",
      "Plotting step 713\n",
      "Plotting step 714\n",
      "Plotting step 715\n",
      "Plotting step 716\n",
      "Plotting step 717\n",
      "Plotting step 718\n",
      "Plotting step 719\n",
      "Plotting step 720\n",
      "Plotting step 721\n",
      "Plotting step 722\n",
      "Plotting step 723\n",
      "Plotting step 724\n",
      "Plotting step 725\n",
      "Plotting step 726\n",
      "Plotting step 727\n",
      "Plotting step 728\n",
      "Plotting step 729\n",
      "Plotting step 730\n",
      "Plotting step 731\n",
      "Plotting step 732\n",
      "Plotting step 733\n",
      "Plotting step 734\n",
      "Plotting step 735\n",
      "Plotting step 736\n",
      "Plotting step 737\n",
      "Plotting step 738\n",
      "Plotting step 739\n",
      "Plotting step 740\n",
      "Plotting step 741\n",
      "Plotting step 742\n",
      "Plotting step 743\n",
      "Plotting step 744\n",
      "Plotting step 745\n",
      "Plotting step 746\n",
      "Plotting step 747\n",
      "Plotting step 748\n",
      "Plotting step 749\n",
      "Plotting step 750\n",
      "Plotting step 751\n",
      "Plotting step 752\n",
      "Plotting step 753\n",
      "Plotting step 754\n",
      "Plotting step 755\n",
      "Plotting step 756\n",
      "Plotting step 757\n",
      "Plotting step 758\n",
      "Plotting step 759\n",
      "Plotting step 760\n",
      "Plotting step 761\n",
      "Plotting step 762\n",
      "Plotting step 763\n",
      "Plotting step 764\n",
      "Plotting step 765\n",
      "Plotting step 766\n",
      "Plotting step 767\n",
      "Plotting step 768\n",
      "Plotting step 769\n",
      "Plotting step 770\n",
      "Plotting step 771\n",
      "Plotting step 772\n",
      "Plotting step 773\n",
      "Plotting step 774\n",
      "Plotting step 775\n",
      "Plotting step 776\n",
      "Plotting step 777\n",
      "Plotting step 778\n",
      "Plotting step 779\n",
      "Plotting step 780\n",
      "Plotting step 781\n",
      "Plotting step 782\n",
      "Plotting step 783\n",
      "Plotting step 784\n",
      "Plotting step 785\n",
      "Plotting step 786\n",
      "Plotting step 787\n",
      "Plotting step 788\n",
      "Plotting step 789\n",
      "Plotting step 790\n",
      "Plotting step 791\n",
      "Plotting step 792\n",
      "Plotting step 793\n",
      "Plotting step 794\n",
      "Plotting step 795\n",
      "Plotting step 796\n",
      "Plotting step 797\n",
      "Plotting step 798\n",
      "Plotting step 799\n"
     ]
    }
   ],
   "source": [
    "import mpi4py\n",
    "import pyvista as pv\n",
    "import underworld3.visualisation as vis\n",
    "\n",
    "pl = pv.Plotter(window_size=[750, 750])\n",
    "\n",
    "for step in steps:\n",
    "\n",
    "    try:\n",
    "        v_soln.read_timestep(checkpoint_base, \"U\", step, outputPath=checkpoint_dir)\n",
    "        t_soln.read_timestep(checkpoint_base, \"T\", step, outputPath=checkpoint_dir)\n",
    "        print(f\"Plotting step {step}\")\n",
    "\n",
    "    except:\n",
    "        print(f\"Failed to read step {step} correctly\")\n",
    "        continue\n",
    "\n",
    "    pl.clear()\n",
    "\n",
    "    pvmesh = vis.mesh_to_pv_mesh(mesh)\n",
    "    # pvmesh.point_data[\"T\"] = vis.scalar_fn_to_pv_points(pvmesh, t_soln.sym[0])\n",
    "    pvmesh.point_data[\"V\"] = vis.vector_fn_to_pv_points(pvmesh, v_soln.sym)\n",
    "\n",
    "    pvmesh_v = vis.meshVariable_to_pv_mesh_object(v_soln, alpha=None)\n",
    "    pvmesh_t = vis.meshVariable_to_pv_mesh_object(t_soln, alpha=None)\n",
    "\n",
    "    pvmesh_v.point_data[\"V\"] = vis.vector_fn_to_pv_points(pvmesh_v, v_soln.sym)\n",
    "    pvmesh_t.point_data[\"T\"] = vis.scalar_fn_to_pv_points(pvmesh_t, t_soln.sym)\n",
    "    \n",
    "    # point sources at cell centres\n",
    "    skip = 3\n",
    "    points = np.zeros((mesh._centroids[::skip].shape[0], 3))\n",
    "    points[:, 0] = mesh._centroids[::skip, 0]\n",
    "    points[:, 1] = mesh._centroids[::skip, 1]\n",
    "    point_cloud = pv.PolyData(points)\n",
    "    \n",
    "    pvstream = pvmesh.streamlines_from_source(\n",
    "        point_cloud,\n",
    "        vectors=\"V\",\n",
    "        integration_direction=\"both\",\n",
    "        max_time=1,\n",
    "        surface_streamlines=True,\n",
    "    )\n",
    "    \n",
    "    pl.add_mesh(\n",
    "        pvmesh_t,\n",
    "        cmap=\"RdBu_r\",\n",
    "        edge_color=\"Black\",\n",
    "        edge_opacity=0.1,\n",
    "        show_edges=True,\n",
    "        scalars=\"T\",\n",
    "        use_transparency=False,\n",
    "        opacity=1.0,\n",
    "        show_scalar_bar=False\n",
    "    )\n",
    "    \n",
    "    pl.add_mesh(pvstream, opacity=0.4, show_scalar_bar=False)    \n",
    "\n",
    "    imagefile = os.path.join(image_dir, checkpoint_base) + f\"_V_T_{step}.png\"\n",
    "    \n",
    "    pl.screenshot(filename=imagefile, window_size=(1000, 1000), return_img=False)\n",
    "\n"
   ]
  },
  {
   "cell_type": "code",
   "execution_count": 9,
   "id": "ef5a9c93",
   "metadata": {
    "execution": {
     "iopub.execute_input": "2024-08-13T11:39:58.758169Z",
     "iopub.status.busy": "2024-08-13T11:39:58.757973Z",
     "iopub.status.idle": "2024-08-13T11:39:58.818953Z",
     "shell.execute_reply": "2024-08-13T11:39:58.818221Z",
     "shell.execute_reply.started": "2024-08-13T11:39:58.758160Z"
    },
    "scrolled": true
   },
   "outputs": [
    {
     "data": {
      "application/vnd.jupyter.widget-view+json": {
       "model_id": "641937745e4d470ea9df2b84d73f810a",
       "version_major": 2,
       "version_minor": 0
      },
      "text/plain": [
       "Widget(value='<iframe id=\"pyvista-jupyter_trame__template_P_0x16d666b10_0\" src=\"http://localhost:8889/trame-ju…"
      ]
     },
     "metadata": {},
     "output_type": "display_data"
    }
   ],
   "source": [
    "pl.show()"
   ]
  },
  {
   "cell_type": "code",
   "execution_count": 10,
   "id": "726f0636",
   "metadata": {
    "execution": {
     "iopub.execute_input": "2024-08-13T11:39:58.819731Z",
     "iopub.status.busy": "2024-08-13T11:39:58.819633Z",
     "iopub.status.idle": "2024-08-13T11:39:58.822905Z",
     "shell.execute_reply": "2024-08-13T11:39:58.821776Z",
     "shell.execute_reply.started": "2024-08-13T11:39:58.819722Z"
    }
   },
   "outputs": [],
   "source": [
    "## Calculate heat flux, evaluate at surface — proxy for boundary layer thickness"
   ]
  },
  {
   "cell_type": "code",
   "execution_count": 11,
   "id": "87481e74-81d9-40fc-939f-deb6cccf6af0",
   "metadata": {
    "execution": {
     "iopub.execute_input": "2024-08-13T11:39:58.823421Z",
     "iopub.status.busy": "2024-08-13T11:39:58.823339Z",
     "iopub.status.idle": "2024-08-13T11:39:59.080248Z",
     "shell.execute_reply": "2024-08-13T11:39:59.078854Z",
     "shell.execute_reply.started": "2024-08-13T11:39:58.823412Z"
    }
   },
   "outputs": [
    {
     "ename": "ZeroDivisionError",
     "evalue": "division by zero",
     "output_type": "error",
     "traceback": [
      "\u001b[0;31m---------------------------------------------------------------------------\u001b[0m",
      "\u001b[0;31mZeroDivisionError\u001b[0m                         Traceback (most recent call last)",
      "Cell \u001b[0;32mIn[11], line 1\u001b[0m\n\u001b[0;32m----> 1\u001b[0m \u001b[38;5;241;43m0\u001b[39;49m\u001b[38;5;241;43m/\u001b[39;49m\u001b[38;5;241;43m0\u001b[39;49m\n",
      "\u001b[0;31mZeroDivisionError\u001b[0m: division by zero"
     ]
    }
   ],
   "source": []
  },
  {
   "cell_type": "code",
   "execution_count": null,
   "id": "4d9cfedc",
   "metadata": {
    "execution": {
     "iopub.status.busy": "2024-08-13T11:39:59.080614Z",
     "iopub.status.idle": "2024-08-13T11:39:59.080774Z",
     "shell.execute_reply": "2024-08-13T11:39:59.080715Z",
     "shell.execute_reply.started": "2024-08-13T11:39:59.080710Z"
    }
   },
   "outputs": [],
   "source": [
    "flux_solver = uw.systems.Projection(mesh, flux)\n",
    "\n",
    "# Conductive flux only !\n",
    "radial_flux = -mesh.vector.gradient(t_soln.sym[0]).dot(mesh.CoordinateSystem.unit_e_0)\n",
    "radial_flux *= sympy.exp(-100*(r-1)**2) \n",
    "\n",
    "flux_solver.uw_function = radial_flux\n",
    "flux_solver.smoothing = 1.0e-3\n",
    "flux_solver.solve()"
   ]
  },
  {
   "cell_type": "code",
   "execution_count": null,
   "id": "14253218",
   "metadata": {
    "execution": {
     "iopub.status.busy": "2024-08-13T11:39:59.081121Z",
     "iopub.status.idle": "2024-08-13T11:39:59.081303Z",
     "shell.execute_reply": "2024-08-13T11:39:59.081174Z",
     "shell.execute_reply.started": "2024-08-13T11:39:59.081170Z"
    },
    "lines_to_next_cell": 0
   },
   "outputs": [],
   "source": [
    "import mpi4py\n",
    "import pyvista as pv\n",
    "import underworld3.visualisation as vis\n",
    "\n",
    "pvmesh = vis.mesh_to_pv_mesh(mesh)\n",
    "pvmesh.point_data[\"dTdz\"] = vis.scalar_fn_to_pv_points(pvmesh, flux.sym[0])\n",
    "pvmesh.point_data[\"V\"] = vis.vector_fn_to_pv_points(pvmesh, v_soln.sym)\n",
    "pvmesh.point_data[\"V\"] -= pvmesh.point_data[\"V\"].mean()\n",
    "\n",
    "velocity_points = vis.meshVariable_to_pv_cloud(v_soln)\n",
    "velocity_points.point_data[\"V\"] = vis.vector_fn_to_pv_points(velocity_points, v_soln.sym)\n",
    "\n",
    "# point sources at cell centres\n",
    "skip = 8\n",
    "points = np.zeros((mesh._centroids[::skip].shape[0], 3))\n",
    "points[:, 0] = mesh._centroids[::skip, 0]\n",
    "points[:, 1] = mesh._centroids[::skip, 1]\n",
    "point_cloud = pv.PolyData(points)\n",
    "\n",
    "pvstream = pvmesh.streamlines_from_source(\n",
    "    point_cloud,\n",
    "    vectors=\"V\",\n",
    "    integration_direction=\"both\",\n",
    "    max_time=0.5,\n",
    ")\n",
    "\n",
    "pl = pv.Plotter(window_size=[1000, 1000])\n",
    "\n",
    "pl.add_mesh(\n",
    "    pvmesh,\n",
    "    cmap=\"Reds\",\n",
    "    edge_color=\"Black\",\n",
    "    show_edges=True,\n",
    "    scalars=\"dTdz\",\n",
    "    use_transparency=False,\n",
    "    opacity=1.0,\n",
    ")\n",
    "\n",
    "# \n",
    "# pl.add_mesh(pvmesh, \"Black\", \"wireframe\",  opacity=0.1)\n",
    "\n",
    "# pl.add_points(point_cloud, color=\"White\", point_size=3.0, opacity=0.25)\n",
    "\n",
    "# pl.add_arrows(velocity_points.points, velocity_points.point_data[\"V\"], mag=0.0001, show_scalar_bar=True)\n",
    "pl.add_mesh(pvstream, opacity=0.4, show_scalar_bar=False)\n",
    "    \n",
    "# pl.remove_scalar_bar(\"V\")\n",
    "\n",
    "imagefile = os.path.join(image_dir, checkpoint_base) + f\"_dTdr_{step}.png\"\n",
    "\n",
    "pl.screenshot(filename=imagefile, window_size=(1000, 1000), return_img=False)\n",
    "# OR\n"
   ]
  },
  {
   "cell_type": "code",
   "execution_count": null,
   "id": "8ba2cf38",
   "metadata": {
    "execution": {
     "iopub.status.busy": "2024-08-13T11:39:59.082061Z",
     "iopub.status.idle": "2024-08-13T11:39:59.082307Z",
     "shell.execute_reply": "2024-08-13T11:39:59.082189Z",
     "shell.execute_reply.started": "2024-08-13T11:39:59.082178Z"
    },
    "lines_to_next_cell": 2
   },
   "outputs": [],
   "source": [
    "pl.show()"
   ]
  },
  {
   "cell_type": "code",
   "execution_count": null,
   "id": "f6bc3bc7-2164-4799-9f00-f6cfef07058d",
   "metadata": {
    "execution": {
     "iopub.status.busy": "2024-08-13T11:39:59.082823Z",
     "iopub.status.idle": "2024-08-13T11:39:59.082945Z",
     "shell.execute_reply": "2024-08-13T11:39:59.082891Z",
     "shell.execute_reply.started": "2024-08-13T11:39:59.082887Z"
    }
   },
   "outputs": [],
   "source": [
    "! open ."
   ]
  },
  {
   "cell_type": "code",
   "execution_count": null,
   "id": "6c6b7b64-307f-4431-8200-a57302efcca8",
   "metadata": {},
   "outputs": [],
   "source": []
  }
 ],
 "metadata": {
  "jupytext": {
   "cell_metadata_filter": "-all",
   "main_language": "python",
   "notebook_metadata_filter": "-all"
  },
  "kernelspec": {
   "display_name": "Python 3 (ipykernel)",
   "language": "python",
   "name": "python3"
  },
  "language_info": {
   "codemirror_mode": {
    "name": "ipython",
    "version": 3
   },
   "file_extension": ".py",
   "mimetype": "text/x-python",
   "name": "python",
   "nbconvert_exporter": "python",
   "pygments_lexer": "ipython3",
   "version": "3.11.8"
  }
 },
 "nbformat": 4,
 "nbformat_minor": 5
}
