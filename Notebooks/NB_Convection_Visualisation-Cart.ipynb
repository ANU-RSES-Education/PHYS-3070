{
 "cells": [
  {
   "cell_type": "markdown",
   "id": "4d23436d",
   "metadata": {},
   "source": [
    "## Visualise stokes annulus model (flow etc)"
   ]
  },
  {
   "cell_type": "code",
   "execution_count": 1,
   "id": "f56963d3",
   "metadata": {
    "execution": {
     "iopub.execute_input": "2024-08-19T19:32:33.907908Z",
     "iopub.status.busy": "2024-08-19T19:32:33.907370Z",
     "iopub.status.idle": "2024-08-19T19:32:33.919111Z",
     "shell.execute_reply": "2024-08-19T19:32:33.917944Z",
     "shell.execute_reply.started": "2024-08-19T19:32:33.907836Z"
    }
   },
   "outputs": [],
   "source": [
    "# to fix trame issue\n",
    "import nest_asyncio\n",
    "nest_asyncio.apply()\n",
    "import os"
   ]
  },
  {
   "cell_type": "code",
   "execution_count": 2,
   "id": "0b026768",
   "metadata": {
    "execution": {
     "iopub.execute_input": "2024-08-19T19:32:34.101202Z",
     "iopub.status.busy": "2024-08-19T19:32:34.100007Z",
     "iopub.status.idle": "2024-08-19T19:32:37.649541Z",
     "shell.execute_reply": "2024-08-19T19:32:37.649262Z",
     "shell.execute_reply.started": "2024-08-19T19:32:34.100980Z"
    }
   },
   "outputs": [
    {
     "name": "stderr",
     "output_type": "stream",
     "text": [
      "[Lyrebird.local:29776] shmem: mmap: an error occurred while determining whether or not /var/folders/tx/95gr762j29z4tt5d1dnqlgth0000gn/T//ompi.Lyrebird.501/jf.0/1837039616/sm_segment.Lyrebird.501.6d7f0000.0 could be created.\n"
     ]
    }
   ],
   "source": [
    "import petsc4py\n",
    "import underworld3 as uw\n",
    "import numpy as np\n",
    "import sympy"
   ]
  },
  {
   "cell_type": "code",
   "execution_count": 3,
   "id": "8c3f6ccb",
   "metadata": {
    "execution": {
     "iopub.execute_input": "2024-08-19T19:32:37.650390Z",
     "iopub.status.busy": "2024-08-19T19:32:37.650242Z",
     "iopub.status.idle": "2024-08-19T19:32:37.779784Z",
     "shell.execute_reply": "2024-08-19T19:32:37.779306Z",
     "shell.execute_reply.started": "2024-08-19T19:32:37.650378Z"
    }
   },
   "outputs": [
    {
     "name": "stdout",
     "output_type": "stream",
     "text": [
      "total 0\n",
      "drwxr-xr-x@ 1409 lmoresi  staff  45088 Aug 19 21:32 \u001b[34mRa1e6.0\u001b[m\u001b[m/\n",
      "drwxr-xr-x   601 lmoresi  staff  19232 Aug 20 05:19 \u001b[34mRa1e7.0\u001b[m\u001b[m/\n"
     ]
    }
   ],
   "source": [
    "ls -trl output/cartesian/ | tail"
   ]
  },
  {
   "cell_type": "code",
   "execution_count": 4,
   "id": "bf972017",
   "metadata": {
    "execution": {
     "iopub.execute_input": "2024-08-19T19:32:37.780723Z",
     "iopub.status.busy": "2024-08-19T19:32:37.780587Z",
     "iopub.status.idle": "2024-08-19T19:32:37.916383Z",
     "shell.execute_reply": "2024-08-19T19:32:37.915711Z",
     "shell.execute_reply.started": "2024-08-19T19:32:37.780703Z"
    }
   },
   "outputs": [
    {
     "name": "stdout",
     "output_type": "stream",
     "text": [
      "-rw-r--r--   1 lmoresi  staff  724904 Aug 19 22:35 cartesian_Ra1e7.0_res20.mesh.T.00146.h5\n",
      "-rw-r--r--   1 lmoresi  staff    3086 Aug 19 22:35 cartesian_Ra1e7.0_res20.mesh.00146.xdmf\n",
      "-rw-r--r--   1 lmoresi  staff  412472 Aug 19 22:37 cartesian_Ra1e7.0_res20.mesh.U.00147.h5\n",
      "-rw-r--r--   1 lmoresi  staff  135784 Aug 19 22:37 cartesian_Ra1e7.0_res20.mesh.P.00147.h5\n",
      "-rw-r--r--   1 lmoresi  staff  724904 Aug 19 22:37 cartesian_Ra1e7.0_res20.mesh.T.00147.h5\n",
      "-rw-r--r--   1 lmoresi  staff    3086 Aug 19 22:37 cartesian_Ra1e7.0_res20.mesh.00147.xdmf\n",
      "-rw-r--r--   1 lmoresi  staff  412472 Aug 19 22:43 cartesian_Ra1e7.0_res20.mesh.U.00148.h5\n",
      "-rw-r--r--   1 lmoresi  staff  135784 Aug 19 22:43 cartesian_Ra1e7.0_res20.mesh.P.00148.h5\n",
      "-rw-r--r--   1 lmoresi  staff  724904 Aug 19 22:43 cartesian_Ra1e7.0_res20.mesh.T.00148.h5\n",
      "-rw-r--r--   1 lmoresi  staff    3086 Aug 19 22:43 cartesian_Ra1e7.0_res20.mesh.00148.xdmf\n"
     ]
    }
   ],
   "source": [
    "ls -trl output/cartesian/Ra1e7.0/ | tail"
   ]
  },
  {
   "cell_type": "code",
   "execution_count": 5,
   "id": "9a912364",
   "metadata": {
    "execution": {
     "iopub.execute_input": "2024-08-19T19:32:46.589823Z",
     "iopub.status.busy": "2024-08-19T19:32:46.589020Z",
     "iopub.status.idle": "2024-08-19T19:32:46.595311Z",
     "shell.execute_reply": "2024-08-19T19:32:46.594591Z",
     "shell.execute_reply.started": "2024-08-19T19:32:46.589770Z"
    },
    "lines_to_next_cell": 2
   },
   "outputs": [],
   "source": [
    "geometry = \"cartesian\"\n",
    "resolution = 20\n",
    "\n",
    "checkpoint_dir = f\"output/{geometry}/Ra1e7.0\"\n",
    "checkpoint_base = f\"{geometry}_Ra1e7.0_res{resolution}\"\n",
    "meshfile = os.path.join(checkpoint_dir, checkpoint_base) + \".mesh.00000.h5\"\n",
    "image_dir = os.path.join(checkpoint_dir,\"images\")\n",
    "os.makedirs(image_dir, exist_ok=True)"
   ]
  },
  {
   "cell_type": "code",
   "execution_count": 7,
   "id": "b5d63def",
   "metadata": {
    "execution": {
     "iopub.execute_input": "2024-08-19T19:32:57.188776Z",
     "iopub.status.busy": "2024-08-19T19:32:57.188242Z",
     "iopub.status.idle": "2024-08-19T19:32:57.558723Z",
     "shell.execute_reply": "2024-08-19T19:32:57.558497Z",
     "shell.execute_reply.started": "2024-08-19T19:32:57.188745Z"
    }
   },
   "outputs": [],
   "source": [
    "mesh = uw.discretisation.Mesh(meshfile, \n",
    "                              coordinate_system_type=uw.coordinates.CoordinateSystemType.CARTESIAN)\n",
    "    \n",
    "x = mesh.N.x\n",
    "y = mesh.N.y\n",
    "\n",
    "v_soln = uw.discretisation.MeshVariable(\"U\", mesh, mesh.dim, degree=2)\n",
    "t_soln = uw.discretisation.MeshVariable(\"T\", mesh, 1, degree=3)\n",
    "flux = uw.discretisation.MeshVariable(r\"dTdz\", mesh, 1, degree=1)"
   ]
  },
  {
   "cell_type": "code",
   "execution_count": 23,
   "id": "b9768720",
   "metadata": {
    "execution": {
     "iopub.execute_input": "2024-08-19T21:21:35.589869Z",
     "iopub.status.busy": "2024-08-19T21:21:35.586732Z",
     "iopub.status.idle": "2024-08-19T21:21:35.659895Z",
     "shell.execute_reply": "2024-08-19T21:21:35.652106Z",
     "shell.execute_reply.started": "2024-08-19T21:21:35.589840Z"
    }
   },
   "outputs": [],
   "source": [
    "steps = range(300,350,1)"
   ]
  },
  {
   "cell_type": "code",
   "execution_count": 24,
   "id": "25ffe942",
   "metadata": {
    "execution": {
     "iopub.execute_input": "2024-08-19T21:21:35.950621Z",
     "iopub.status.busy": "2024-08-19T21:21:35.950211Z",
     "iopub.status.idle": "2024-08-19T21:21:51.772290Z",
     "shell.execute_reply": "2024-08-19T21:21:51.771538Z",
     "shell.execute_reply.started": "2024-08-19T21:21:35.950610Z"
    },
    "lines_to_next_cell": 0
   },
   "outputs": [
    {
     "name": "stdout",
     "output_type": "stream",
     "text": [
      "Plotting step 300\n",
      "Plotting step 301\n",
      "Plotting step 302\n",
      "Plotting step 303\n",
      "Plotting step 304\n",
      "Plotting step 305\n",
      "Plotting step 306\n",
      "Plotting step 307\n",
      "Plotting step 308\n",
      "Plotting step 309\n",
      "Plotting step 310\n",
      "Plotting step 311\n",
      "Plotting step 312\n",
      "Plotting step 313\n",
      "Plotting step 314\n",
      "Plotting step 315\n",
      "Plotting step 316\n",
      "Plotting step 317\n",
      "Plotting step 318\n",
      "Plotting step 319\n",
      "Plotting step 320\n",
      "Plotting step 321\n",
      "Plotting step 322\n",
      "Plotting step 323\n",
      "Plotting step 324\n",
      "Plotting step 325\n",
      "Plotting step 326\n",
      "Plotting step 327\n",
      "Plotting step 328\n",
      "Plotting step 329\n",
      "Plotting step 330\n",
      "Plotting step 331\n",
      "Failed to read step 332 correctly\n",
      "Failed to read step 333 correctly\n",
      "Failed to read step 334 correctly\n",
      "Failed to read step 335 correctly\n",
      "Failed to read step 336 correctly\n",
      "Failed to read step 337 correctly\n",
      "Failed to read step 338 correctly\n",
      "Failed to read step 339 correctly\n",
      "Failed to read step 340 correctly\n",
      "Failed to read step 341 correctly\n",
      "Failed to read step 342 correctly\n",
      "Failed to read step 343 correctly\n",
      "Failed to read step 344 correctly\n",
      "Failed to read step 345 correctly\n",
      "Failed to read step 346 correctly\n",
      "Failed to read step 347 correctly\n",
      "Failed to read step 348 correctly\n",
      "Failed to read step 349 correctly\n"
     ]
    }
   ],
   "source": [
    "import mpi4py\n",
    "import pyvista as pv\n",
    "import underworld3.visualisation as vis\n",
    "\n",
    "pl = pv.Plotter(window_size=[1000, 500])\n",
    "\n",
    "for step in steps:\n",
    "\n",
    "    try:\n",
    "        v_soln.read_timestep(checkpoint_base, \"U\", step, outputPath=checkpoint_dir)\n",
    "        t_soln.read_timestep(checkpoint_base, \"T\", step, outputPath=checkpoint_dir)\n",
    "        print(f\"Plotting step {step}\")\n",
    "\n",
    "    except:\n",
    "        print(f\"Failed to read step {step} correctly\")\n",
    "        continue\n",
    "\n",
    "    pl.clear()\n",
    "\n",
    "    pvmesh = vis.mesh_to_pv_mesh(mesh)\n",
    "    # pvmesh.point_data[\"T\"] = vis.scalar_fn_to_pv_points(pvmesh, t_soln.sym[0])\n",
    "    pvmesh.point_data[\"V\"] = vis.vector_fn_to_pv_points(pvmesh, v_soln.sym)\n",
    "\n",
    "    pvmesh_v = vis.meshVariable_to_pv_mesh_object(v_soln, alpha=None)\n",
    "    pvmesh_t = vis.meshVariable_to_pv_mesh_object(t_soln, alpha=None)\n",
    "\n",
    "    pvmesh_v.point_data[\"V\"] = vis.vector_fn_to_pv_points(pvmesh_v, v_soln.sym)\n",
    "    pvmesh_t.point_data[\"T\"] = vis.scalar_fn_to_pv_points(pvmesh_t, t_soln.sym)\n",
    "    \n",
    "    # point sources at cell centres\n",
    "    skip = 10\n",
    "    points = np.zeros((mesh._centroids[::skip].shape[0], 3))\n",
    "    points[:, 0] = mesh._centroids[::skip, 0]\n",
    "    points[:, 1] = mesh._centroids[::skip, 1]\n",
    "    point_cloud = pv.PolyData(points)\n",
    "\n",
    "    pl.add_mesh(\n",
    "        pvmesh_t,\n",
    "        cmap=\"RdBu_r\",\n",
    "        edge_color=\"Black\",\n",
    "        edge_opacity=0.1,\n",
    "        show_edges=True,\n",
    "        scalars=\"T\",\n",
    "        use_transparency=False,\n",
    "        opacity=1.0,\n",
    "        show_scalar_bar=False\n",
    "    )\n",
    "\n",
    "    pvstream = pvmesh.streamlines_from_source(\n",
    "        point_cloud,\n",
    "        vectors=\"V\",\n",
    "        integration_direction=\"both\",\n",
    "        max_time=1,\n",
    "        surface_streamlines=True,\n",
    "    )\n",
    "    \n",
    "\n",
    "    pl.add_mesh(pvstream, opacity=0.4, show_scalar_bar=False)    \n",
    "\n",
    "    pl.camera_position = [(3.0, 0.5, 6.750994846396983),\n",
    "                          (3.0, 0.5, 0.0),\n",
    "                          (0.0, 1.0, 0.0)]\n",
    "\n",
    "    imagefile = os.path.join(image_dir, checkpoint_base) + f\"_V_T_{step}.png\"\n",
    "    \n",
    "    pl.screenshot(filename=imagefile,\n",
    "                  window_size=(1000, 500),\n",
    "                  return_img=False)\n",
    "\n"
   ]
  },
  {
   "cell_type": "code",
   "execution_count": 94,
   "id": "ef5a9c93",
   "metadata": {
    "editable": true,
    "execution": {
     "iopub.execute_input": "2024-08-19T11:52:26.217717Z",
     "iopub.status.busy": "2024-08-19T11:52:26.216959Z",
     "iopub.status.idle": "2024-08-19T11:52:26.331314Z",
     "shell.execute_reply": "2024-08-19T11:52:26.330565Z",
     "shell.execute_reply.started": "2024-08-19T11:52:26.217677Z"
    },
    "slideshow": {
     "slide_type": ""
    },
    "tags": []
   },
   "outputs": [
    {
     "data": {
      "application/vnd.jupyter.widget-view+json": {
       "model_id": "564f2fe09a10400d97892784282d3a5b",
       "version_major": 2,
       "version_minor": 0
      },
      "text/plain": [
       "Widget(value='<iframe src=\"http://localhost:62125/index.html?ui=P_0x3a33eb5d0_29&reconnect=auto\" class=\"pyvist…"
      ]
     },
     "metadata": {},
     "output_type": "display_data"
    }
   ],
   "source": [
    "pl.show(jupyter_backend=\"trame\")\n"
   ]
  },
  {
   "cell_type": "code",
   "execution_count": 11,
   "id": "726f0636",
   "metadata": {
    "execution": {
     "iopub.execute_input": "2024-08-19T07:14:20.066997Z",
     "iopub.status.busy": "2024-08-19T07:14:20.066493Z",
     "iopub.status.idle": "2024-08-19T07:14:20.070152Z",
     "shell.execute_reply": "2024-08-19T07:14:20.069437Z",
     "shell.execute_reply.started": "2024-08-19T07:14:20.066981Z"
    }
   },
   "outputs": [],
   "source": [
    "## Calculate heat flux, evaluate at surface — proxy for boundary layer thickness"
   ]
  },
  {
   "cell_type": "code",
   "execution_count": 12,
   "id": "87481e74-81d9-40fc-939f-deb6cccf6af0",
   "metadata": {
    "execution": {
     "iopub.execute_input": "2024-08-19T07:14:20.071252Z",
     "iopub.status.busy": "2024-08-19T07:14:20.071120Z",
     "iopub.status.idle": "2024-08-19T07:14:20.075773Z",
     "shell.execute_reply": "2024-08-19T07:14:20.075259Z",
     "shell.execute_reply.started": "2024-08-19T07:14:20.071237Z"
    }
   },
   "outputs": [
    {
     "data": {
      "text/plain": [
       "(12466,\n",
       " 0.49898545293583557,\n",
       " 2.3066821254869784e-06,\n",
       " 0.9999978427445213,\n",
       " 6220.352656298126,\n",
       " 60.84989046004559,\n",
       " 0.5449996702221376)"
      ]
     },
     "execution_count": 12,
     "metadata": {},
     "output_type": "execute_result"
    }
   ],
   "source": [
    "t_soln.stats()"
   ]
  },
  {
   "cell_type": "code",
   "execution_count": 13,
   "id": "69b1af47-bd05-4c27-96fa-3699bcc51492",
   "metadata": {
    "execution": {
     "iopub.execute_input": "2024-08-19T07:14:20.077288Z",
     "iopub.status.busy": "2024-08-19T07:14:20.077153Z",
     "iopub.status.idle": "2024-08-19T07:14:20.418164Z",
     "shell.execute_reply": "2024-08-19T07:14:20.417199Z",
     "shell.execute_reply.started": "2024-08-19T07:14:20.077274Z"
    }
   },
   "outputs": [
    {
     "ename": "ZeroDivisionError",
     "evalue": "division by zero",
     "output_type": "error",
     "traceback": [
      "\u001b[0;31m---------------------------------------------------------------------------\u001b[0m",
      "\u001b[0;31mZeroDivisionError\u001b[0m                         Traceback (most recent call last)",
      "Cell \u001b[0;32mIn[13], line 1\u001b[0m\n\u001b[0;32m----> 1\u001b[0m \u001b[38;5;241;43m0\u001b[39;49m\u001b[38;5;241;43m/\u001b[39;49m\u001b[38;5;241;43m0\u001b[39;49m\n",
      "\u001b[0;31mZeroDivisionError\u001b[0m: division by zero"
     ]
    }
   ],
   "source": [
    "0/0"
   ]
  },
  {
   "cell_type": "code",
   "execution_count": null,
   "id": "4d9cfedc",
   "metadata": {
    "execution": {
     "iopub.status.busy": "2024-08-19T07:14:20.418804Z",
     "iopub.status.idle": "2024-08-19T07:14:20.419051Z",
     "shell.execute_reply": "2024-08-19T07:14:20.418929Z",
     "shell.execute_reply.started": "2024-08-19T07:14:20.418918Z"
    }
   },
   "outputs": [],
   "source": [
    "flux_solver = uw.systems.Projection(mesh, flux)\n",
    "\n",
    "# Conductive flux only !\n",
    "radial_flux = -mesh.vector.gradient(t_soln.sym[0]).dot(mesh.CoordinateSystem.unit_e_0)\n",
    "radial_flux *= sympy.exp(-100*(r-1)**2) \n",
    "\n",
    "flux_solver.uw_function = radial_flux\n",
    "flux_solver.smoothing = 1.0e-3\n",
    "flux_solver.solve()"
   ]
  },
  {
   "cell_type": "code",
   "execution_count": null,
   "id": "14253218",
   "metadata": {
    "execution": {
     "iopub.status.busy": "2024-08-19T07:14:20.419995Z",
     "iopub.status.idle": "2024-08-19T07:14:20.420195Z",
     "shell.execute_reply": "2024-08-19T07:14:20.420093Z",
     "shell.execute_reply.started": "2024-08-19T07:14:20.420084Z"
    },
    "lines_to_next_cell": 0
   },
   "outputs": [],
   "source": [
    "import mpi4py\n",
    "import pyvista as pv\n",
    "import underworld3.visualisation as vis\n",
    "\n",
    "pvmesh = vis.mesh_to_pv_mesh(mesh)\n",
    "pvmesh.point_data[\"dTdz\"] = vis.scalar_fn_to_pv_points(pvmesh, flux.sym[0])\n",
    "pvmesh.point_data[\"V\"] = vis.vector_fn_to_pv_points(pvmesh, v_soln.sym)\n",
    "pvmesh.point_data[\"V\"] -= pvmesh.point_data[\"V\"].mean()\n",
    "\n",
    "velocity_points = vis.meshVariable_to_pv_cloud(v_soln)\n",
    "velocity_points.point_data[\"V\"] = vis.vector_fn_to_pv_points(velocity_points, v_soln.sym)\n",
    "\n",
    "# point sources at cell centres\n",
    "skip = 8\n",
    "points = np.zeros((mesh._centroids[::skip].shape[0], 3))\n",
    "points[:, 0] = mesh._centroids[::skip, 0]\n",
    "points[:, 1] = mesh._centroids[::skip, 1]\n",
    "point_cloud = pv.PolyData(points)\n",
    "\n",
    "pvstream = pvmesh.streamlines_from_source(\n",
    "    point_cloud,\n",
    "    vectors=\"V\",\n",
    "    integration_direction=\"both\",\n",
    "    max_time=0.5,\n",
    ")\n",
    "\n",
    "pl = pv.Plotter(window_size=[1000, 1000])\n",
    "\n",
    "pl.add_mesh(\n",
    "    pvmesh,\n",
    "    cmap=\"Reds\",\n",
    "    edge_color=\"Black\",\n",
    "    show_edges=True,\n",
    "    scalars=\"dTdz\",\n",
    "    use_transparency=False,\n",
    "    opacity=1.0,\n",
    ")\n",
    "\n",
    "# \n",
    "# pl.add_mesh(pvmesh, \"Black\", \"wireframe\",  opacity=0.1)\n",
    "\n",
    "# pl.add_points(point_cloud, color=\"White\", point_size=3.0, opacity=0.25)\n",
    "\n",
    "# pl.add_arrows(velocity_points.points, velocity_points.point_data[\"V\"], mag=0.0001, show_scalar_bar=True)\n",
    "pl.add_mesh(pvstream, opacity=0.4, show_scalar_bar=False)\n",
    "    \n",
    "# pl.remove_scalar_bar(\"V\")\n",
    "\n",
    "imagefile = os.path.join(image_dir, checkpoint_base) + f\"_dTdr_{step}.png\"\n",
    "\n",
    "pl.screenshot(filename=imagefile, window_size=(750, 750), return_img=False)\n",
    "# OR\n"
   ]
  },
  {
   "cell_type": "code",
   "execution_count": null,
   "id": "8ba2cf38",
   "metadata": {
    "execution": {
     "iopub.status.busy": "2024-08-19T07:14:20.420913Z",
     "iopub.status.idle": "2024-08-19T07:14:20.421122Z",
     "shell.execute_reply": "2024-08-19T07:14:20.421013Z",
     "shell.execute_reply.started": "2024-08-19T07:14:20.421004Z"
    },
    "lines_to_next_cell": 2
   },
   "outputs": [],
   "source": [
    "pl.show()"
   ]
  },
  {
   "cell_type": "code",
   "execution_count": null,
   "id": "f6bc3bc7-2164-4799-9f00-f6cfef07058d",
   "metadata": {},
   "outputs": [],
   "source": []
  },
  {
   "cell_type": "code",
   "execution_count": null,
   "id": "6c6b7b64-307f-4431-8200-a57302efcca8",
   "metadata": {},
   "outputs": [],
   "source": []
  }
 ],
 "metadata": {
  "jupytext": {
   "cell_metadata_filter": "-all",
   "main_language": "python",
   "notebook_metadata_filter": "-all"
  },
  "kernelspec": {
   "display_name": "Python 3 (ipykernel)",
   "language": "python",
   "name": "python3"
  },
  "language_info": {
   "codemirror_mode": {
    "name": "ipython",
    "version": 3
   },
   "file_extension": ".py",
   "mimetype": "text/x-python",
   "name": "python",
   "nbconvert_exporter": "python",
   "pygments_lexer": "ipython3",
   "version": "3.11.7"
  }
 },
 "nbformat": 4,
 "nbformat_minor": 5
}
