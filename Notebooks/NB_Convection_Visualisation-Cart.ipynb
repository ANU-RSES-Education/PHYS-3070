{
 "cells": [
  {
   "cell_type": "markdown",
   "id": "4d23436d",
   "metadata": {},
   "source": [
    "## Visualise stokes cartesian model (flow etc)"
   ]
  },
  {
   "cell_type": "code",
   "execution_count": 1,
   "id": "f56963d3",
   "metadata": {},
   "outputs": [],
   "source": [
    "# to fix trame issue\n",
    "import nest_asyncio\n",
    "nest_asyncio.apply()\n",
    "import os"
   ]
  },
  {
   "cell_type": "code",
   "execution_count": 2,
   "id": "0b026768",
   "metadata": {},
   "outputs": [
    {
     "name": "stderr",
     "output_type": "stream",
     "text": [
      "[Lyrebird.local:01988] shmem: mmap: an error occurred while determining whether or not /var/folders/tx/95gr762j29z4tt5d1dnqlgth0000gn/T//ompi.Lyrebird.501/jf.0/2849308672/sm_segment.Lyrebird.501.a9d50000.0 could be created.\n"
     ]
    }
   ],
   "source": [
    "import petsc4py\n",
    "import underworld3 as uw\n",
    "import numpy as np\n",
    "import sympy\n",
    "\n",
    "pass"
   ]
  },
  {
   "cell_type": "code",
   "execution_count": 3,
   "id": "8c3f6ccb",
   "metadata": {
    "editable": true,
    "slideshow": {
     "slide_type": ""
    },
    "tags": []
   },
   "outputs": [
    {
     "name": "stdout",
     "output_type": "stream",
     "text": [
      "output/cartesian:\n",
      "total 0\n",
      "drwxr-xr-x@  294 lmoresi  staff    9408 Aug 26 21:59 \u001b[34mRa1e3.0\u001b[m\u001b[m/\n",
      "drwxr-xr-x@  909 lmoresi  staff   29088 Aug 27 16:34 \u001b[34mRa1e4.0\u001b[m\u001b[m/\n",
      "drwxr-xr-x@ 2009 lmoresi  staff   64288 Aug 27 18:41 \u001b[34mRa1e5.0\u001b[m\u001b[m/\n",
      "drwxr-xr-x  7517 lmoresi  staff  240544 Aug 28 21:19 \u001b[34mRa1e7.0\u001b[m\u001b[m/\n",
      "drwxr-xr-x  6758 lmoresi  staff  216256 Aug 29 11:44 \u001b[34mRa1e8.0\u001b[m\u001b[m/\n",
      "drwxr-xr-x@ 6818 lmoresi  staff  218176 Aug 29 11:56 \u001b[34mRa1e6.0\u001b[m\u001b[m/\n",
      "\n",
      "output/cartesian_2x1:\n",
      "total 0\n",
      "drwxr-xr-x  6259 lmoresi  staff  200288 Aug 31 10:40 \u001b[34mRa1e6.0\u001b[m\u001b[m/\n",
      "\n",
      "output/cartesian_1x1:\n",
      "total 0\n",
      "drwxr-xr-x@  7022 lmoresi  staff  224704 Sep  6 19:25 \u001b[34mRa1e6.0\u001b[m\u001b[m/\n",
      "drwxr-xr-x@ 19992 lmoresi  staff  639744 Sep  7 20:29 \u001b[34mRa1e7.0\u001b[m\u001b[m/\n",
      "drwxr-xr-x@    13 lmoresi  staff     416 Sep 18 11:13 \u001b[34mRa1e8.0\u001b[m\u001b[m/\n"
     ]
    }
   ],
   "source": [
    "ls -trl output/cartesian* "
   ]
  },
  {
   "cell_type": "code",
   "execution_count": 4,
   "id": "bf972017",
   "metadata": {},
   "outputs": [
    {
     "name": "stdout",
     "output_type": "stream",
     "text": [
      "-rw-rw-r--@ 1 lmoresi  staff  1079352 Sep 17 20:45 linear_ic_Ra1e8.0_visc0.0_res75.mesh.U.02499.h5\n",
      "-rw-rw-r--@ 1 lmoresi  staff  1924520 Sep 17 20:45 linear_ic_Ra1e8.0_visc0.0_res75.mesh.T.02499.h5\n",
      "-rw-rw-r--@ 1 lmoresi  staff   336040 Sep 17 20:45 linear_ic_Ra1e8.0_visc0.0_res75.mesh.P.02499.h5\n",
      "-rw-rw-r--@ 1 lmoresi  staff     3823 Sep 17 20:45 linear_ic_Ra1e8.0_visc0.0_res75.mesh.02499.xdmf\n",
      "-rw-rw-r--@ 1 lmoresi  staff   336040 Sep 17 20:45 linear_ic_Ra1e8.0_visc0.0_res75.mesh.eta_n.02500.h5\n",
      "-rw-rw-r--@ 1 lmoresi  staff  1079352 Sep 17 20:45 linear_ic_Ra1e8.0_visc0.0_res75.mesh.U.02500.h5\n",
      "-rw-rw-r--@ 1 lmoresi  staff  1924520 Sep 17 20:45 linear_ic_Ra1e8.0_visc0.0_res75.mesh.T.02500.h5\n",
      "-rw-rw-r--@ 1 lmoresi  staff   336040 Sep 17 20:45 linear_ic_Ra1e8.0_visc0.0_res75.mesh.P.02500.h5\n",
      "-rw-rw-r--@ 1 lmoresi  staff     3823 Sep 17 20:45 linear_ic_Ra1e8.0_visc0.0_res75.mesh.02500.xdmf\n",
      "drwxr-xr-x@ 3 lmoresi  staff       96 Sep 18 11:16 \u001b[34m_images\u001b[m\u001b[m/\n"
     ]
    }
   ],
   "source": [
    "ls -trl output/cartesian_1x1/Ra1e8.0/_visc0_dt1_delta05/  | tail"
   ]
  },
  {
   "cell_type": "code",
   "execution_count": null,
   "id": "8da0c742-72d5-426c-96cc-517d6f0d1227",
   "metadata": {},
   "outputs": [],
   "source": []
  },
  {
   "cell_type": "code",
   "execution_count": 5,
   "id": "9a912364",
   "metadata": {
    "lines_to_next_cell": 2
   },
   "outputs": [],
   "source": [
    "# This is a bit repetitive, sorry \n",
    "\n",
    "checkpoint_dir = \"output/cartesian_1x1/Ra1e8.0/_visc0_dt1_delta05\"\n",
    "name = \"linear_ic_Ra1e8.0_visc0.0\"\n",
    "resolution = 75\n",
    "\n",
    "checkpoint_base = f\"{name}_res{resolution}\"\n",
    "meshfile = os.path.join(checkpoint_dir, checkpoint_base) + \".mesh.00000.h5\"\n",
    "image_dir = os.path.join(checkpoint_dir,\"_images\", name)\n",
    "os.makedirs(image_dir, exist_ok=True)"
   ]
  },
  {
   "cell_type": "code",
   "execution_count": 6,
   "id": "b5d63def",
   "metadata": {},
   "outputs": [],
   "source": [
    "mesh = uw.discretisation.Mesh(meshfile, \n",
    "                              coordinate_system_type=uw.coordinates.CoordinateSystemType.CARTESIAN)\n",
    "    \n",
    "x = mesh.N.x\n",
    "y = mesh.N.y\n",
    "\n",
    "v_soln = uw.discretisation.MeshVariable(\"U\", mesh, mesh.dim, degree=2)\n",
    "t_soln = uw.discretisation.MeshVariable(\"T\", mesh, 1, degree=3)\n",
    "eta_soln = uw.discretisation.MeshVariable(\"\\eta_n\", mesh, 1, degree=1)\n",
    "flux = uw.discretisation.MeshVariable(r\"dTdz\", mesh, 1, degree=1, continuous=False)"
   ]
  },
  {
   "cell_type": "code",
   "execution_count": 7,
   "id": "942cc670-9f6c-4469-9e89-c614f66b9135",
   "metadata": {},
   "outputs": [],
   "source": [
    "flux_solver = uw.systems.Projection(mesh, flux)\n",
    "\n",
    "flux_fn = -mesh.vector.gradient(t_soln.sym[0]).dot(mesh.CoordinateSystem.unit_e_1) + v_soln.sym[1] * t_soln.sym[0]\n",
    "flux_solver.uw_function = flux_fn\n",
    "flux_solver.smoothing = 0.0\n",
    "\n",
    "\n",
    "sample_points = np.zeros((100,2))\n",
    "sample_points[:,0] = np.linspace(0,1,100)\n",
    "sample_points[:,1] = 1\n",
    "\n",
    "sample_points_surf = sample_points.copy()\n",
    "\n",
    "sample_points[:,1] = 0\n",
    "sample_points_base = sample_points.copy()\n",
    "\n"
   ]
  },
  {
   "cell_type": "code",
   "execution_count": 8,
   "id": "f4ee9fc9-ce74-4e06-89a6-338987d702c9",
   "metadata": {},
   "outputs": [
    {
     "data": {
      "text/markdown": [
       "**Class**: <class 'underworld3.systems.solvers.SNES_Projection'>"
      ],
      "text/plain": [
       "<IPython.core.display.Markdown object>"
      ]
     },
     "metadata": {},
     "output_type": "display_data"
    },
    {
     "data": {
      "text/markdown": [
       "**Poisson system solver**"
      ],
      "text/plain": [
       "<IPython.core.display.Markdown object>"
      ]
     },
     "metadata": {},
     "output_type": "display_data"
    },
    {
     "data": {
      "text/markdown": [
       "Primary problem: "
      ],
      "text/plain": [
       "<IPython.core.display.Markdown object>"
      ]
     },
     "metadata": {},
     "output_type": "display_data"
    },
    {
     "data": {
      "text/latex": [
       "$\\tiny \\quad \\nabla \\cdot \\color{Blue}\\left[\\begin{matrix}0 & 0\\end{matrix}\\right]$ + "
      ],
      "text/plain": [
       "<IPython.core.display.Latex object>"
      ]
     },
     "metadata": {},
     "output_type": "display_data"
    },
    {
     "data": {
      "text/latex": [
       "$\\tiny \\phantom{ \\quad \\nabla \\cdot} \\color{DarkRed}\\left[\\begin{matrix}- {T}(\\mathbf{x}) {U}_{ 1 }(\\mathbf{x}) + {T}_{,1}(\\mathbf{x}) + {dTdz}(\\mathbf{x})\\end{matrix}\\right]\\color{Black} = 0 $"
      ],
      "text/plain": [
       "<IPython.core.display.Latex object>"
      ]
     },
     "metadata": {},
     "output_type": "display_data"
    },
    {
     "data": {
      "text/markdown": [
       "This solver is formulated in 2 dimensions"
      ],
      "text/plain": [
       "<IPython.core.display.Markdown object>"
      ]
     },
     "metadata": {},
     "output_type": "display_data"
    }
   ],
   "source": [
    "flux_solver.view()"
   ]
  },
  {
   "cell_type": "code",
   "execution_count": 9,
   "id": "b9768720",
   "metadata": {},
   "outputs": [],
   "source": [
    "steps = range(2000,2000, 25)\n",
    "calc_flux = False\n",
    "add_streamlines = False\n",
    "cmap = \"RdBu_r\""
   ]
  },
  {
   "cell_type": "code",
   "execution_count": 10,
   "id": "25ffe942",
   "metadata": {
    "lines_to_next_cell": 0,
    "scrolled": true
   },
   "outputs": [],
   "source": [
    "import mpi4py\n",
    "import pyvista as pv\n",
    "import underworld3.visualisation as vis\n",
    "\n",
    "pl = pv.Plotter(window_size=[750, 750])\n",
    "\n",
    "for step in steps:\n",
    "\n",
    "    try:\n",
    "        v_soln.read_timestep(checkpoint_base, \"U\", step, outputPath=checkpoint_dir)\n",
    "        t_soln.read_timestep(checkpoint_base, \"T\", step, outputPath=checkpoint_dir)\n",
    "        eta_soln.read_timestep(checkpoint_base, \"eta_n\", step, outputPath=checkpoint_dir)\n",
    "        if not calc_flux:\n",
    "            print(f\"Plotting {step:05d}\")\n",
    "\n",
    "    except:\n",
    "        print(f\"Failed to read step {step} correctly\")\n",
    "        continue\n",
    "\n",
    "    pl.clear()\n",
    "\n",
    "    pvmesh = vis.mesh_to_pv_mesh(mesh)\n",
    "    pvmesh.point_data[\"T\"] = vis.scalar_fn_to_pv_points(pvmesh, t_soln.sym[0])\n",
    "    pvmesh.point_data[\"V\"] = vis.vector_fn_to_pv_points(pvmesh, v_soln.sym)\n",
    "    pvmesh.point_data[\"Eta\"] = vis.scalar_fn_to_pv_points(pvmesh, eta_soln.sym)\n",
    "\n",
    "    pvmesh_v = vis.meshVariable_to_pv_mesh_object(v_soln, alpha=None)\n",
    "    pvmesh_v.point_data[\"V\"] = vis.vector_fn_to_pv_points(pvmesh_v, v_soln.sym)\n",
    "\n",
    "    pvmesh_t = vis.meshVariable_to_pv_mesh_object(t_soln, alpha=None)\n",
    "    pvmesh_t.point_data[\"T\"] = vis.scalar_fn_to_pv_points(pvmesh_t, t_soln.sym[0])\n",
    "    \n",
    "    # point sources at cell centres\n",
    "    skip = 15\n",
    "    points = np.zeros((mesh._centroids[::skip].shape[0], 3))\n",
    "    points[:, 0] = mesh._centroids[::skip, 0]\n",
    "    points[:, 1] = mesh._centroids[::skip, 1]\n",
    "    point_cloud = pv.PolyData(points)\n",
    "\n",
    "\n",
    "    pl.add_mesh(\n",
    "        pvmesh_t,\n",
    "        cmap=cmap,\n",
    "        edge_color=\"Black\",\n",
    "        edge_opacity=0.1,\n",
    "        show_edges=False,\n",
    "        scalars=\"T\",\n",
    "        use_transparency=False,\n",
    "        opacity=1.0,\n",
    "        clim=[0.0,1.0],\n",
    "        show_scalar_bar=False\n",
    "    )\n",
    "\n",
    "\n",
    "    pl.add_mesh(\n",
    "        pvmesh,\n",
    "        cmap=\"Greys\",\n",
    "        edge_color=\"Black\",\n",
    "        edge_opacity=0.1,\n",
    "        show_edges=False,\n",
    "        scalars=\"Eta\",\n",
    "        use_transparency=False,\n",
    "        opacity= [0, 0.0, 0.0,  0.5],\n",
    "        clim=[1.0,10000.0],\n",
    "        show_scalar_bar=False\n",
    "    )\n",
    "\n",
    "\n",
    "    if add_streamlines:\n",
    "        pvstream = pvmesh.streamlines_from_source(\n",
    "                point_cloud,\n",
    "                vectors=\"V\",\n",
    "                integration_direction=\"both\",\n",
    "                max_time=1,\n",
    "                surface_streamlines=True,\n",
    "            )\n",
    "    \n",
    "        pl.add_mesh(pvstream,\n",
    "                    opacity=0.5,\n",
    "                    show_scalar_bar=False)\n",
    "\n",
    "    # pl.add_arrows(pvmesh_v.points, pvmesh_v.point_data[\"V\"], mag=1e-4)\n",
    "\n",
    "    # pl.camera_position = [(3.0, 0.5, 6.750994846396983),\n",
    "    #                       (3.0, 0.5, 0.0),\n",
    "    #                       (0.0, 1.0, 0.0)]\n",
    "\n",
    "    imagefile = os.path.join(image_dir, checkpoint_base) + f\"_V_T_{step}.png\"\n",
    "    \n",
    "    pl.screenshot(filename=imagefile,\n",
    "                  window_size=(1000, 1000),\n",
    "                  return_img=False)\n",
    "\n",
    "    \n",
    "\n",
    "    if calc_flux:\n",
    "        flux_solver.solve()\n",
    "        surf_flux = uw.function.evaluate(flux.sym, sample_points_surf)\n",
    "        basal_flux = uw.function.evaluate(flux.sym, sample_points_base)\n",
    "    \n",
    "        # Heat flux: Upper, Lower, Mean\n",
    "        print(f\"{step:05d},  {surf_flux.mean():8.4f}, {basal_flux.mean():8.4f}, {((surf_flux.mean() + basal_flux.mean())/2):8.4f}\")\n",
    "\n",
    "\n"
   ]
  },
  {
   "cell_type": "code",
   "execution_count": 11,
   "id": "ef5a9c93",
   "metadata": {
    "editable": true,
    "slideshow": {
     "slide_type": ""
    },
    "tags": []
   },
   "outputs": [
    {
     "data": {
      "application/vnd.jupyter.widget-view+json": {
       "model_id": "b41b73a7ab62438ba3f5a6ac2791efa3",
       "version_major": 2,
       "version_minor": 0
      },
      "text/plain": [
       "EmbeddableWidget(value='<iframe srcdoc=\"<!DOCTYPE html>\\n<html>\\n  <head>\\n    <meta http-equiv=&quot;Content-…"
      ]
     },
     "metadata": {},
     "output_type": "display_data"
    }
   ],
   "source": [
    "pl.show(jupyter_backend=\"html\")"
   ]
  },
  {
   "cell_type": "code",
   "execution_count": 12,
   "id": "726f0636",
   "metadata": {},
   "outputs": [],
   "source": [
    "## Calculate heat flux, evaluate at surface — proxy for boundary layer thickness"
   ]
  },
  {
   "cell_type": "code",
   "execution_count": 13,
   "id": "87481e74-81d9-40fc-939f-deb6cccf6af0",
   "metadata": {
    "scrolled": true
   },
   "outputs": [],
   "source": [
    "## t_soln.stats()"
   ]
  },
  {
   "cell_type": "code",
   "execution_count": 14,
   "id": "5fa64b49-000e-405c-8605-4a8bc000de0d",
   "metadata": {},
   "outputs": [
    {
     "data": {
      "text/plain": [
       "0.0"
      ]
     },
     "execution_count": 14,
     "metadata": {},
     "output_type": "execute_result"
    }
   ],
   "source": [
    "I = uw.maths.Integral(mesh, t_soln.sym[0])\n",
    "mean = I.evaluate()\n",
    "mean"
   ]
  },
  {
   "cell_type": "code",
   "execution_count": 15,
   "id": "a007e257-891b-443e-ba92-f76ccbd8acce",
   "metadata": {},
   "outputs": [
    {
     "data": {
      "text/plain": [
       "0.0"
      ]
     },
     "execution_count": 15,
     "metadata": {},
     "output_type": "execute_result"
    }
   ],
   "source": [
    "I.fn = (t_soln.sym[0]-mean)**2\n",
    "np.sqrt(I.evaluate())\n",
    "l2 = np.sqrt(I.evaluate())\n",
    "l2"
   ]
  },
  {
   "cell_type": "code",
   "execution_count": null,
   "id": "69b1af47-bd05-4c27-96fa-3699bcc51492",
   "metadata": {},
   "outputs": [],
   "source": []
  },
  {
   "cell_type": "code",
   "execution_count": 16,
   "id": "4d9cfedc",
   "metadata": {},
   "outputs": [
    {
     "name": "stdout",
     "output_type": "stream",
     "text": [
      "Step     Flux(Up)  Flux(Lo)  Flux(Av)  T(Av)    V(rms)\n",
      "00000,    2.1262,   2.2548,   2.1905   0.5000,  955.2940\n",
      "00010,    1.8351,   2.4196,   2.1274   0.5000,  3747.3509\n",
      "00020,    1.1121,   2.5266,   1.8194   0.5000,  40588.6577\n",
      "00030,   -0.8640,   1.6144,   0.3752   0.5000,  87928.7618\n",
      "00040,   -4.2397,   0.1663,  -2.0367   0.5000,  134994.8293\n",
      "00050,   -8.9996,  -1.0030,  -5.0013   0.5000,  181508.4739\n",
      "00060,  -15.1307,  -2.9310,  -9.0309   0.5000,  227564.9106\n",
      "00070,  -22.6835,  -7.7753, -15.2294   0.5000,  273176.2449\n",
      "00080,  -31.6003, -15.3971, -23.4987   0.5000,  318184.8171\n",
      "00090,  -41.2721, -23.3532, -32.3127   0.5000,  361408.1674\n",
      "00100,  -51.0680, -30.4435, -40.7558   0.5000,  402008.0625\n",
      "00110,  -60.1195, -36.1558, -48.1377   0.5000,  439611.8617\n",
      "00120,  -67.2805, -39.6988, -53.4896   0.5000,  473880.8697\n",
      "00130,  -71.9300, -40.9470, -56.4385   0.4999,  504520.2138\n",
      "00140,  -74.1367, -40.3478, -57.2423   0.4999,  531282.5069\n",
      "00150,  -73.8323, -37.9879, -55.9101   0.4999,  553982.0804\n",
      "00160,  -70.8187, -33.6143, -52.2165   0.4999,  572511.0349\n",
      "00170,  -66.3622, -28.2161, -47.2891   0.4999,  586834.7344\n",
      "00180,  -62.5899, -23.1563, -42.8731   0.4999,  596962.5518\n",
      "00190,  -60.9267, -19.1098, -40.0182   0.4999,  602940.2831\n",
      "00200,  -62.3800, -16.5514, -39.4657   0.4999,  604915.7330\n",
      "00210,  -68.2750, -16.4990, -42.3870   0.4999,  603168.7256\n",
      "00220,  -80.2325, -20.3402, -50.2864   0.4999,  597996.4002\n",
      "00230,  -99.6553, -29.5426, -64.5990   0.4999,  589592.9033\n",
      "00240,  -126.5683, -44.7860, -85.6772   0.4999,  578121.0524\n",
      "00250,  -162.8670, -68.2461, -115.5566   0.4999,  562241.9067\n",
      "00260,  -199.0576, -94.8347, -146.9462   0.4999,  545068.0619\n",
      "00270,  -234.6293, -124.6262, -179.6277   0.4999,  525376.1776\n",
      "00280,  -265.6033, -154.4450, -210.0241   0.4999,  503265.5292\n",
      "00290,  -288.6310, -180.4694, -234.5502   0.4999,  478983.9230\n",
      "00300,  -301.8356, -199.4522, -250.6439   0.4999,  452852.7139\n",
      "00310,  -304.8885, -209.4399, -257.1642   0.4999,  425179.3381\n",
      "00320,  -298.6712, -209.9608, -254.3160   0.4999,  396268.3159\n",
      "00330,  -284.7689, -201.8213, -243.2951   0.4999,  366451.9540\n",
      "00340,  -264.9191, -186.7869, -225.8530   0.4999,  336115.5244\n",
      "00350,  -240.5160, -167.0525, -203.7842   0.4999,  305701.1080\n",
      "00360,  -212.3325, -144.5905, -178.4615   0.4999,  275712.4852\n",
      "00370,  -180.6947, -120.6126, -150.6537   0.4999,  246660.2702\n",
      "00380,  -146.0492, -95.4930, -120.7711   0.4999,  219053.6755\n",
      "00390,  -109.4171, -69.2026, -89.3099   0.4999,  193373.0235\n",
      "00400,  -72.4706, -41.9198, -57.1952   0.4999,  170041.2128\n",
      "00410,  -37.0886, -14.3321, -25.7104   0.4999,  149353.9493\n",
      "00420,   -4.6954,  12.5834,   3.9440   0.4999,  131360.7295\n",
      "00430,   24.0264,  37.9424,  30.9844   0.4999,  115851.4572\n",
      "00440,   49.0028,  61.1461,  55.0744   0.4999,  102443.9634\n",
      "00450,   70.4682,  81.8742,  76.1712   0.4999,  90690.4397\n",
      "00460,   88.7152, 100.0019,  94.3586   0.4998,  80177.1037\n",
      "00470,  103.9911, 115.4869, 109.7390   0.4998,  70583.8612\n",
      "00480,  116.4929, 128.3314, 122.4121   0.4998,  61698.3868\n",
      "00490,  126.3700, 138.5563, 132.4632   0.4998,  53421.2989\n",
      "00500,  134.3260, 146.8382, 140.5821   0.4998,  45025.8795\n",
      "00510,  138.9886, 151.7520, 145.3703   0.4998,  38152.7999\n",
      "00520,  141.3374, 154.3106, 147.8240   0.4998,  32125.0205\n",
      "00530,  141.6284, 154.7413, 148.1849   0.4998,  27013.5646\n",
      "00540,  140.2838, 153.4317, 146.8577   0.4997,  22746.5721\n",
      "00550,  137.8026, 150.9022, 144.3524   0.4997,  19160.5142\n",
      "00560,  134.6763, 147.6756, 141.1759   0.4997,  16089.0859\n",
      "00570,  131.2759, 144.1285, 137.7022   0.4997,  13404.1155\n",
      "00580,  127.7013, 140.4002, 134.0508   0.4997,  11015.9779\n",
      "00590,  123.7676, 136.4937, 130.1307   0.4997,  8898.7938\n",
      "00600,  119.2650, 132.3296, 125.7973   0.4997,  7089.1412\n",
      "00610,  114.3245, 127.8890, 121.1067   0.4997,  5629.8345\n",
      "00620,  109.1022, 123.1168, 116.1095   0.4997,  4472.6544\n",
      "00630,  103.7294, 118.0115, 110.8705   0.4997,  3573.6125\n",
      "00640,   98.9583, 113.6761, 106.3172   0.4997,  3032.7858\n",
      "00650,   98.5437, 115.3719, 106.9578   0.4997,  3010.9800\n",
      "00660,  101.6870, 122.1029, 111.8950   0.4998,  3272.0800\n",
      "00670,  103.1518, 123.0439, 113.0978   0.4998,  3392.0737\n",
      "00680,  103.7739, 119.8599, 111.8169   0.4998,  3167.1176\n",
      "00690,  103.5615, 119.4540, 111.5078   0.4998,  2696.5424\n",
      "00700,  100.0455, 115.5152, 107.7803   0.4998,  2161.2305\n",
      "00710,   94.3604, 106.2312, 100.2958   0.4998,  1725.9552\n",
      "00720,   90.5749, 103.5255,  97.0502   0.4998,  1440.6622\n",
      "00730,   85.2068,  96.0022,  90.6045   0.4998,  1267.4275\n",
      "00740,   83.1784,  92.4455,  87.8119   0.4998,  1180.5591\n",
      "00750,   80.2547,  89.8682,  85.0614   0.4998,  1214.4205\n",
      "00760,   84.6065,  90.7300,  87.6682   0.4997,  1411.1892\n",
      "00770,   88.8882,  96.6338,  92.7610   0.4997,  1550.4890\n",
      "00780,   93.3729, 100.8285,  97.1007   0.4997,  1551.5324\n",
      "00790,  100.7082, 102.6815, 101.6948   0.4996,  1410.5574\n",
      "00800,  109.8981, 106.2878, 108.0930   0.4995,  1201.3839\n",
      "00810,  113.4760, 108.0347, 110.7553   0.4993,  1035.9759\n",
      "00820,  112.8142, 117.6507, 115.2325   0.4993,  982.2986\n",
      "00830,  111.2033, 121.5968, 116.4000   0.4993,  970.3981\n",
      "00840,  110.9573, 125.5566, 118.2570   0.4993,  958.3562\n",
      "00850,  109.9977, 120.8475, 115.4226   0.4993,  940.5597\n",
      "00860,  108.4187, 119.6259, 114.0223   0.4994,  917.0424\n",
      "00870,  105.3235, 119.9754, 112.6495   0.4994,  916.0753\n",
      "00880,  103.0181, 116.4686, 109.7434   0.4994,  867.1737\n",
      "00890,  100.3471, 113.5975, 106.9723   0.4994,  774.7173\n",
      "00900,   95.8787, 107.6660, 101.7723   0.4994,  711.4545\n",
      "00910,   92.3868, 101.4650,  96.9259   0.4994,  727.2206\n",
      "00920,   90.6046,  99.0330,  94.8188   0.4994,  754.7175\n",
      "00930,   88.7756,  97.1189,  92.9473   0.4994,  800.9378\n",
      "00940,   88.0346,  96.3392,  92.1869   0.4994,  897.0805\n",
      "00950,   88.7659,  95.1336,  91.9497   0.4994,  987.5134\n",
      "00960,   85.9927,  93.7950,  89.8939   0.4994,  1021.7921\n",
      "00970,   83.7544,  92.7575,  88.2560   0.4994,  1026.6314\n",
      "00980,   85.2763,  92.2085,  88.7424   0.4994,  988.7957\n",
      "00990,   83.2631,  89.7110,  86.4871   0.4995,  1037.5869\n",
      "01000,   81.2080,  93.1966,  87.2023   0.4995,  1122.7752\n",
      "01010,   79.4183,  94.5498,  86.9841   0.4996,  1170.6963\n",
      "01020,   81.1147,  94.7361,  87.9254   0.4997,  1248.3374\n",
      "01030,   80.4698,  94.9155,  87.6926   0.4997,  1314.4568\n",
      "01040,   79.5527,  95.4717,  87.5122   0.4998,  1306.2989\n",
      "01050,   78.3714,  96.6118,  87.4916   0.4998,  1208.4642\n",
      "01060,   76.9340,  96.9269,  86.9305   0.4999,  1076.0586\n",
      "01070,   74.5398,  96.7743,  85.6571   0.5001,  1008.9528\n",
      "01080,   73.3935,  97.1270,  85.2603   0.5002,  1011.6835\n",
      "01090,   71.7363,  97.5876,  84.6620   0.5004,  1019.5513\n",
      "01100,   69.3330,  97.7227,  83.5278   0.5007,  1029.7123\n",
      "01110,   68.2466,  96.9902,  82.6184   0.5009,  1042.5591\n",
      "01120,   66.9012,  95.9456,  81.4234   0.5011,  1048.6474\n",
      "01130,   66.0590,  94.7253,  80.3921   0.5013,  1059.5629\n",
      "01140,   67.5179,  93.2053,  80.3616   0.5015,  1142.6581\n",
      "01150,   69.3676,  92.3761,  80.8718   0.5016,  1275.7761\n",
      "01160,   69.5533,  91.5567,  80.5550   0.5017,  1346.1188\n",
      "01170,   71.4340,  90.8941,  81.1640   0.5017,  1315.2407\n",
      "01180,   72.7198,  90.2349,  81.4773   0.5018,  1220.3874\n",
      "01190,   73.8755,  88.7371,  81.3063   0.5019,  1178.6153\n",
      "01200,   72.7435,  87.5359,  80.1397   0.5019,  1273.2168\n",
      "01210,   75.0104,  87.8160,  81.4132   0.5019,  1430.8035\n",
      "01220,   76.1319,  88.0761,  82.1040   0.5019,  1531.0607\n",
      "01230,   76.4500,  87.9554,  82.2027   0.5020,  1501.3738\n",
      "01240,   76.1358,  87.4846,  81.8102   0.5020,  1410.2024\n",
      "01250,   75.5526,  86.5764,  81.0645   0.5021,  1286.1896\n",
      "01260,   74.2300,  85.3403,  79.7851   0.5021,  1185.4455\n",
      "01270,   73.9860,  84.2658,  79.1259   0.5022,  1149.8542\n",
      "01280,   73.7743,  82.6978,  78.2361   0.5022,  1146.5424\n",
      "01290,   73.5236,  81.2874,  77.4055   0.5023,  1150.1132\n",
      "01300,   73.5897,  81.8536,  77.7217   0.5023,  1155.8149\n",
      "01310,   75.5323,  82.4583,  78.9953   0.5023,  1193.1614\n",
      "01320,   74.9471,  83.1801,  79.0636   0.5023,  1223.0564\n",
      "01330,   75.4843,  83.8019,  79.6431   0.5023,  1215.8478\n",
      "01340,   74.6663,  83.6196,  79.1429   0.5023,  1200.0414\n",
      "01350,   72.5748,  83.5196,  78.0472   0.5024,  1211.8045\n",
      "01360,   72.6176,  83.3009,  77.9592   0.5024,  1247.6112\n",
      "01370,   71.8798,  82.8774,  77.3786   0.5024,  1306.6371\n",
      "01380,   71.0301,  83.0054,  77.0177   0.5024,  1352.8180\n",
      "01390,   70.1206,  84.3326,  77.2266   0.5024,  1394.5779\n",
      "01400,   70.0285,  86.4351,  78.2318   0.5025,  1420.0674\n",
      "01410,   70.0835,  87.8356,  78.9595   0.5026,  1391.6079\n",
      "01420,   71.3398,  87.7633,  79.5516   0.5026,  1340.3855\n",
      "01430,   72.1062,  90.4058,  81.2560   0.5027,  1352.1684\n",
      "01440,   72.7095,  89.2003,  80.9549   0.5027,  1418.0893\n",
      "01450,   73.1013,  88.5626,  80.8319   0.5028,  1442.7679\n",
      "01460,   72.8758,  89.8709,  81.3734   0.5028,  1420.7046\n",
      "01470,   71.9739,  89.5703,  80.7721   0.5029,  1387.7905\n",
      "01480,   71.7636,  87.1702,  79.4669   0.5029,  1380.0390\n",
      "01490,   71.8814,  83.8698,  77.8756   0.5029,  1378.9309\n",
      "01500,   71.1172,  83.4656,  77.2914   0.5030,  1386.3277\n",
      "01510,   70.3469,  84.6263,  77.4866   0.5030,  1475.3274\n",
      "01520,   69.9335,  84.5504,  77.2420   0.5031,  1568.0917\n",
      "01530,   69.0192,  83.0932,  76.0562   0.5031,  1602.9598\n",
      "01540,   68.4271,  85.2340,  76.8306   0.5032,  1666.8824\n",
      "01550,   67.7624,  83.8818,  75.8221   0.5032,  1787.6030\n",
      "01560,   66.6851,  82.3286,  74.5068   0.5033,  1888.7576\n",
      "01570,   66.3561,  80.5956,  73.4758   0.5033,  1908.6774\n",
      "01580,   65.4880,  79.3505,  72.4192   0.5033,  1858.5653\n",
      "01590,   64.6794,  76.8923,  70.7859   0.5034,  1775.9911\n",
      "01600,   63.8962,  76.0436,  69.9699   0.5034,  1714.5328\n",
      "01610,   63.9567,  73.2355,  68.5961   0.5034,  1712.6017\n",
      "01620,   65.5784,  70.7253,  68.1518   0.5033,  1803.3416\n",
      "01630,   67.6685,  70.8196,  69.2440   0.5033,  1917.8148\n",
      "01640,   67.9108,  70.8917,  69.4013   0.5033,  1979.8325\n",
      "01650,   68.4342,  70.5372,  69.4857   0.5033,  1944.1699\n",
      "01660,   68.5463,  70.1602,  69.3533   0.5033,  1817.7250\n",
      "01670,   67.4950,  68.7434,  68.1192   0.5033,  1674.4320\n",
      "01680,   65.4736,  68.4474,  66.9605   0.5033,  1570.8856\n",
      "01690,   65.3634,  69.0141,  67.1887   0.5032,  1531.1293\n",
      "01700,   64.3088,  67.3252,  65.8170   0.5032,  1544.8253\n",
      "01710,   63.5192,  68.9727,  66.2459   0.5032,  1624.4200\n",
      "01720,   63.4498,  70.3034,  66.8766   0.5033,  1696.1008\n",
      "01730,   63.1747,  70.8732,  67.0239   0.5033,  1715.1187\n",
      "01740,   62.6075,  70.5872,  66.5973   0.5033,  1713.4895\n",
      "01750,   62.6462,  69.8791,  66.2626   0.5033,  1720.5641\n",
      "01760,   63.1035,  70.1674,  66.6354   0.5033,  1748.7657\n",
      "01770,   63.1166,  72.0607,  67.5887   0.5033,  1815.7815\n",
      "01780,   64.3457,  73.6125,  68.9791   0.5033,  1967.2051\n",
      "01790,   65.8034,  74.1185,  69.9610   0.5032,  2163.2024\n",
      "01800,   66.2558,  73.6791,  69.9674   0.5033,  2312.7296\n",
      "01810,   66.7825,  73.3229,  70.0527   0.5033,  2383.6500\n",
      "01820,   66.7778,  74.0962,  70.4370   0.5033,  2366.8189\n",
      "01830,   67.1353,  75.7757,  71.4555   0.5033,  2286.6265\n",
      "01840,   67.7974,  76.3670,  72.0822   0.5033,  2201.8012\n",
      "01850,   67.8306,  77.4979,  72.6643   0.5033,  2151.0788\n",
      "01860,   67.4566,  78.5823,  73.0194   0.5034,  2146.1576\n",
      "01870,   66.9913,  76.2429,  71.6171   0.5034,  2192.3452\n",
      "01880,   65.6813,  77.9206,  71.8010   0.5034,  2280.8169\n",
      "01890,   65.8520,  77.1974,  71.5247   0.5035,  2381.4735\n",
      "01900,   65.4009,  78.3791,  71.8900   0.5035,  2464.6585\n",
      "01910,   64.5654,  76.9335,  70.7494   0.5036,  2556.4995\n",
      "01920,   63.0459,  76.5582,  69.8020   0.5037,  2699.4060\n",
      "01930,   62.4878,  78.8081,  70.6479   0.5038,  2870.8282\n",
      "01940,   62.8198,  79.2534,  71.0366   0.5038,  3046.4853\n",
      "01950,   62.4405,  79.7251,  71.0828   0.5039,  3157.3688\n",
      "01960,   62.0516,  79.5769,  70.8143   0.5039,  3183.9276\n",
      "01970,   61.8857,  79.4896,  70.6877   0.5040,  3151.6236\n",
      "01980,   61.0117,  78.0884,  69.5500   0.5040,  3101.4992\n",
      "01990,   60.7103,  76.8780,  68.7942   0.5041,  3054.4724\n",
      "02000,   59.9471,  75.4476,  67.6973   0.5041,  2999.4494\n",
      "02010,   59.0071,  73.2881,  66.1476   0.5042,  2946.3371\n",
      "02020,   57.5811,  70.2640,  63.9226   0.5042,  2890.8431\n",
      "02030,   57.2205,  69.3653,  63.2929   0.5043,  2846.2533\n",
      "02040,   56.6131,  68.6243,  62.6187   0.5043,  2814.1035\n",
      "02050,   55.4568,  67.0967,  61.2768   0.5043,  2786.2002\n",
      "02060,   55.1222,  65.5055,  60.3138   0.5044,  2752.4750\n",
      "02070,   55.3760,  63.7082,  59.5421   0.5044,  2734.4634\n",
      "02080,   55.7785,  63.8508,  59.8146   0.5044,  2807.8072\n",
      "02090,   55.8852,  63.8092,  59.8472   0.5044,  2936.4725\n",
      "02100,   56.7029,  63.9723,  60.3376   0.5043,  3041.2724\n",
      "02110,   56.9166,  63.9697,  60.4432   0.5043,  3081.0084\n",
      "02120,   56.7194,  63.6729,  60.1962   0.5044,  3045.6814\n",
      "02130,   56.0742,  62.9566,  59.5154   0.5044,  2972.2236\n",
      "02140,   55.3713,  62.6082,  58.9897   0.5044,  2911.1851\n",
      "02150,   54.6669,  63.0170,  58.8419   0.5044,  2882.8085\n",
      "02160,   55.1385,  63.0644,  59.1014   0.5044,  2874.4078\n",
      "02170,   55.1253,  61.7705,  58.4479   0.5044,  2886.1803\n",
      "02180,   55.7805,  61.4611,  58.6208   0.5044,  2939.3886\n",
      "02190,   56.4193,  60.8362,  58.6277   0.5044,  3054.4270\n",
      "02200,   55.8981,  60.9041,  58.4011   0.5044,  3210.3475\n",
      "02210,   56.2933,  61.1182,  58.7058   0.5044,  3340.2475\n",
      "02220,   55.6675,  62.6813,  59.1744   0.5043,  3415.9392\n",
      "02230,   56.5961,  61.3590,  58.9775   0.5043,  3507.6723\n",
      "02240,   56.7856,  62.3860,  59.5858   0.5043,  3666.7846\n",
      "02250,   56.2315,  62.0395,  59.1355   0.5042,  3825.6362\n",
      "02260,   55.3410,  60.5485,  57.9448   0.5042,  3905.6924\n",
      "02270,   54.2991,  62.4238,  58.3614   0.5042,  3944.2840\n",
      "02280,   53.8837,  61.7408,  57.8122   0.5042,  4011.6118\n",
      "02290,   53.3813,  61.5536,  57.4675   0.5042,  4214.7880\n",
      "02300,   52.7993,  61.9415,  57.3704   0.5043,  4631.4370\n",
      "02310,   52.4306,  63.7341,  58.0823   0.5043,  5243.9929\n",
      "02320,   52.2828,  66.1479,  59.2154   0.5043,  5909.1104\n",
      "02330,   52.2248,  67.8516,  60.0382   0.5044,  6510.0182\n",
      "02340,   52.1987,  67.2342,  59.7164   0.5044,  6993.1279\n",
      "02350,   52.1668,  70.1344,  61.1506   0.5044,  7319.9965\n",
      "02360,   52.0944,  69.7522,  60.9233   0.5044,  7507.9110\n",
      "02370,   51.9516,  71.7116,  61.8316   0.5044,  7576.4784\n",
      "02380,   51.7397,  71.1990,  61.4693   0.5044,  7573.8275\n",
      "02390,   51.5206,  69.7606,  60.6406   0.5044,  7512.9694\n",
      "02400,   51.4033,  70.3591,  60.8812   0.5044,  7437.5004\n",
      "02410,   51.4448,  70.8711,  61.1580   0.5044,  7336.2549\n",
      "02420,   51.5342,  71.1259,  61.3300   0.5044,  7190.1512\n",
      "02430,   51.4688,  71.3513,  61.4100   0.5045,  7012.2450\n",
      "02440,   51.3102,  72.2114,  61.7608   0.5045,  6828.6899\n",
      "02450,   51.3622,  72.6580,  62.0101   0.5045,  6654.4281\n",
      "02460,   51.1918,  72.5320,  61.8619   0.5045,  6479.0611\n",
      "02470,   51.1009,  72.1638,  61.6323   0.5045,  6266.4050\n",
      "02480,   51.0924,  71.8606,  61.4765   0.5045,  5994.7652\n",
      "02490,   51.3922,  71.7103,  61.5512   0.5046,  5676.0435\n"
     ]
    }
   ],
   "source": [
    "f_steps = range(0,2500, 10)\n",
    "\n",
    "I = uw.maths.Integral(mesh, 1)\n",
    "Norm = I.evaluate()\n",
    "\n",
    "print(\"Step     Flux(Up)  Flux(Lo)  Flux(Av)  T(Av)    V(rms)\")\n",
    "\n",
    "for step in f_steps:\n",
    "    try:\n",
    "        v_soln.read_timestep(checkpoint_base, \"U\", step, outputPath=checkpoint_dir)\n",
    "        t_soln.read_timestep(checkpoint_base, \"T\", step, outputPath=checkpoint_dir)\n",
    "    except:\n",
    "        print(f\"Failed to read step {step} correctly\")\n",
    "        continue\n",
    "\n",
    "    flux_solver.solve()\n",
    "    surf_flux = uw.function.evaluate(flux.sym, sample_points_surf)\n",
    "    basal_flux = uw.function.evaluate(flux.sym, sample_points_base)\n",
    "\n",
    "    I.fn = t_soln.sym[0]\n",
    "    mean_T = I.evaluate() / Norm\n",
    "    \n",
    "    I.fn = v_soln.sym.dot(v_soln.sym)\n",
    "    Vrms = np.sqrt(I.evaluate() / Norm)\n",
    "\n",
    "    \n",
    "    # Heat flux: Upper, Lower, Mean\n",
    "    print(f\"{step:05d},  {surf_flux.mean():8.4f}, {basal_flux.mean():8.4f}, {((surf_flux.mean() + basal_flux.mean())/2):8.4f}\",\n",
    "    f\"{mean_T:8.4f},  {Vrms:8.4f}\")\n",
    "\n"
   ]
  },
  {
   "cell_type": "code",
   "execution_count": 18,
   "id": "14253218",
   "metadata": {
    "lines_to_next_cell": 0
   },
   "outputs": [
    {
     "data": {
      "application/vnd.jupyter.widget-view+json": {
       "model_id": "7d1ce4580b2f4119a31df7ba89a575fa",
       "version_major": 2,
       "version_minor": 0
      },
      "text/plain": [
       "Widget(value='<iframe src=\"http://localhost:56753/index.html?ui=P_0x3145c78d0_1&reconnect=auto\" class=\"pyvista…"
      ]
     },
     "metadata": {},
     "output_type": "display_data"
    }
   ],
   "source": [
    "import mpi4py\n",
    "import pyvista as pv\n",
    "import underworld3.visualisation as vis\n",
    "\n",
    "pvmesh = vis.mesh_to_pv_mesh(mesh)\n",
    "pvmesh.point_data[\"dTdz\"] = vis.scalar_fn_to_pv_points(pvmesh, flux.sym[0])\n",
    "pvmesh.point_data[\"V\"] = vis.vector_fn_to_pv_points(pvmesh, v_soln.sym)\n",
    "pvmesh.point_data[\"V\"] -= pvmesh.point_data[\"V\"].mean()\n",
    "\n",
    "velocity_points = vis.meshVariable_to_pv_cloud(v_soln)\n",
    "velocity_points.point_data[\"V\"] = vis.vector_fn_to_pv_points(velocity_points, v_soln.sym)\n",
    "\n",
    "# point sources at cell centres\n",
    "skip = 8\n",
    "points = np.zeros((mesh._centroids[::skip].shape[0], 3))\n",
    "points[:, 0] = mesh._centroids[::skip, 0]\n",
    "points[:, 1] = mesh._centroids[::skip, 1]\n",
    "point_cloud = pv.PolyData(points)\n",
    "\n",
    "pvstream = pvmesh.streamlines_from_source(\n",
    "    point_cloud,\n",
    "    vectors=\"V\",\n",
    "    integration_direction=\"both\",\n",
    "    max_time=1.5,\n",
    ")\n",
    "\n",
    "pl = pv.Plotter(window_size=[1000, 1000])\n",
    "\n",
    "pl.add_mesh(\n",
    "    pvmesh,\n",
    "    cmap=\"RdYlBu_r\",\n",
    "    edge_color=\"Black\",\n",
    "    show_edges=False,\n",
    "    scalars=\"dTdz\",\n",
    "    use_transparency=False,\n",
    "    opacity=1.0,\n",
    ")\n",
    "\n",
    "# \n",
    "# pl.add_mesh(pvmesh, \"Black\", \"wireframe\",  opacity=0.1)\n",
    "\n",
    "# pl.add_points(point_cloud, color=\"White\", point_size=3.0, opacity=0.25)\n",
    "\n",
    "# pl.add_arrows(velocity_points.points, velocity_points.point_data[\"V\"], mag=0.0001, show_scalar_bar=True)\n",
    "pl.add_mesh(pvstream, opacity=0.4, show_scalar_bar=False)\n",
    "    \n",
    "# pl.remove_scalar_bar(\"V\")\n",
    "\n",
    "# imagefile = os.path.join(image_dir, checkpoint_base) + f\"_dTdr_{step}.png\"\n",
    "\n",
    "# pl.screenshot(filename=imagefile, window_size=(750, 750), return_img=False)\n",
    "# OR\n",
    "\n",
    "pl.show()\n"
   ]
  }
 ],
 "metadata": {
  "jupytext": {
   "cell_metadata_filter": "-all",
   "main_language": "python",
   "notebook_metadata_filter": "-all"
  },
  "kernelspec": {
   "display_name": "Python 3 (ipykernel)",
   "language": "python",
   "name": "python3"
  },
  "language_info": {
   "codemirror_mode": {
    "name": "ipython",
    "version": 3
   },
   "file_extension": ".py",
   "mimetype": "text/x-python",
   "name": "python",
   "nbconvert_exporter": "python",
   "pygments_lexer": "ipython3",
   "version": "3.11.10"
  }
 },
 "nbformat": 4,
 "nbformat_minor": 5
}
