{
 "cells": [
  {
   "cell_type": "markdown",
   "id": "4d23436d",
   "metadata": {},
   "source": [
    "## Visualise stokes cartesian model (flow etc)"
   ]
  },
  {
   "cell_type": "code",
   "execution_count": 1,
   "id": "f56963d3",
   "metadata": {
    "execution": {
     "iopub.execute_input": "2024-09-07T08:17:00.916494Z",
     "iopub.status.busy": "2024-09-07T08:17:00.915997Z",
     "iopub.status.idle": "2024-09-07T08:17:00.929979Z",
     "shell.execute_reply": "2024-09-07T08:17:00.927959Z",
     "shell.execute_reply.started": "2024-09-07T08:17:00.916430Z"
    }
   },
   "outputs": [],
   "source": [
    "# to fix trame issue\n",
    "import nest_asyncio\n",
    "nest_asyncio.apply()\n",
    "import os"
   ]
  },
  {
   "cell_type": "code",
   "execution_count": 2,
   "id": "0b026768",
   "metadata": {
    "execution": {
     "iopub.execute_input": "2024-09-07T08:17:00.931252Z",
     "iopub.status.busy": "2024-09-07T08:17:00.931071Z",
     "iopub.status.idle": "2024-09-07T08:17:02.839384Z",
     "shell.execute_reply": "2024-09-07T08:17:02.838783Z",
     "shell.execute_reply.started": "2024-09-07T08:17:00.931234Z"
    }
   },
   "outputs": [
    {
     "name": "stderr",
     "output_type": "stream",
     "text": [
      "[Lyrebird.local:09660] shmem: mmap: an error occurred while determining whether or not /var/folders/tx/95gr762j29z4tt5d1dnqlgth0000gn/T//ompi.Lyrebird.501/jf.0/353173504/sm_segment.Lyrebird.501.150d0000.0 could be created.\n"
     ]
    }
   ],
   "source": [
    "import petsc4py\n",
    "import underworld3 as uw\n",
    "import numpy as np\n",
    "import sympy"
   ]
  },
  {
   "cell_type": "code",
   "execution_count": 3,
   "id": "8c3f6ccb",
   "metadata": {
    "execution": {
     "iopub.execute_input": "2024-09-07T08:17:02.840569Z",
     "iopub.status.busy": "2024-09-07T08:17:02.840187Z",
     "iopub.status.idle": "2024-09-07T08:17:02.994028Z",
     "shell.execute_reply": "2024-09-07T08:17:02.993348Z",
     "shell.execute_reply.started": "2024-09-07T08:17:02.840548Z"
    }
   },
   "outputs": [
    {
     "name": "stdout",
     "output_type": "stream",
     "text": [
      "output/cartesian:\n",
      "total 0\n",
      "drwxr-xr-x@  294 lmoresi  staff    9408 Aug 26 21:59 \u001b[34mRa1e3.0\u001b[m\u001b[m/\n",
      "drwxr-xr-x@  909 lmoresi  staff   29088 Aug 27 16:34 \u001b[34mRa1e4.0\u001b[m\u001b[m/\n",
      "drwxr-xr-x@ 2009 lmoresi  staff   64288 Aug 27 18:41 \u001b[34mRa1e5.0\u001b[m\u001b[m/\n",
      "drwxr-xr-x  7517 lmoresi  staff  240544 Aug 28 21:19 \u001b[34mRa1e7.0\u001b[m\u001b[m/\n",
      "drwxr-xr-x  6758 lmoresi  staff  216256 Aug 29 11:44 \u001b[34mRa1e8.0\u001b[m\u001b[m/\n",
      "drwxr-xr-x@ 6818 lmoresi  staff  218176 Aug 29 11:56 \u001b[34mRa1e6.0\u001b[m\u001b[m/\n",
      "\n",
      "output/cartesian_2x1:\n",
      "total 0\n",
      "drwxr-xr-x  6259 lmoresi  staff  200288 Aug 31 10:40 \u001b[34mRa1e6.0\u001b[m\u001b[m/\n",
      "\n",
      "output/cartesian_1x1:\n",
      "total 0\n",
      "drwxr-xr-x@  7022 lmoresi  staff  224704 Sep  6 19:25 \u001b[34mRa1e6.0\u001b[m\u001b[m/\n",
      "drwxr-xr-x@ 18003 lmoresi  staff  576096 Sep  7 14:50 \u001b[34mRa1e8.0\u001b[m\u001b[m/\n",
      "drwxr-xr-x@ 19121 lmoresi  staff  611872 Sep  7 18:16 \u001b[34mRa1e7.0\u001b[m\u001b[m/\n"
     ]
    }
   ],
   "source": [
    "ls -trl output/cartesian* "
   ]
  },
  {
   "cell_type": "code",
   "execution_count": 4,
   "id": "bf972017",
   "metadata": {
    "execution": {
     "iopub.execute_input": "2024-09-07T08:17:02.995566Z",
     "iopub.status.busy": "2024-09-07T08:17:02.995232Z",
     "iopub.status.idle": "2024-09-07T08:17:03.421358Z",
     "shell.execute_reply": "2024-09-07T08:17:03.418700Z",
     "shell.execute_reply.started": "2024-09-07T08:17:02.995546Z"
    }
   },
   "outputs": [
    {
     "name": "stdout",
     "output_type": "stream",
     "text": [
      "-rw-r--r--@    1 lmoresi  staff   61432 Sep  7 18:16 tau_y_ii_Ra1e7.0_visc4.5_res15.mesh.U.00626.h5\n",
      "-rw-r--r--@    1 lmoresi  staff   28360 Sep  7 18:16 tau_y_ii_Ra1e7.0_visc4.5_res15.mesh.P.00626.h5\n",
      "-rw-r--r--@    1 lmoresi  staff  101480 Sep  7 18:16 tau_y_ii_Ra1e7.0_visc4.5_res15.mesh.T.00626.h5\n",
      "-rw-r--r--@    1 lmoresi  staff   28360 Sep  7 18:16 tau_y_ii_Ra1e7.0_visc4.5_res15.mesh.eta_n.00626.h5\n",
      "-rw-r--r--@    1 lmoresi  staff    3801 Sep  7 18:16 tau_y_ii_Ra1e7.0_visc4.5_res15.mesh.00626.xdmf\n",
      "-rw-r--r--@    1 lmoresi  staff   61432 Sep  7 18:16 tau_y_ii_Ra1e7.0_visc4.5_res15.mesh.U.00627.h5\n",
      "-rw-r--r--@    1 lmoresi  staff   28360 Sep  7 18:16 tau_y_ii_Ra1e7.0_visc4.5_res15.mesh.P.00627.h5\n",
      "-rw-r--r--@    1 lmoresi  staff  101480 Sep  7 18:16 tau_y_ii_Ra1e7.0_visc4.5_res15.mesh.T.00627.h5\n",
      "-rw-r--r--@    1 lmoresi  staff   28360 Sep  7 18:16 tau_y_ii_Ra1e7.0_visc4.5_res15.mesh.eta_n.00627.h5\n",
      "-rw-r--r--@    1 lmoresi  staff    3801 Sep  7 18:16 tau_y_ii_Ra1e7.0_visc4.5_res15.mesh.00627.xdmf\n"
     ]
    }
   ],
   "source": [
    "! ls -trl output/cartesian_1x1/Ra1e7.0/ | tail"
   ]
  },
  {
   "cell_type": "code",
   "execution_count": null,
   "id": "8da0c742-72d5-426c-96cc-517d6f0d1227",
   "metadata": {},
   "outputs": [],
   "source": []
  },
  {
   "cell_type": "code",
   "execution_count": 5,
   "id": "9a912364",
   "metadata": {
    "execution": {
     "iopub.execute_input": "2024-09-07T08:17:03.425389Z",
     "iopub.status.busy": "2024-09-07T08:17:03.423196Z",
     "iopub.status.idle": "2024-09-07T08:17:03.432534Z",
     "shell.execute_reply": "2024-09-07T08:17:03.431695Z",
     "shell.execute_reply.started": "2024-09-07T08:17:03.425353Z"
    },
    "lines_to_next_cell": 2
   },
   "outputs": [],
   "source": [
    "# This is a bit repetitive, sorry \n",
    "\n",
    "checkpoint_dir = \"output/cartesian_1x1/Ra1e7.0/\"\n",
    "name = \"tau_y_ii_Ra1e7.0_visc4.5\"\n",
    "resolution = 15\n",
    "\n",
    "checkpoint_base = f\"{name}_res{resolution}\"\n",
    "meshfile = os.path.join(checkpoint_dir, checkpoint_base) + \".mesh.00000.h5\"\n",
    "image_dir = os.path.join(checkpoint_dir,\"_images\", name)\n",
    "os.makedirs(image_dir, exist_ok=True)"
   ]
  },
  {
   "cell_type": "code",
   "execution_count": 6,
   "id": "b5d63def",
   "metadata": {
    "execution": {
     "iopub.execute_input": "2024-09-07T08:17:03.440529Z",
     "iopub.status.busy": "2024-09-07T08:17:03.439270Z",
     "iopub.status.idle": "2024-09-07T08:17:03.611481Z",
     "shell.execute_reply": "2024-09-07T08:17:03.609884Z",
     "shell.execute_reply.started": "2024-09-07T08:17:03.440513Z"
    }
   },
   "outputs": [],
   "source": [
    "mesh = uw.discretisation.Mesh(meshfile, \n",
    "                              coordinate_system_type=uw.coordinates.CoordinateSystemType.CARTESIAN)\n",
    "    \n",
    "x = mesh.N.x\n",
    "y = mesh.N.y\n",
    "\n",
    "v_soln = uw.discretisation.MeshVariable(\"U\", mesh, mesh.dim, degree=2)\n",
    "t_soln = uw.discretisation.MeshVariable(\"T\", mesh, 1, degree=3)\n",
    "eta_soln = uw.discretisation.MeshVariable(\"\\eta_n\", mesh, 1, degree=1)\n",
    "flux = uw.discretisation.MeshVariable(r\"dTdz\", mesh, 1, degree=1, continuous=False)"
   ]
  },
  {
   "cell_type": "code",
   "execution_count": 7,
   "id": "942cc670-9f6c-4469-9e89-c614f66b9135",
   "metadata": {
    "execution": {
     "iopub.execute_input": "2024-09-07T08:17:03.617921Z",
     "iopub.status.busy": "2024-09-07T08:17:03.617552Z",
     "iopub.status.idle": "2024-09-07T08:17:03.633383Z",
     "shell.execute_reply": "2024-09-07T08:17:03.632409Z",
     "shell.execute_reply.started": "2024-09-07T08:17:03.617877Z"
    }
   },
   "outputs": [],
   "source": [
    "flux_solver = uw.systems.Projection(mesh, flux)\n",
    "\n",
    "flux_fn = -mesh.vector.gradient(t_soln.sym[0]).dot(mesh.CoordinateSystem.unit_e_1) + v_soln.sym[1] * t_soln.sym[0]\n",
    "flux_solver.uw_function = flux_fn\n",
    "flux_solver.smoothing = 0.0\n",
    "\n",
    "\n",
    "sample_points = np.zeros((100,2))\n",
    "sample_points[:,0] = np.linspace(0,1,100)\n",
    "sample_points[:,1] = 1\n",
    "\n",
    "sample_points_surf = sample_points.copy()\n",
    "\n",
    "sample_points[:,1] = 0\n",
    "sample_points_base = sample_points.copy()\n",
    "\n"
   ]
  },
  {
   "cell_type": "code",
   "execution_count": 8,
   "id": "f4ee9fc9-ce74-4e06-89a6-338987d702c9",
   "metadata": {
    "execution": {
     "iopub.execute_input": "2024-09-07T08:17:03.635573Z",
     "iopub.status.busy": "2024-09-07T08:17:03.634743Z",
     "iopub.status.idle": "2024-09-07T08:17:03.679037Z",
     "shell.execute_reply": "2024-09-07T08:17:03.677755Z",
     "shell.execute_reply.started": "2024-09-07T08:17:03.635546Z"
    }
   },
   "outputs": [
    {
     "data": {
      "text/markdown": [
       "**Class**: <class 'underworld3.systems.solvers.SNES_Projection'>"
      ],
      "text/plain": [
       "<IPython.core.display.Markdown object>"
      ]
     },
     "metadata": {},
     "output_type": "display_data"
    },
    {
     "data": {
      "text/markdown": [
       "**Poisson system solver**"
      ],
      "text/plain": [
       "<IPython.core.display.Markdown object>"
      ]
     },
     "metadata": {},
     "output_type": "display_data"
    },
    {
     "data": {
      "text/markdown": [
       "Primary problem: "
      ],
      "text/plain": [
       "<IPython.core.display.Markdown object>"
      ]
     },
     "metadata": {},
     "output_type": "display_data"
    },
    {
     "data": {
      "text/latex": [
       "$\\tiny \\quad \\nabla \\cdot \\color{Blue}\\left[\\begin{matrix}0 & 0\\end{matrix}\\right]$ + "
      ],
      "text/plain": [
       "<IPython.core.display.Latex object>"
      ]
     },
     "metadata": {},
     "output_type": "display_data"
    },
    {
     "data": {
      "text/latex": [
       "$\\tiny \\phantom{ \\quad \\nabla \\cdot} \\color{DarkRed}\\left[\\begin{matrix}- {T}(\\mathbf{x}) {U}_{ 1 }(\\mathbf{x}) + {T}_{,1}(\\mathbf{x}) + {dTdz}(\\mathbf{x})\\end{matrix}\\right]\\color{Black} = 0 $"
      ],
      "text/plain": [
       "<IPython.core.display.Latex object>"
      ]
     },
     "metadata": {},
     "output_type": "display_data"
    },
    {
     "data": {
      "text/markdown": [
       "This solver is formulated in 2 dimensions"
      ],
      "text/plain": [
       "<IPython.core.display.Markdown object>"
      ]
     },
     "metadata": {},
     "output_type": "display_data"
    }
   ],
   "source": [
    "flux_solver.view()"
   ]
  },
  {
   "cell_type": "code",
   "execution_count": 67,
   "id": "b9768720",
   "metadata": {
    "execution": {
     "iopub.execute_input": "2024-09-07T09:28:03.879901Z",
     "iopub.status.busy": "2024-09-07T09:28:03.879505Z",
     "iopub.status.idle": "2024-09-07T09:28:03.883664Z",
     "shell.execute_reply": "2024-09-07T09:28:03.882956Z",
     "shell.execute_reply.started": "2024-09-07T09:28:03.879871Z"
    }
   },
   "outputs": [],
   "source": [
    "steps = range(700,800, 1)\n",
    "calc_flux = True\n",
    "add_streamlines = True\n",
    "cmap = \"RdBu_r\""
   ]
  },
  {
   "cell_type": "code",
   "execution_count": 68,
   "id": "25ffe942",
   "metadata": {
    "execution": {
     "iopub.execute_input": "2024-09-07T09:28:04.363111Z",
     "iopub.status.busy": "2024-09-07T09:28:04.362712Z",
     "iopub.status.idle": "2024-09-07T09:28:21.827828Z",
     "shell.execute_reply": "2024-09-07T09:28:21.827502Z",
     "shell.execute_reply.started": "2024-09-07T09:28:04.363077Z"
    },
    "lines_to_next_cell": 0
   },
   "outputs": [
    {
     "name": "stdout",
     "output_type": "stream",
     "text": [
      "00700,    6.9124,   8.0947,   7.5036\n",
      "00701,    6.9878,   8.0930,   7.5404\n",
      "00702,    7.0637,   8.0906,   7.5772\n",
      "00703,    7.1401,   8.0879,   7.6140\n",
      "00704,    7.2168,   8.0844,   7.6506\n",
      "00705,    7.2940,   8.0802,   7.6871\n",
      "00706,    7.3714,   8.0757,   7.7235\n",
      "00707,    7.4494,   8.0702,   7.7598\n",
      "00708,    7.5287,   8.0637,   7.7962\n",
      "00709,    7.6096,   8.0559,   7.8327\n",
      "00710,    7.6923,   8.0475,   7.8699\n",
      "00711,    7.7775,   8.0388,   7.9082\n",
      "00712,    7.8654,   8.0298,   7.9476\n",
      "00713,    7.9565,   8.0205,   7.9885\n",
      "00714,    8.0516,   8.0109,   8.0312\n",
      "00715,    8.1510,   8.0011,   8.0760\n",
      "00716,    8.2552,   7.9913,   8.1233\n",
      "00717,    8.3648,   7.9816,   8.1732\n",
      "00718,    8.4804,   7.9720,   8.2262\n",
      "00719,    8.6022,   7.9624,   8.2823\n",
      "00720,    8.7305,   7.9528,   8.3416\n",
      "00721,    8.8649,   7.9435,   8.4042\n",
      "00722,    9.0053,   7.9349,   8.4701\n",
      "00723,    9.1530,   7.9269,   8.5399\n",
      "00724,    9.3106,   7.9188,   8.6147\n",
      "00725,    9.4848,   7.9101,   8.6974\n",
      "00726,    9.6815,   7.9002,   8.7908\n",
      "00727,    9.9128,   7.8872,   8.9000\n",
      "00728,   10.1873,   7.8697,   9.0285\n",
      "00729,   10.5209,   7.8469,   9.1839\n",
      "00730,   10.9086,   7.8202,   9.3644\n",
      "00731,   11.3711,   7.7853,   9.5782\n",
      "00732,   11.9521,   7.7360,   9.8441\n",
      "00733,   12.5517,   7.6895,  10.1206\n",
      "00734,   13.4320,   7.6085,  10.5202\n",
      "00735,   16.2662,   7.4852,  11.8757\n",
      "00736,   21.4526,   7.2965,  14.3746\n",
      "00737,   26.5642,   7.0188,  16.7915\n",
      "00738,   33.9483,   6.6766,  20.3124\n",
      "00739,   38.8086,   6.3226,  22.5656\n",
      "00740,   43.9420,   5.9801,  24.9610\n",
      "00741,   52.3990,   5.6500,  29.0245\n",
      "00742,   62.1224,   5.3009,  33.7116\n",
      "00743,   65.8034,   4.8621,  35.3327\n",
      "00744,   67.5223,   4.3048,  35.9135\n",
      "00745,   73.2462,   3.5531,  38.3997\n",
      "00746,   80.6432,   2.6852,  41.6642\n",
      "00747,   94.5263,   1.7919,  48.1591\n",
      "00748,  105.9748,   1.0227,  53.4988\n",
      "00749,  100.5709,   0.5057,  50.5383\n",
      "00750,   94.1947,   0.4651,  47.3299\n",
      "00751,   91.6914,   1.1910,  46.4412\n",
      "00752,   88.6805,   2.6997,  45.6901\n",
      "00753,   96.0556,   4.8208,  50.4382\n",
      "00754,   93.0516,   7.4694,  50.2605\n",
      "00755,   84.6698,   9.8458,  47.2578\n",
      "00756,   78.3260,  11.4336,  44.8798\n",
      "00757,   74.3520,  12.1212,  43.2366\n",
      "00758,   71.9260,  11.7954,  41.8607\n",
      "00759,   68.5301,  11.0506,  39.7903\n",
      "00760,   64.2437,  10.3851,  37.3144\n",
      "00761,   59.9914,  10.2094,  35.1004\n",
      "00762,   55.8461,  10.3663,  33.1062\n",
      "00763,   52.0836,  10.3697,  31.2266\n",
      "00764,   48.8728,   9.3876,  29.1302\n",
      "00765,   46.2295,   7.0383,  26.6339\n",
      "00766,   43.8865,   4.1303,  24.0084\n",
      "00767,   41.7591,   1.7275,  21.7433\n",
      "00768,   39.8233,  -0.2506,  19.7864\n",
      "00769,   38.0025,  -1.6591,  18.1717\n",
      "00770,   36.2030,  -1.5909,  17.3061\n",
      "00771,   34.4311,   0.1897,  17.3104\n",
      "00772,   32.7607,   2.6354,  17.6980\n",
      "00773,   31.2204,   5.0258,  18.1231\n",
      "00774,   29.8228,   6.9056,  18.3642\n",
      "00775,   28.5716,   8.3319,  18.4518\n",
      "00776,   27.4470,   9.3965,  18.4218\n",
      "00777,   26.4171,  10.2216,  18.3193\n",
      "00778,   25.4546,  10.8952,  18.1749\n",
      "00779,   24.5259,  11.4542,  17.9901\n",
      "00780,   23.5964,  11.9266,  17.7615\n",
      "00781,   22.6512,  12.3258,  17.4885\n",
      "00782,   21.6941,  12.6624,  17.1782\n",
      "00783,   20.7157,  12.9324,  16.8240\n",
      "00784,   19.7256,  13.1234,  16.4245\n",
      "00785,   18.8072,  13.2151,  16.0112\n",
      "00786,   18.0342,  13.2128,  15.6235\n",
      "00787,   17.3423,  13.1463,  15.2443\n",
      "00788,   16.7055,  13.0661,  14.8858\n",
      "00789,   16.1091,  12.9856,  14.5474\n",
      "00790,   15.5428,  12.9129,  14.2278\n",
      "00791,   14.9906,  12.8564,  13.9235\n",
      "00792,   14.4309,  12.8291,  13.6300\n",
      "00793,   13.8746,  12.8434,  13.3590\n",
      "00794,   13.5322,  12.8506,  13.1914\n",
      "00795,   13.2695,  12.4293,  12.8494\n",
      "00796,   13.0432,  11.7244,  12.3838\n",
      "00797,   12.8299,  12.1073,  12.4686\n",
      "00798,   12.6099,  13.4977,  13.0538\n",
      "00799,   12.3669,  14.3896,  13.3783\n"
     ]
    }
   ],
   "source": [
    "import mpi4py\n",
    "import pyvista as pv\n",
    "import underworld3.visualisation as vis\n",
    "\n",
    "pl = pv.Plotter(window_size=[750, 750])\n",
    "\n",
    "for step in steps:\n",
    "\n",
    "    try:\n",
    "        v_soln.read_timestep(checkpoint_base, \"U\", step, outputPath=checkpoint_dir)\n",
    "        t_soln.read_timestep(checkpoint_base, \"T\", step, outputPath=checkpoint_dir)\n",
    "        eta_soln.read_timestep(checkpoint_base, \"eta_n\", step, outputPath=checkpoint_dir)\n",
    "        if not calc_flux:\n",
    "            print(f\"Plotting {step:05d}\")\n",
    "\n",
    "    except:\n",
    "        print(f\"Failed to read step {step} correctly\")\n",
    "        continue\n",
    "\n",
    "    pl.clear()\n",
    "\n",
    "    pvmesh = vis.mesh_to_pv_mesh(mesh)\n",
    "    pvmesh.point_data[\"T\"] = vis.scalar_fn_to_pv_points(pvmesh, t_soln.sym[0])\n",
    "    pvmesh.point_data[\"V\"] = vis.vector_fn_to_pv_points(pvmesh, v_soln.sym)\n",
    "    pvmesh.point_data[\"Eta\"] = vis.scalar_fn_to_pv_points(pvmesh, eta_soln.sym)\n",
    "\n",
    "    pvmesh_v = vis.meshVariable_to_pv_mesh_object(v_soln, alpha=None)\n",
    "    pvmesh_v.point_data[\"V\"] = vis.vector_fn_to_pv_points(pvmesh_v, v_soln.sym)\n",
    "\n",
    "    pvmesh_t = vis.meshVariable_to_pv_mesh_object(t_soln, alpha=None)\n",
    "    pvmesh_t.point_data[\"T\"] = vis.scalar_fn_to_pv_points(pvmesh_t, t_soln.sym[0])\n",
    "    \n",
    "    # point sources at cell centres\n",
    "    skip = 19\n",
    "    points = np.zeros((mesh._centroids[::skip].shape[0], 3))\n",
    "    points[:, 0] = mesh._centroids[::skip, 0]\n",
    "    points[:, 1] = mesh._centroids[::skip, 1]\n",
    "    point_cloud = pv.PolyData(points)\n",
    "\n",
    "\n",
    "    pl.add_mesh(\n",
    "        pvmesh_t,\n",
    "        cmap=cmap,\n",
    "        edge_color=\"Black\",\n",
    "        edge_opacity=0.1,\n",
    "        show_edges=False,\n",
    "        scalars=\"T\",\n",
    "        use_transparency=False,\n",
    "        opacity=1.0,\n",
    "        clim=[0.0,1.0],\n",
    "        show_scalar_bar=False\n",
    "    )\n",
    "\n",
    "\n",
    "    pl.add_mesh(\n",
    "        pvmesh,\n",
    "        cmap=\"Greys\",\n",
    "        edge_color=\"Black\",\n",
    "        edge_opacity=0.1,\n",
    "        show_edges=False,\n",
    "        scalars=\"Eta\",\n",
    "        use_transparency=False,\n",
    "        opacity= [0, 0.0, 0.2,  0.5],\n",
    "        clim=[1.0,30000.0],\n",
    "        show_scalar_bar=False\n",
    "    )\n",
    "\n",
    "\n",
    "    # pl.add_mesh(pvmesh, cmap=\"RdBu_r\", scalars=\"T\", opacity=0.5, show_edges=True, edge_color=\"Black\",\n",
    "    #     edge_opacity=0.5, show_scalar_bar=True)   \n",
    "\n",
    "    if add_streamlines:\n",
    "        pvstream = pvmesh.streamlines_from_source(\n",
    "                point_cloud,\n",
    "                vectors=\"V\",\n",
    "                integration_direction=\"both\",\n",
    "                max_time=1,\n",
    "                surface_streamlines=True,\n",
    "            )\n",
    "    \n",
    "        pl.add_mesh(pvstream,\n",
    "                    opacity=0.5,\n",
    "                    show_scalar_bar=False)\n",
    "\n",
    "    # pl.camera_position = [(3.0, 0.5, 6.750994846396983),\n",
    "    #                       (3.0, 0.5, 0.0),\n",
    "    #                       (0.0, 1.0, 0.0)]\n",
    "\n",
    "    imagefile = os.path.join(image_dir, checkpoint_base) + f\"_V_T_{step}.png\"\n",
    "    \n",
    "    pl.screenshot(filename=imagefile,\n",
    "                  window_size=(1000, 1000),\n",
    "                  return_img=False)\n",
    "\n",
    "    if calc_flux:\n",
    "        flux_solver.solve()\n",
    "        surf_flux = uw.function.evaluate(flux.sym, sample_points_surf)\n",
    "        basal_flux = uw.function.evaluate(flux.sym, sample_points_base)\n",
    "    \n",
    "        # Heat flux: Upper, Lower, Mean\n",
    "        print(f\"{step:05d},  {surf_flux.mean():8.4f}, {basal_flux.mean():8.4f}, {((surf_flux.mean() + basal_flux.mean())/2):8.4f}\")\n",
    "\n",
    "\n"
   ]
  },
  {
   "cell_type": "code",
   "execution_count": 66,
   "id": "ef5a9c93",
   "metadata": {
    "editable": true,
    "execution": {
     "iopub.execute_input": "2024-09-07T09:27:35.300366Z",
     "iopub.status.busy": "2024-09-07T09:27:35.300049Z",
     "iopub.status.idle": "2024-09-07T09:27:35.344427Z",
     "shell.execute_reply": "2024-09-07T09:27:35.343098Z",
     "shell.execute_reply.started": "2024-09-07T09:27:35.300340Z"
    },
    "slideshow": {
     "slide_type": ""
    },
    "tags": []
   },
   "outputs": [
    {
     "data": {
      "application/vnd.jupyter.widget-view+json": {
       "model_id": "412ec0ebb3e4425eb3aae43c390377fb",
       "version_major": 2,
       "version_minor": 0
      },
      "text/plain": [
       "Widget(value='<iframe src=\"http://localhost:50906/index.html?ui=P_0x34bb2b050_25&reconnect=auto\" class=\"pyvist…"
      ]
     },
     "metadata": {},
     "output_type": "display_data"
    }
   ],
   "source": [
    "pl.show(jupyter_backend=\"trame\")"
   ]
  },
  {
   "cell_type": "code",
   "execution_count": null,
   "id": "726f0636",
   "metadata": {
    "execution": {
     "iopub.status.busy": "2024-09-07T08:17:04.895809Z",
     "iopub.status.idle": "2024-09-07T08:17:04.901796Z",
     "shell.execute_reply": "2024-09-07T08:17:04.900896Z",
     "shell.execute_reply.started": "2024-09-07T08:17:04.900876Z"
    }
   },
   "outputs": [],
   "source": [
    "## Calculate heat flux, evaluate at surface — proxy for boundary layer thickness"
   ]
  },
  {
   "cell_type": "code",
   "execution_count": null,
   "id": "87481e74-81d9-40fc-939f-deb6cccf6af0",
   "metadata": {
    "execution": {
     "iopub.status.busy": "2024-09-07T08:17:04.911161Z",
     "iopub.status.idle": "2024-09-07T08:17:04.919211Z",
     "shell.execute_reply": "2024-09-07T08:17:04.918780Z",
     "shell.execute_reply.started": "2024-09-07T08:17:04.918754Z"
    },
    "scrolled": true
   },
   "outputs": [],
   "source": [
    "t_soln.stats()"
   ]
  },
  {
   "cell_type": "code",
   "execution_count": null,
   "id": "5fa64b49-000e-405c-8605-4a8bc000de0d",
   "metadata": {
    "execution": {
     "iopub.status.busy": "2024-09-07T08:17:04.935805Z",
     "iopub.status.idle": "2024-09-07T08:17:04.941886Z",
     "shell.execute_reply": "2024-09-07T08:17:04.940841Z",
     "shell.execute_reply.started": "2024-09-07T08:17:04.940814Z"
    }
   },
   "outputs": [],
   "source": [
    "I = uw.maths.Integral(mesh, t_soln.sym[0])\n",
    "mean = I.evaluate()\n",
    "mean"
   ]
  },
  {
   "cell_type": "code",
   "execution_count": null,
   "id": "a007e257-891b-443e-ba92-f76ccbd8acce",
   "metadata": {
    "execution": {
     "iopub.status.busy": "2024-09-07T08:17:04.952478Z",
     "iopub.status.idle": "2024-09-07T08:17:04.959726Z",
     "shell.execute_reply": "2024-09-07T08:17:04.955560Z",
     "shell.execute_reply.started": "2024-09-07T08:17:04.955530Z"
    }
   },
   "outputs": [],
   "source": [
    "I.fn = (t_soln.sym[0]-mean)**2\n",
    "np.sqrt(I.evaluate())\n",
    "l2 = np.sqrt(I.evaluate())\n",
    "l2"
   ]
  },
  {
   "cell_type": "code",
   "execution_count": null,
   "id": "a937a810-34bf-4c9e-b7b9-9dc57ecd31f4",
   "metadata": {
    "execution": {
     "iopub.status.busy": "2024-09-07T08:17:04.978507Z",
     "iopub.status.idle": "2024-09-07T08:17:04.980719Z",
     "shell.execute_reply": "2024-09-07T08:17:04.980456Z",
     "shell.execute_reply.started": "2024-09-07T08:17:04.980416Z"
    }
   },
   "outputs": [],
   "source": [
    "! open output/cartesian_1x1/Ra1e6.0/images"
   ]
  },
  {
   "cell_type": "code",
   "execution_count": null,
   "id": "69b1af47-bd05-4c27-96fa-3699bcc51492",
   "metadata": {
    "execution": {
     "iopub.status.busy": "2024-09-07T08:17:04.983395Z",
     "iopub.status.idle": "2024-09-07T08:17:04.985388Z",
     "shell.execute_reply": "2024-09-07T08:17:04.984534Z",
     "shell.execute_reply.started": "2024-09-07T08:17:04.984509Z"
    }
   },
   "outputs": [],
   "source": [
    "0/0"
   ]
  },
  {
   "cell_type": "code",
   "execution_count": null,
   "id": "4d9cfedc",
   "metadata": {
    "execution": {
     "iopub.status.busy": "2024-09-07T08:17:04.990898Z",
     "iopub.status.idle": "2024-09-07T08:17:04.991618Z",
     "shell.execute_reply": "2024-09-07T08:17:04.991365Z",
     "shell.execute_reply.started": "2024-09-07T08:17:04.991323Z"
    }
   },
   "outputs": [],
   "source": [
    "flux_solver = uw.systems.Projection(mesh, flux)\n",
    "\n",
    "# Conductive flux only !\n",
    "flux_fn = -mesh.vector.gradient(t_soln.sym[0]).dot(mesh.CoordinateSystem.unit_e_1)  + v_soln.sym[1] * t_soln.sym[0]\n",
    "flux_solver.uw_function = flux_fn\n",
    "flux_solver.smoothing = 0.0\n",
    "flux_solver.solve()\n",
    "\n",
    "surf_flux = uw.function.evaluate(flux.sym, sample_points_surf)\n",
    "basal_flux = uw.function.evaluate(flux.sym, sample_points_base)\n",
    "\n",
    "# Heat flux: Upper, Lower, Mean\n",
    "print(f\"{step:05d},  {surf_flux.mean():8.4f}, {basal_flux.mean():8.4f}, {((surf_flux.mean() + basal_flux.mean())/2):8.4f}\")\n",
    "\n"
   ]
  },
  {
   "cell_type": "code",
   "execution_count": null,
   "id": "14253218",
   "metadata": {
    "execution": {
     "iopub.status.busy": "2024-09-07T08:17:04.996440Z",
     "iopub.status.idle": "2024-09-07T08:17:04.996878Z",
     "shell.execute_reply": "2024-09-07T08:17:04.996737Z",
     "shell.execute_reply.started": "2024-09-07T08:17:04.996726Z"
    },
    "lines_to_next_cell": 0
   },
   "outputs": [],
   "source": [
    "import mpi4py\n",
    "import pyvista as pv\n",
    "import underworld3.visualisation as vis\n",
    "\n",
    "pvmesh = vis.mesh_to_pv_mesh(mesh)\n",
    "pvmesh.point_data[\"dTdz\"] = vis.scalar_fn_to_pv_points(pvmesh, flux.sym[0])\n",
    "pvmesh.point_data[\"V\"] = vis.vector_fn_to_pv_points(pvmesh, v_soln.sym)\n",
    "pvmesh.point_data[\"V\"] -= pvmesh.point_data[\"V\"].mean()\n",
    "\n",
    "velocity_points = vis.meshVariable_to_pv_cloud(v_soln)\n",
    "velocity_points.point_data[\"V\"] = vis.vector_fn_to_pv_points(velocity_points, v_soln.sym)\n",
    "\n",
    "# point sources at cell centres\n",
    "skip = 8\n",
    "points = np.zeros((mesh._centroids[::skip].shape[0], 3))\n",
    "points[:, 0] = mesh._centroids[::skip, 0]\n",
    "points[:, 1] = mesh._centroids[::skip, 1]\n",
    "point_cloud = pv.PolyData(points)\n",
    "\n",
    "pvstream = pvmesh.streamlines_from_source(\n",
    "    point_cloud,\n",
    "    vectors=\"V\",\n",
    "    integration_direction=\"both\",\n",
    "    max_time=1.5,\n",
    ")\n",
    "\n",
    "pl = pv.Plotter(window_size=[1000, 1000])\n",
    "\n",
    "pl.add_mesh(\n",
    "    pvmesh,\n",
    "    cmap=\"RdYlBu_r\",\n",
    "    edge_color=\"Black\",\n",
    "    show_edges=False,\n",
    "    scalars=\"dTdz\",\n",
    "    use_transparency=False,\n",
    "    opacity=1.0,\n",
    ")\n",
    "\n",
    "# \n",
    "# pl.add_mesh(pvmesh, \"Black\", \"wireframe\",  opacity=0.1)\n",
    "\n",
    "# pl.add_points(point_cloud, color=\"White\", point_size=3.0, opacity=0.25)\n",
    "\n",
    "# pl.add_arrows(velocity_points.points, velocity_points.point_data[\"V\"], mag=0.0001, show_scalar_bar=True)\n",
    "pl.add_mesh(pvstream, opacity=0.4, show_scalar_bar=False)\n",
    "    \n",
    "# pl.remove_scalar_bar(\"V\")\n",
    "\n",
    "# imagefile = os.path.join(image_dir, checkpoint_base) + f\"_dTdr_{step}.png\"\n",
    "\n",
    "# pl.screenshot(filename=imagefile, window_size=(750, 750), return_img=False)\n",
    "# OR\n",
    "\n",
    "pl.show()\n"
   ]
  }
 ],
 "metadata": {
  "jupytext": {
   "cell_metadata_filter": "-all",
   "main_language": "python",
   "notebook_metadata_filter": "-all"
  },
  "kernelspec": {
   "display_name": "Python 3 (ipykernel)",
   "language": "python",
   "name": "python3"
  },
  "language_info": {
   "codemirror_mode": {
    "name": "ipython",
    "version": 3
   },
   "file_extension": ".py",
   "mimetype": "text/x-python",
   "name": "python",
   "nbconvert_exporter": "python",
   "pygments_lexer": "ipython3",
   "version": "3.11.7"
  }
 },
 "nbformat": 4,
 "nbformat_minor": 5
}
