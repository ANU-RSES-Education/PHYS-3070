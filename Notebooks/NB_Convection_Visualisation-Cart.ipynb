{
 "cells": [
  {
   "cell_type": "markdown",
   "id": "4d23436d",
   "metadata": {},
   "source": [
    "## Visualise stokes annulus model (flow etc)"
   ]
  },
  {
   "cell_type": "code",
   "execution_count": 16,
   "id": "f56963d3",
   "metadata": {
    "execution": {
     "iopub.execute_input": "2024-08-22T01:46:03.387178Z",
     "iopub.status.busy": "2024-08-22T01:46:03.386917Z",
     "iopub.status.idle": "2024-08-22T01:46:03.400340Z",
     "shell.execute_reply": "2024-08-22T01:46:03.391101Z",
     "shell.execute_reply.started": "2024-08-22T01:46:03.387152Z"
    }
   },
   "outputs": [],
   "source": [
    "# to fix trame issue\n",
    "import nest_asyncio\n",
    "nest_asyncio.apply()\n",
    "import os"
   ]
  },
  {
   "cell_type": "code",
   "execution_count": 17,
   "id": "0b026768",
   "metadata": {
    "execution": {
     "iopub.execute_input": "2024-08-22T01:46:03.565791Z",
     "iopub.status.busy": "2024-08-22T01:46:03.565556Z",
     "iopub.status.idle": "2024-08-22T01:46:03.572286Z",
     "shell.execute_reply": "2024-08-22T01:46:03.571313Z",
     "shell.execute_reply.started": "2024-08-22T01:46:03.565776Z"
    }
   },
   "outputs": [],
   "source": [
    "import petsc4py\n",
    "import underworld3 as uw\n",
    "import numpy as np\n",
    "import sympy"
   ]
  },
  {
   "cell_type": "code",
   "execution_count": 44,
   "id": "8c3f6ccb",
   "metadata": {
    "execution": {
     "iopub.execute_input": "2024-08-22T02:12:08.005644Z",
     "iopub.status.busy": "2024-08-22T02:12:08.000042Z",
     "iopub.status.idle": "2024-08-22T02:12:08.164006Z",
     "shell.execute_reply": "2024-08-22T02:12:08.163065Z",
     "shell.execute_reply.started": "2024-08-22T02:12:08.005172Z"
    }
   },
   "outputs": [
    {
     "name": "stdout",
     "output_type": "stream",
     "text": [
      "total 0\n",
      "drwxr-xr-x  1585 lmoresi  staff  50720 Aug 20 07:40 \u001b[34mRa1e7.0\u001b[m\u001b[m/\n",
      "drwxr-xr-x@ 1208 lmoresi  staff  38656 Aug 20 10:19 \u001b[34mRa1e5.0\u001b[m\u001b[m/\n",
      "drwxr-xr-x@ 1815 lmoresi  staff  58080 Aug 20 18:03 \u001b[34mRa1e6.0\u001b[m\u001b[m/\n",
      "drwxr-xr-x@  808 lmoresi  staff  25856 Aug 20 20:12 \u001b[34mRa1e4.0\u001b[m\u001b[m/\n",
      "drwxr-xr-x@  808 lmoresi  staff  25856 Aug 20 21:04 \u001b[34mRa1e3.0\u001b[m\u001b[m/\n",
      "drwxr-xr-x@  404 lmoresi  staff  12928 Aug 22 11:54 \u001b[34mRa1e2.0\u001b[m\u001b[m/\n"
     ]
    }
   ],
   "source": [
    "ls -trl output/cartesian/ | tail"
   ]
  },
  {
   "cell_type": "code",
   "execution_count": 45,
   "id": "bf972017",
   "metadata": {
    "execution": {
     "iopub.execute_input": "2024-08-22T02:12:08.493267Z",
     "iopub.status.busy": "2024-08-22T02:12:08.492857Z",
     "iopub.status.idle": "2024-08-22T02:12:08.646581Z",
     "shell.execute_reply": "2024-08-22T02:12:08.645702Z",
     "shell.execute_reply.started": "2024-08-22T02:12:08.493232Z"
    }
   },
   "outputs": [
    {
     "name": "stdout",
     "output_type": "stream",
     "text": [
      "-rw-r--r--@  1 lmoresi  staff  234920 Aug 22 11:54 cartesian_Ra1e2.0_res10.mesh.T.00097.h5\n",
      "-rw-r--r--@  1 lmoresi  staff    3076 Aug 22 11:54 cartesian_Ra1e2.0_res10.mesh.00097.xdmf\n",
      "-rw-r--r--@  1 lmoresi  staff  137272 Aug 22 11:54 cartesian_Ra1e2.0_res10.mesh.U.00098.h5\n",
      "-rw-r--r--@  1 lmoresi  staff   51880 Aug 22 11:54 cartesian_Ra1e2.0_res10.mesh.P.00098.h5\n",
      "-rw-r--r--@  1 lmoresi  staff  234920 Aug 22 11:54 cartesian_Ra1e2.0_res10.mesh.T.00098.h5\n",
      "-rw-r--r--@  1 lmoresi  staff    3076 Aug 22 11:54 cartesian_Ra1e2.0_res10.mesh.00098.xdmf\n",
      "-rw-r--r--@  1 lmoresi  staff  137272 Aug 22 11:54 cartesian_Ra1e2.0_res10.mesh.U.00099.h5\n",
      "-rw-r--r--@  1 lmoresi  staff   51880 Aug 22 11:54 cartesian_Ra1e2.0_res10.mesh.P.00099.h5\n",
      "-rw-r--r--@  1 lmoresi  staff  234920 Aug 22 11:54 cartesian_Ra1e2.0_res10.mesh.T.00099.h5\n",
      "-rw-r--r--@  1 lmoresi  staff    3076 Aug 22 11:54 cartesian_Ra1e2.0_res10.mesh.00099.xdmf\n"
     ]
    }
   ],
   "source": [
    "ls -trl output/cartesian/Ra1e2.0/ | tail"
   ]
  },
  {
   "cell_type": "code",
   "execution_count": 46,
   "id": "9a912364",
   "metadata": {
    "execution": {
     "iopub.execute_input": "2024-08-22T02:12:11.699429Z",
     "iopub.status.busy": "2024-08-22T02:12:11.699019Z",
     "iopub.status.idle": "2024-08-22T02:12:11.709827Z",
     "shell.execute_reply": "2024-08-22T02:12:11.709024Z",
     "shell.execute_reply.started": "2024-08-22T02:12:11.699390Z"
    },
    "lines_to_next_cell": 2
   },
   "outputs": [],
   "source": [
    "# This is a bit repetitive, sorry \n",
    "\n",
    "checkpoint_dir = f\"output/cartesian/Ra1e2.0\"\n",
    "name = \"cartesian_Ra1e2.0\"\n",
    "resolution = 10\n",
    "\n",
    "checkpoint_base = f\"{name}_res{resolution}\"\n",
    "meshfile = os.path.join(checkpoint_dir, checkpoint_base) + \".mesh.00000.h5\"\n",
    "image_dir = os.path.join(checkpoint_dir,\"images\")\n",
    "os.makedirs(image_dir, exist_ok=True)"
   ]
  },
  {
   "cell_type": "code",
   "execution_count": 47,
   "id": "b5d63def",
   "metadata": {
    "execution": {
     "iopub.execute_input": "2024-08-22T02:12:12.100297Z",
     "iopub.status.busy": "2024-08-22T02:12:12.099804Z",
     "iopub.status.idle": "2024-08-22T02:12:12.194200Z",
     "shell.execute_reply": "2024-08-22T02:12:12.193898Z",
     "shell.execute_reply.started": "2024-08-22T02:12:12.100266Z"
    }
   },
   "outputs": [],
   "source": [
    "mesh = uw.discretisation.Mesh(meshfile, \n",
    "                              coordinate_system_type=uw.coordinates.CoordinateSystemType.CARTESIAN)\n",
    "    \n",
    "x = mesh.N.x\n",
    "y = mesh.N.y\n",
    "\n",
    "v_soln = uw.discretisation.MeshVariable(\"U\", mesh, mesh.dim, degree=2)\n",
    "t_soln = uw.discretisation.MeshVariable(\"T\", mesh, 1, degree=3)\n",
    "flux = uw.discretisation.MeshVariable(r\"dTdz\", mesh, 1, degree=1)"
   ]
  },
  {
   "cell_type": "code",
   "execution_count": 48,
   "id": "942cc670-9f6c-4469-9e89-c614f66b9135",
   "metadata": {
    "execution": {
     "iopub.execute_input": "2024-08-22T02:12:12.537975Z",
     "iopub.status.busy": "2024-08-22T02:12:12.537619Z",
     "iopub.status.idle": "2024-08-22T02:12:12.542459Z",
     "shell.execute_reply": "2024-08-22T02:12:12.541713Z",
     "shell.execute_reply.started": "2024-08-22T02:12:12.537949Z"
    }
   },
   "outputs": [
    {
     "name": "stdout",
     "output_type": "stream",
     "text": [
      "DM Object: uw_output/cartesian/Ra1e2.0/cartesian_Ra1e2.0_res10.mesh.00000.h5 1 MPI process\n",
      "  type: plex\n",
      "uw_output/cartesian/Ra1e2.0/cartesian_Ra1e2.0_res10.mesh.00000.h5 in 2 dimensions:\n",
      "  Number of 0-cells per rank: 793\n",
      "  Number of 1-cells per rank: 2236\n",
      "  Number of 2-cells per rank: 1444\n",
      "Labels:\n",
      "  depth: 3 strata with value/size (0 (793), 1 (2236), 2 (1444))\n",
      "  All_Boundaries: 1 strata with value/size (1001 (140))\n",
      "  Bottom: 1 strata with value/size (11 (119))\n",
      "  Elements: 1 strata with value/size (99999 (2097))\n",
      "  Left: 1 strata with value/size (14 (19))\n",
      "  Right: 1 strata with value/size (13 (19))\n",
      "  Top: 1 strata with value/size (12 (119))\n",
      "  UW_Boundaries: 5 strata with value/size (1001 (140), 11 (119), 12 (119), 13 (19), 14 (19))\n",
      "  celltype: 3 strata with value/size (0 (793), 1 (2236), 3 (1444))\n",
      "Field U:\n",
      "  adjacency FEM\n",
      "Field T:\n",
      "  adjacency FEM\n",
      "Field dTdz:\n",
      "  adjacency FEM\n"
     ]
    }
   ],
   "source": [
    "mesh.dm.view()"
   ]
  },
  {
   "cell_type": "code",
   "execution_count": 49,
   "id": "b9768720",
   "metadata": {
    "execution": {
     "iopub.execute_input": "2024-08-22T02:12:13.010028Z",
     "iopub.status.busy": "2024-08-22T02:12:13.009384Z",
     "iopub.status.idle": "2024-08-22T02:12:13.014551Z",
     "shell.execute_reply": "2024-08-22T02:12:13.013669Z",
     "shell.execute_reply.started": "2024-08-22T02:12:13.009988Z"
    }
   },
   "outputs": [],
   "source": [
    "steps = range(0,30,1)"
   ]
  },
  {
   "cell_type": "code",
   "execution_count": 50,
   "id": "25ffe942",
   "metadata": {
    "execution": {
     "iopub.execute_input": "2024-08-22T02:12:13.500584Z",
     "iopub.status.busy": "2024-08-22T02:12:13.500238Z",
     "iopub.status.idle": "2024-08-22T02:12:18.148882Z",
     "shell.execute_reply": "2024-08-22T02:12:18.148572Z",
     "shell.execute_reply.started": "2024-08-22T02:12:13.500556Z"
    },
    "lines_to_next_cell": 0,
    "scrolled": true
   },
   "outputs": [
    {
     "name": "stdout",
     "output_type": "stream",
     "text": [
      "Plotting step 0\n",
      "Plotting step 1\n",
      "Plotting step 2\n",
      "Plotting step 3\n",
      "Plotting step 4\n",
      "Plotting step 5\n",
      "Plotting step 6\n",
      "Plotting step 7\n",
      "Plotting step 8\n",
      "Plotting step 9\n",
      "Plotting step 10\n",
      "Plotting step 11\n",
      "Plotting step 12\n",
      "Plotting step 13\n",
      "Plotting step 14\n",
      "Plotting step 15\n",
      "Plotting step 16\n",
      "Plotting step 17\n",
      "Plotting step 18\n",
      "Plotting step 19\n",
      "Plotting step 20\n",
      "Plotting step 21\n",
      "Plotting step 22\n",
      "Plotting step 23\n",
      "Plotting step 24\n",
      "Plotting step 25\n",
      "Plotting step 26\n",
      "Plotting step 27\n",
      "Plotting step 28\n",
      "Plotting step 29\n"
     ]
    }
   ],
   "source": [
    "import mpi4py\n",
    "import pyvista as pv\n",
    "import underworld3.visualisation as vis\n",
    "\n",
    "pl = pv.Plotter(window_size=[1000, 500])\n",
    "\n",
    "for step in steps:\n",
    "\n",
    "    try:\n",
    "        v_soln.read_timestep(checkpoint_base, \"U\", step, outputPath=checkpoint_dir)\n",
    "        t_soln.read_timestep(checkpoint_base, \"T\", step, outputPath=checkpoint_dir)\n",
    "        print(f\"Plotting step {step}\")\n",
    "\n",
    "    except:\n",
    "        print(f\"Failed to read step {step} correctly\")\n",
    "        continue\n",
    "\n",
    "    pl.clear()\n",
    "\n",
    "    pvmesh = vis.mesh_to_pv_mesh(mesh)\n",
    "    pvmesh.point_data[\"T\"] = vis.scalar_fn_to_pv_points(pvmesh, t_soln.sym[0])\n",
    "    pvmesh.point_data[\"V\"] = vis.vector_fn_to_pv_points(pvmesh, v_soln.sym)\n",
    "\n",
    "    pvmesh_v = vis.meshVariable_to_pv_mesh_object(v_soln, alpha=None)\n",
    "    pvmesh_v.point_data[\"V\"] = vis.vector_fn_to_pv_points(pvmesh_v, v_soln.sym)\n",
    "\n",
    "    pvmesh_t = vis.meshVariable_to_pv_mesh_object(t_soln, alpha=None)\n",
    "    pvmesh_t.point_data[\"T\"] = vis.scalar_fn_to_pv_points(pvmesh_t, t_soln.sym[0])\n",
    "    \n",
    "    # point sources at cell centres\n",
    "    skip = 10\n",
    "    points = np.zeros((mesh._centroids[::skip].shape[0], 3))\n",
    "    points[:, 0] = mesh._centroids[::skip, 0]\n",
    "    points[:, 1] = mesh._centroids[::skip, 1]\n",
    "    point_cloud = pv.PolyData(points)\n",
    "\n",
    "    pvstream = pvmesh.streamlines_from_source(\n",
    "        point_cloud,\n",
    "        vectors=\"V\",\n",
    "        integration_direction=\"both\",\n",
    "        max_time=1,\n",
    "        surface_streamlines=True,\n",
    "    )\n",
    "    \n",
    "    pl.add_mesh(\n",
    "        pvmesh_t,\n",
    "        cmap=\"RdBu_r\",\n",
    "        edge_color=\"Black\",\n",
    "        edge_opacity=0.1,\n",
    "        show_edges=True,\n",
    "        scalars=\"T\",\n",
    "        use_transparency=False,\n",
    "        opacity=1.0,\n",
    "        # clim=[0.0,1.0],\n",
    "        # show_scalar_bar=False\n",
    "    )\n",
    "\n",
    "\n",
    "\n",
    "    pl.add_mesh(pvmesh, cmap=\"RdBu_r\", scalars=\"T\", opacity=0.5, show_edges=True, edge_color=\"Black\",\n",
    "        edge_opacity=0.5, show_scalar_bar=True)    \n",
    "\n",
    "    pl.add_mesh(pvstream)\n",
    "\n",
    "    pl.camera_position = [(3.0, 0.5, 6.750994846396983),\n",
    "                          (3.0, 0.5, 0.0),\n",
    "                          (0.0, 1.0, 0.0)]\n",
    "\n",
    "    imagefile = os.path.join(image_dir, checkpoint_base) + f\"_V_T_{step}.png\"\n",
    "    \n",
    "    pl.screenshot(filename=imagefile,\n",
    "                  window_size=(1000, 500),\n",
    "                  return_img=False)\n",
    "\n"
   ]
  },
  {
   "cell_type": "code",
   "execution_count": 43,
   "id": "ef5a9c93",
   "metadata": {
    "editable": true,
    "execution": {
     "iopub.execute_input": "2024-08-22T01:51:17.880307Z",
     "iopub.status.busy": "2024-08-22T01:51:17.880079Z",
     "iopub.status.idle": "2024-08-22T01:51:17.970414Z",
     "shell.execute_reply": "2024-08-22T01:51:17.961560Z",
     "shell.execute_reply.started": "2024-08-22T01:51:17.880290Z"
    },
    "slideshow": {
     "slide_type": ""
    },
    "tags": []
   },
   "outputs": [
    {
     "data": {
      "application/vnd.jupyter.widget-view+json": {
       "model_id": "f0832e971e4946f9bf650b0add46fbd7",
       "version_major": 2,
       "version_minor": 0
      },
      "text/plain": [
       "Widget(value='<iframe src=\"http://localhost:60457/index.html?ui=P_0x319431a10_5&reconnect=auto\" class=\"pyvista…"
      ]
     },
     "metadata": {},
     "output_type": "display_data"
    }
   ],
   "source": [
    "pl.show(jupyter_backend=\"trame\")\n"
   ]
  },
  {
   "cell_type": "code",
   "execution_count": 11,
   "id": "726f0636",
   "metadata": {
    "execution": {
     "iopub.execute_input": "2024-08-22T01:04:19.459570Z",
     "iopub.status.busy": "2024-08-22T01:04:19.459471Z",
     "iopub.status.idle": "2024-08-22T01:04:19.464154Z",
     "shell.execute_reply": "2024-08-22T01:04:19.462217Z",
     "shell.execute_reply.started": "2024-08-22T01:04:19.459560Z"
    }
   },
   "outputs": [],
   "source": [
    "## Calculate heat flux, evaluate at surface — proxy for boundary layer thickness"
   ]
  },
  {
   "cell_type": "code",
   "execution_count": 12,
   "id": "87481e74-81d9-40fc-939f-deb6cccf6af0",
   "metadata": {
    "execution": {
     "iopub.execute_input": "2024-08-22T01:04:19.464714Z",
     "iopub.status.busy": "2024-08-22T01:04:19.464628Z",
     "iopub.status.idle": "2024-08-22T01:04:19.474939Z",
     "shell.execute_reply": "2024-08-22T01:04:19.473713Z",
     "shell.execute_reply.started": "2024-08-22T01:04:19.464704Z"
    }
   },
   "outputs": [
    {
     "data": {
      "text/plain": [
       "(5611,\n",
       " 302.0304989713002,\n",
       " -244.7466025206416,\n",
       " 1683.3386469668976,\n",
       " 1694693.1297279652,\n",
       " 42735.52602685222,\n",
       " 570.5174332558662)"
      ]
     },
     "execution_count": 12,
     "metadata": {},
     "output_type": "execute_result"
    }
   ],
   "source": [
    "t_soln.stats()"
   ]
  },
  {
   "cell_type": "code",
   "execution_count": null,
   "id": "3db85a28-7bd2-4bf0-b4fe-9e033c6bd487",
   "metadata": {},
   "outputs": [],
   "source": []
  },
  {
   "cell_type": "code",
   "execution_count": 13,
   "id": "69b1af47-bd05-4c27-96fa-3699bcc51492",
   "metadata": {
    "execution": {
     "iopub.execute_input": "2024-08-22T01:04:19.475504Z",
     "iopub.status.busy": "2024-08-22T01:04:19.475408Z",
     "iopub.status.idle": "2024-08-22T01:04:19.676083Z",
     "shell.execute_reply": "2024-08-22T01:04:19.675306Z",
     "shell.execute_reply.started": "2024-08-22T01:04:19.475494Z"
    }
   },
   "outputs": [
    {
     "ename": "ZeroDivisionError",
     "evalue": "division by zero",
     "output_type": "error",
     "traceback": [
      "\u001b[0;31m---------------------------------------------------------------------------\u001b[0m",
      "\u001b[0;31mZeroDivisionError\u001b[0m                         Traceback (most recent call last)",
      "Cell \u001b[0;32mIn[13], line 1\u001b[0m\n\u001b[0;32m----> 1\u001b[0m \u001b[38;5;241;43m0\u001b[39;49m\u001b[38;5;241;43m/\u001b[39;49m\u001b[38;5;241;43m0\u001b[39;49m\n",
      "\u001b[0;31mZeroDivisionError\u001b[0m: division by zero"
     ]
    }
   ],
   "source": [
    "0/0"
   ]
  },
  {
   "cell_type": "code",
   "execution_count": null,
   "id": "4d9cfedc",
   "metadata": {
    "execution": {
     "iopub.status.busy": "2024-08-22T01:04:19.676337Z",
     "iopub.status.idle": "2024-08-22T01:04:19.676467Z",
     "shell.execute_reply": "2024-08-22T01:04:19.676393Z",
     "shell.execute_reply.started": "2024-08-22T01:04:19.676387Z"
    }
   },
   "outputs": [],
   "source": [
    "flux_solver = uw.systems.Projection(mesh, flux)\n",
    "\n",
    "# Conductive flux only !\n",
    "flux = -mesh.vector.gradient(t_soln.sym[0]).dot(mesh.CoordinateSystem.unit_e_0)\n",
    "# vertical_flux *= sympy.exp(-100*(r-1)**2) \n",
    "\n",
    "flux_solver.uw_function = flux\n",
    "flux_solver.smoothing = 1.0e-3\n",
    "flux_solver.solve()"
   ]
  },
  {
   "cell_type": "code",
   "execution_count": null,
   "id": "e433bc4d-7c38-415f-a39c-d2f670449e0b",
   "metadata": {
    "execution": {
     "iopub.status.busy": "2024-08-22T01:04:19.677104Z",
     "iopub.status.idle": "2024-08-22T01:04:19.677253Z",
     "shell.execute_reply": "2024-08-22T01:04:19.677183Z",
     "shell.execute_reply.started": "2024-08-22T01:04:19.677177Z"
    }
   },
   "outputs": [],
   "source": [
    "flux"
   ]
  },
  {
   "cell_type": "code",
   "execution_count": null,
   "id": "14253218",
   "metadata": {
    "execution": {
     "iopub.status.busy": "2024-08-22T01:04:19.677544Z",
     "iopub.status.idle": "2024-08-22T01:04:19.677660Z",
     "shell.execute_reply": "2024-08-22T01:04:19.677597Z",
     "shell.execute_reply.started": "2024-08-22T01:04:19.677592Z"
    },
    "lines_to_next_cell": 0
   },
   "outputs": [],
   "source": [
    "import mpi4py\n",
    "import pyvista as pv\n",
    "import underworld3.visualisation as vis\n",
    "\n",
    "pvmesh = vis.mesh_to_pv_mesh(mesh)\n",
    "pvmesh.point_data[\"dTdz\"] = vis.scalar_fn_to_pv_points(pvmesh, flux.sym[0])\n",
    "pvmesh.point_data[\"V\"] = vis.vector_fn_to_pv_points(pvmesh, v_soln.sym)\n",
    "pvmesh.point_data[\"V\"] -= pvmesh.point_data[\"V\"].mean()\n",
    "\n",
    "velocity_points = vis.meshVariable_to_pv_cloud(v_soln)\n",
    "velocity_points.point_data[\"V\"] = vis.vector_fn_to_pv_points(velocity_points, v_soln.sym)\n",
    "\n",
    "# point sources at cell centres\n",
    "skip = 8\n",
    "points = np.zeros((mesh._centroids[::skip].shape[0], 3))\n",
    "points[:, 0] = mesh._centroids[::skip, 0]\n",
    "points[:, 1] = mesh._centroids[::skip, 1]\n",
    "point_cloud = pv.PolyData(points)\n",
    "\n",
    "pvstream = pvmesh.streamlines_from_source(\n",
    "    point_cloud,\n",
    "    vectors=\"V\",\n",
    "    integration_direction=\"both\",\n",
    "    max_time=0.5,\n",
    ")\n",
    "\n",
    "pl = pv.Plotter(window_size=[1000, 1000])\n",
    "\n",
    "pl.add_mesh(\n",
    "    pvmesh,\n",
    "    cmap=\"Reds\",\n",
    "    edge_color=\"Black\",\n",
    "    show_edges=True,\n",
    "    scalars=\"dTdz\",\n",
    "    use_transparency=False,\n",
    "    opacity=1.0,\n",
    ")\n",
    "\n",
    "# \n",
    "# pl.add_mesh(pvmesh, \"Black\", \"wireframe\",  opacity=0.1)\n",
    "\n",
    "# pl.add_points(point_cloud, color=\"White\", point_size=3.0, opacity=0.25)\n",
    "\n",
    "# pl.add_arrows(velocity_points.points, velocity_points.point_data[\"V\"], mag=0.0001, show_scalar_bar=True)\n",
    "pl.add_mesh(pvstream, opacity=0.4, show_scalar_bar=False)\n",
    "    \n",
    "# pl.remove_scalar_bar(\"V\")\n",
    "\n",
    "imagefile = os.path.join(image_dir, checkpoint_base) + f\"_dTdr_{step}.png\"\n",
    "\n",
    "pl.screenshot(filename=imagefile, window_size=(750, 750), return_img=False)\n",
    "# OR\n"
   ]
  },
  {
   "cell_type": "code",
   "execution_count": null,
   "id": "8ba2cf38",
   "metadata": {
    "execution": {
     "iopub.status.busy": "2024-08-22T01:04:19.677926Z",
     "iopub.status.idle": "2024-08-22T01:04:19.678038Z",
     "shell.execute_reply": "2024-08-22T01:04:19.677976Z",
     "shell.execute_reply.started": "2024-08-22T01:04:19.677971Z"
    },
    "lines_to_next_cell": 2
   },
   "outputs": [],
   "source": [
    "pl.show()"
   ]
  },
  {
   "cell_type": "code",
   "execution_count": null,
   "id": "f6bc3bc7-2164-4799-9f00-f6cfef07058d",
   "metadata": {},
   "outputs": [],
   "source": []
  },
  {
   "cell_type": "code",
   "execution_count": null,
   "id": "6c6b7b64-307f-4431-8200-a57302efcca8",
   "metadata": {},
   "outputs": [],
   "source": []
  }
 ],
 "metadata": {
  "jupytext": {
   "cell_metadata_filter": "-all",
   "main_language": "python",
   "notebook_metadata_filter": "-all"
  },
  "kernelspec": {
   "display_name": "Python 3 (ipykernel)",
   "language": "python",
   "name": "python3"
  },
  "language_info": {
   "codemirror_mode": {
    "name": "ipython",
    "version": 3
   },
   "file_extension": ".py",
   "mimetype": "text/x-python",
   "name": "python",
   "nbconvert_exporter": "python",
   "pygments_lexer": "ipython3",
   "version": "3.11.7"
  }
 },
 "nbformat": 4,
 "nbformat_minor": 5
}
