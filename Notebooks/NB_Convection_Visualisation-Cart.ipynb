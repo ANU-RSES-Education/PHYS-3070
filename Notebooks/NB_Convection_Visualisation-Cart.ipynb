{
 "cells": [
  {
   "cell_type": "markdown",
   "id": "4d23436d",
   "metadata": {},
   "source": [
    "## Visualise stokes annulus model (flow etc)"
   ]
  },
  {
   "cell_type": "code",
   "execution_count": 1,
   "id": "f56963d3",
   "metadata": {
    "execution": {
     "iopub.execute_input": "2024-08-20T02:41:16.615627Z",
     "iopub.status.busy": "2024-08-20T02:41:16.615454Z",
     "iopub.status.idle": "2024-08-20T02:41:16.629705Z",
     "shell.execute_reply": "2024-08-20T02:41:16.627667Z",
     "shell.execute_reply.started": "2024-08-20T02:41:16.615607Z"
    }
   },
   "outputs": [],
   "source": [
    "# to fix trame issue\n",
    "import nest_asyncio\n",
    "nest_asyncio.apply()\n",
    "import os"
   ]
  },
  {
   "cell_type": "code",
   "execution_count": 2,
   "id": "0b026768",
   "metadata": {
    "execution": {
     "iopub.execute_input": "2024-08-20T02:41:16.630682Z",
     "iopub.status.busy": "2024-08-20T02:41:16.630417Z",
     "iopub.status.idle": "2024-08-20T02:41:18.966116Z",
     "shell.execute_reply": "2024-08-20T02:41:18.961061Z",
     "shell.execute_reply.started": "2024-08-20T02:41:16.630655Z"
    }
   },
   "outputs": [
    {
     "name": "stderr",
     "output_type": "stream",
     "text": [
      "[esdhcp-137.anu.edu.au:15366] shmem: mmap: an error occurred while determining whether or not /var/folders/tx/95gr762j29z4tt5d1dnqlgth0000gn/T//ompi.esdhcp-137.501/jf.0/2320433152/sm_segment.esdhcp-137.501.8a4f0000.0 could be created.\n"
     ]
    }
   ],
   "source": [
    "import petsc4py\n",
    "import underworld3 as uw\n",
    "import numpy as np\n",
    "import sympy"
   ]
  },
  {
   "cell_type": "code",
   "execution_count": 3,
   "id": "8c3f6ccb",
   "metadata": {
    "execution": {
     "iopub.execute_input": "2024-08-20T02:41:18.973739Z",
     "iopub.status.busy": "2024-08-20T02:41:18.967739Z",
     "iopub.status.idle": "2024-08-20T02:41:19.160612Z",
     "shell.execute_reply": "2024-08-20T02:41:19.159417Z",
     "shell.execute_reply.started": "2024-08-20T02:41:18.973705Z"
    }
   },
   "outputs": [
    {
     "name": "stdout",
     "output_type": "stream",
     "text": [
      "total 0\n",
      "drwxr-xr-x@ 1409 lmoresi  staff  45088 Aug 19 21:32 \u001b[34mRa1e6.0\u001b[m\u001b[m/\n",
      "drwxr-xr-x  1585 lmoresi  staff  50720 Aug 20 07:40 \u001b[34mRa1e7.0\u001b[m\u001b[m/\n",
      "drwxr-xr-x@ 1208 lmoresi  staff  38656 Aug 20 10:19 \u001b[34mRa1e5.0\u001b[m\u001b[m/\n",
      "drwxr-xr-x@  608 lmoresi  staff  19456 Aug 20 12:41 \u001b[34mRa1e4.0\u001b[m\u001b[m/\n"
     ]
    }
   ],
   "source": [
    "ls -trl output/cartesian/ | tail"
   ]
  },
  {
   "cell_type": "code",
   "execution_count": 4,
   "id": "bf972017",
   "metadata": {
    "execution": {
     "iopub.execute_input": "2024-08-20T02:41:19.168574Z",
     "iopub.status.busy": "2024-08-20T02:41:19.165837Z",
     "iopub.status.idle": "2024-08-20T02:41:19.370568Z",
     "shell.execute_reply": "2024-08-20T02:41:19.369942Z",
     "shell.execute_reply.started": "2024-08-20T02:41:19.168492Z"
    }
   },
   "outputs": [
    {
     "name": "stdout",
     "output_type": "stream",
     "text": [
      "-rw-r--r--@   1 lmoresi  staff  490280 Aug 20 12:40 cartesian_Ra1e4.0_res15.mesh.T.00016.h5\n",
      "-rw-r--r--@   1 lmoresi  staff    3086 Aug 20 12:40 cartesian_Ra1e4.0_res15.mesh.00016.xdmf\n",
      "-rw-r--r--@   1 lmoresi  staff  280632 Aug 20 12:40 cartesian_Ra1e4.0_res15.mesh.U.00017.h5\n",
      "-rw-r--r--@   1 lmoresi  staff   95560 Aug 20 12:40 cartesian_Ra1e4.0_res15.mesh.P.00017.h5\n",
      "-rw-r--r--@   1 lmoresi  staff  490280 Aug 20 12:40 cartesian_Ra1e4.0_res15.mesh.T.00017.h5\n",
      "-rw-r--r--@   1 lmoresi  staff    3086 Aug 20 12:40 cartesian_Ra1e4.0_res15.mesh.00017.xdmf\n",
      "-rw-r--r--@   1 lmoresi  staff  280632 Aug 20 12:41 cartesian_Ra1e4.0_res15.mesh.U.00018.h5\n",
      "-rw-r--r--@   1 lmoresi  staff   95560 Aug 20 12:41 cartesian_Ra1e4.0_res15.mesh.P.00018.h5\n",
      "-rw-r--r--@   1 lmoresi  staff  490280 Aug 20 12:41 cartesian_Ra1e4.0_res15.mesh.T.00018.h5\n",
      "-rw-r--r--@   1 lmoresi  staff    3086 Aug 20 12:41 cartesian_Ra1e4.0_res15.mesh.00018.xdmf\n"
     ]
    }
   ],
   "source": [
    "ls -trl output/cartesian/Ra1e4.0/ | tail"
   ]
  },
  {
   "cell_type": "code",
   "execution_count": 5,
   "id": "9a912364",
   "metadata": {
    "execution": {
     "iopub.execute_input": "2024-08-20T02:41:19.372655Z",
     "iopub.status.busy": "2024-08-20T02:41:19.372007Z",
     "iopub.status.idle": "2024-08-20T02:41:19.377012Z",
     "shell.execute_reply": "2024-08-20T02:41:19.376521Z",
     "shell.execute_reply.started": "2024-08-20T02:41:19.372539Z"
    },
    "lines_to_next_cell": 2
   },
   "outputs": [],
   "source": [
    "# This is a bit repetitive, sorry \n",
    "\n",
    "checkpoint_dir = f\"output/cartesian/Ra1e4.0\"\n",
    "name = \"cartesian_Ra1e4.0\"\n",
    "resolution = 15\n",
    "\n",
    "\n",
    "checkpoint_base = f\"{name}_res{resolution}\"\n",
    "meshfile = os.path.join(checkpoint_dir, checkpoint_base) + \".mesh.00000.h5\"\n",
    "image_dir = os.path.join(checkpoint_dir,\"images\")\n",
    "os.makedirs(image_dir, exist_ok=True)"
   ]
  },
  {
   "cell_type": "code",
   "execution_count": 6,
   "id": "b5d63def",
   "metadata": {
    "execution": {
     "iopub.execute_input": "2024-08-20T02:41:19.381602Z",
     "iopub.status.busy": "2024-08-20T02:41:19.381372Z",
     "iopub.status.idle": "2024-08-20T02:41:19.748350Z",
     "shell.execute_reply": "2024-08-20T02:41:19.747850Z",
     "shell.execute_reply.started": "2024-08-20T02:41:19.381584Z"
    }
   },
   "outputs": [],
   "source": [
    "mesh = uw.discretisation.Mesh(meshfile, \n",
    "                              coordinate_system_type=uw.coordinates.CoordinateSystemType.CARTESIAN)\n",
    "    \n",
    "x = mesh.N.x\n",
    "y = mesh.N.y\n",
    "\n",
    "v_soln = uw.discretisation.MeshVariable(\"U\", mesh, mesh.dim, degree=2)\n",
    "t_soln = uw.discretisation.MeshVariable(\"T\", mesh, 1, degree=3)\n",
    "flux = uw.discretisation.MeshVariable(r\"dTdz\", mesh, 1, degree=1)"
   ]
  },
  {
   "cell_type": "code",
   "execution_count": 18,
   "id": "b9768720",
   "metadata": {
    "execution": {
     "iopub.execute_input": "2024-08-20T03:27:49.569829Z",
     "iopub.status.busy": "2024-08-20T03:27:49.569135Z",
     "iopub.status.idle": "2024-08-20T03:27:49.576382Z",
     "shell.execute_reply": "2024-08-20T03:27:49.575812Z",
     "shell.execute_reply.started": "2024-08-20T03:27:49.569796Z"
    }
   },
   "outputs": [],
   "source": [
    "steps = range(0,100,1)"
   ]
  },
  {
   "cell_type": "code",
   "execution_count": 19,
   "id": "25ffe942",
   "metadata": {
    "execution": {
     "iopub.execute_input": "2024-08-20T03:27:49.840215Z",
     "iopub.status.busy": "2024-08-20T03:27:49.840070Z",
     "iopub.status.idle": "2024-08-20T03:28:12.403913Z",
     "shell.execute_reply": "2024-08-20T03:28:12.403570Z",
     "shell.execute_reply.started": "2024-08-20T03:27:49.840204Z"
    },
    "lines_to_next_cell": 0
   },
   "outputs": [
    {
     "name": "stdout",
     "output_type": "stream",
     "text": [
      "Plotting step 0\n",
      "Plotting step 1\n",
      "Plotting step 2\n",
      "Plotting step 3\n",
      "Plotting step 4\n",
      "Plotting step 5\n",
      "Plotting step 6\n",
      "Plotting step 7\n",
      "Plotting step 8\n",
      "Plotting step 9\n",
      "Plotting step 10\n",
      "Plotting step 11\n",
      "Plotting step 12\n",
      "Plotting step 13\n",
      "Plotting step 14\n",
      "Plotting step 15\n",
      "Plotting step 16\n",
      "Plotting step 17\n",
      "Plotting step 18\n",
      "Plotting step 19\n",
      "Plotting step 20\n",
      "Plotting step 21\n",
      "Plotting step 22\n",
      "Plotting step 23\n",
      "Plotting step 24\n",
      "Plotting step 25\n",
      "Plotting step 26\n",
      "Plotting step 27\n",
      "Plotting step 28\n",
      "Plotting step 29\n",
      "Plotting step 30\n",
      "Plotting step 31\n",
      "Plotting step 32\n",
      "Plotting step 33\n",
      "Plotting step 34\n",
      "Plotting step 35\n",
      "Plotting step 36\n",
      "Plotting step 37\n",
      "Plotting step 38\n",
      "Plotting step 39\n",
      "Plotting step 40\n",
      "Plotting step 41\n",
      "Plotting step 42\n",
      "Plotting step 43\n",
      "Plotting step 44\n",
      "Plotting step 45\n",
      "Plotting step 46\n",
      "Plotting step 47\n",
      "Plotting step 48\n",
      "Plotting step 49\n",
      "Plotting step 50\n",
      "Plotting step 51\n",
      "Plotting step 52\n",
      "Plotting step 53\n",
      "Plotting step 54\n",
      "Plotting step 55\n",
      "Plotting step 56\n",
      "Plotting step 57\n",
      "Plotting step 58\n",
      "Plotting step 59\n",
      "Plotting step 60\n",
      "Plotting step 61\n",
      "Plotting step 62\n",
      "Plotting step 63\n",
      "Plotting step 64\n",
      "Plotting step 65\n",
      "Plotting step 66\n",
      "Plotting step 67\n",
      "Plotting step 68\n",
      "Plotting step 69\n",
      "Plotting step 70\n",
      "Plotting step 71\n",
      "Plotting step 72\n",
      "Plotting step 73\n",
      "Plotting step 74\n",
      "Plotting step 75\n",
      "Plotting step 76\n",
      "Plotting step 77\n",
      "Plotting step 78\n",
      "Plotting step 79\n",
      "Plotting step 80\n",
      "Plotting step 81\n",
      "Plotting step 82\n",
      "Plotting step 83\n",
      "Plotting step 84\n",
      "Plotting step 85\n",
      "Plotting step 86\n",
      "Plotting step 87\n",
      "Plotting step 88\n",
      "Plotting step 89\n",
      "Plotting step 90\n",
      "Plotting step 91\n",
      "Plotting step 92\n",
      "Plotting step 93\n",
      "Plotting step 94\n",
      "Plotting step 95\n",
      "Plotting step 96\n",
      "Plotting step 97\n",
      "Plotting step 98\n",
      "Plotting step 99\n"
     ]
    }
   ],
   "source": [
    "import mpi4py\n",
    "import pyvista as pv\n",
    "import underworld3.visualisation as vis\n",
    "\n",
    "pl = pv.Plotter(window_size=[1000, 500])\n",
    "\n",
    "for step in steps:\n",
    "\n",
    "    try:\n",
    "        v_soln.read_timestep(checkpoint_base, \"U\", step, outputPath=checkpoint_dir)\n",
    "        t_soln.read_timestep(checkpoint_base, \"T\", step, outputPath=checkpoint_dir)\n",
    "        print(f\"Plotting step {step}\")\n",
    "\n",
    "    except:\n",
    "        print(f\"Failed to read step {step} correctly\")\n",
    "        continue\n",
    "\n",
    "    pl.clear()\n",
    "\n",
    "    pvmesh = vis.mesh_to_pv_mesh(mesh)\n",
    "    # pvmesh.point_data[\"T\"] = vis.scalar_fn_to_pv_points(pvmesh, t_soln.sym[0])\n",
    "    pvmesh.point_data[\"V\"] = vis.vector_fn_to_pv_points(pvmesh, v_soln.sym)\n",
    "\n",
    "    pvmesh_v = vis.meshVariable_to_pv_mesh_object(v_soln, alpha=None)\n",
    "    pvmesh_t = vis.meshVariable_to_pv_mesh_object(t_soln, alpha=None)\n",
    "\n",
    "    pvmesh_v.point_data[\"V\"] = vis.vector_fn_to_pv_points(pvmesh_v, v_soln.sym)\n",
    "    pvmesh_t.point_data[\"T\"] = vis.scalar_fn_to_pv_points(pvmesh_t, t_soln.sym)\n",
    "    \n",
    "    # point sources at cell centres\n",
    "    skip = 10\n",
    "    points = np.zeros((mesh._centroids[::skip].shape[0], 3))\n",
    "    points[:, 0] = mesh._centroids[::skip, 0]\n",
    "    points[:, 1] = mesh._centroids[::skip, 1]\n",
    "    point_cloud = pv.PolyData(points)\n",
    "\n",
    "    pl.add_mesh(\n",
    "        pvmesh_t,\n",
    "        cmap=\"RdBu_r\",\n",
    "        edge_color=\"Black\",\n",
    "        edge_opacity=0.1,\n",
    "        show_edges=True,\n",
    "        scalars=\"T\",\n",
    "        use_transparency=False,\n",
    "        opacity=1.0,\n",
    "        clim=[0.0,1.0],\n",
    "        # show_scalar_bar=False\n",
    "    )\n",
    "\n",
    "    pvstream = pvmesh.streamlines_from_source(\n",
    "        point_cloud,\n",
    "        vectors=\"V\",\n",
    "        integration_direction=\"both\",\n",
    "        max_time=1,\n",
    "        surface_streamlines=True,\n",
    "    )\n",
    "    \n",
    "\n",
    "    pl.add_mesh(pvstream, opacity=0.4, show_scalar_bar=False)    \n",
    "\n",
    "    pl.camera_position = [(3.0, 0.5, 6.750994846396983),\n",
    "                          (3.0, 0.5, 0.0),\n",
    "                          (0.0, 1.0, 0.0)]\n",
    "\n",
    "    imagefile = os.path.join(image_dir, checkpoint_base) + f\"_V_T_{step}.png\"\n",
    "    \n",
    "    pl.screenshot(filename=imagefile,\n",
    "                  window_size=(1000, 500),\n",
    "                  return_img=False)\n",
    "\n"
   ]
  },
  {
   "cell_type": "code",
   "execution_count": 17,
   "id": "ef5a9c93",
   "metadata": {
    "editable": true,
    "execution": {
     "iopub.execute_input": "2024-08-20T03:02:28.912489Z",
     "iopub.status.busy": "2024-08-20T03:02:28.911909Z",
     "iopub.status.idle": "2024-08-20T03:02:29.008870Z",
     "shell.execute_reply": "2024-08-20T03:02:29.008363Z",
     "shell.execute_reply.started": "2024-08-20T03:02:28.912451Z"
    },
    "slideshow": {
     "slide_type": ""
    },
    "tags": []
   },
   "outputs": [
    {
     "data": {
      "application/vnd.jupyter.widget-view+json": {
       "model_id": "748eecb82d1c48169717910650be2e38",
       "version_major": 2,
       "version_minor": 0
      },
      "text/plain": [
       "Widget(value='<iframe src=\"http://localhost:59691/index.html?ui=P_0x31e6d5a90_3&reconnect=auto\" class=\"pyvista…"
      ]
     },
     "metadata": {},
     "output_type": "display_data"
    }
   ],
   "source": [
    "pl.show(jupyter_backend=\"trame\")\n"
   ]
  },
  {
   "cell_type": "code",
   "execution_count": 10,
   "id": "726f0636",
   "metadata": {
    "execution": {
     "iopub.execute_input": "2024-08-20T02:41:28.981644Z",
     "iopub.status.busy": "2024-08-20T02:41:28.981539Z",
     "iopub.status.idle": "2024-08-20T02:41:28.983428Z",
     "shell.execute_reply": "2024-08-20T02:41:28.983139Z",
     "shell.execute_reply.started": "2024-08-20T02:41:28.981634Z"
    }
   },
   "outputs": [],
   "source": [
    "## Calculate heat flux, evaluate at surface — proxy for boundary layer thickness"
   ]
  },
  {
   "cell_type": "code",
   "execution_count": 11,
   "id": "87481e74-81d9-40fc-939f-deb6cccf6af0",
   "metadata": {
    "execution": {
     "iopub.execute_input": "2024-08-20T02:41:28.983886Z",
     "iopub.status.busy": "2024-08-20T02:41:28.983797Z",
     "iopub.status.idle": "2024-08-20T02:41:28.987427Z",
     "shell.execute_reply": "2024-08-20T02:41:28.987117Z",
     "shell.execute_reply.started": "2024-08-20T02:41:28.983877Z"
    }
   },
   "outputs": [
    {
     "data": {
      "text/plain": [
       "(12466,\n",
       " 0.49986938399552316,\n",
       " -1.6180578938125931,\n",
       " 2.70905145440194,\n",
       " 6231.371740888192,\n",
       " 64.81584943734697,\n",
       " 0.5805206270949029)"
      ]
     },
     "execution_count": 11,
     "metadata": {},
     "output_type": "execute_result"
    }
   ],
   "source": [
    "t_soln.stats()"
   ]
  },
  {
   "cell_type": "code",
   "execution_count": 12,
   "id": "69b1af47-bd05-4c27-96fa-3699bcc51492",
   "metadata": {
    "execution": {
     "iopub.execute_input": "2024-08-20T02:41:28.987903Z",
     "iopub.status.busy": "2024-08-20T02:41:28.987815Z",
     "iopub.status.idle": "2024-08-20T02:41:29.192576Z",
     "shell.execute_reply": "2024-08-20T02:41:29.192112Z",
     "shell.execute_reply.started": "2024-08-20T02:41:28.987894Z"
    }
   },
   "outputs": [
    {
     "ename": "ZeroDivisionError",
     "evalue": "division by zero",
     "output_type": "error",
     "traceback": [
      "\u001b[0;31m---------------------------------------------------------------------------\u001b[0m",
      "\u001b[0;31mZeroDivisionError\u001b[0m                         Traceback (most recent call last)",
      "Cell \u001b[0;32mIn[12], line 1\u001b[0m\n\u001b[0;32m----> 1\u001b[0m \u001b[38;5;241;43m0\u001b[39;49m\u001b[38;5;241;43m/\u001b[39;49m\u001b[38;5;241;43m0\u001b[39;49m\n",
      "\u001b[0;31mZeroDivisionError\u001b[0m: division by zero"
     ]
    }
   ],
   "source": [
    "0/0"
   ]
  },
  {
   "cell_type": "code",
   "execution_count": null,
   "id": "4d9cfedc",
   "metadata": {
    "execution": {
     "iopub.status.busy": "2024-08-20T02:41:29.192904Z",
     "iopub.status.idle": "2024-08-20T02:41:29.193030Z",
     "shell.execute_reply": "2024-08-20T02:41:29.192965Z",
     "shell.execute_reply.started": "2024-08-20T02:41:29.192959Z"
    }
   },
   "outputs": [],
   "source": [
    "flux_solver = uw.systems.Projection(mesh, flux)\n",
    "\n",
    "# Conductive flux only !\n",
    "radial_flux = -mesh.vector.gradient(t_soln.sym[0]).dot(mesh.CoordinateSystem.unit_e_0)\n",
    "radial_flux *= sympy.exp(-100*(r-1)**2) \n",
    "\n",
    "flux_solver.uw_function = radial_flux\n",
    "flux_solver.smoothing = 1.0e-3\n",
    "flux_solver.solve()"
   ]
  },
  {
   "cell_type": "code",
   "execution_count": null,
   "id": "14253218",
   "metadata": {
    "execution": {
     "iopub.status.busy": "2024-08-20T02:41:29.193592Z",
     "iopub.status.idle": "2024-08-20T02:41:29.193717Z",
     "shell.execute_reply": "2024-08-20T02:41:29.193646Z",
     "shell.execute_reply.started": "2024-08-20T02:41:29.193641Z"
    },
    "lines_to_next_cell": 0
   },
   "outputs": [],
   "source": [
    "import mpi4py\n",
    "import pyvista as pv\n",
    "import underworld3.visualisation as vis\n",
    "\n",
    "pvmesh = vis.mesh_to_pv_mesh(mesh)\n",
    "pvmesh.point_data[\"dTdz\"] = vis.scalar_fn_to_pv_points(pvmesh, flux.sym[0])\n",
    "pvmesh.point_data[\"V\"] = vis.vector_fn_to_pv_points(pvmesh, v_soln.sym)\n",
    "pvmesh.point_data[\"V\"] -= pvmesh.point_data[\"V\"].mean()\n",
    "\n",
    "velocity_points = vis.meshVariable_to_pv_cloud(v_soln)\n",
    "velocity_points.point_data[\"V\"] = vis.vector_fn_to_pv_points(velocity_points, v_soln.sym)\n",
    "\n",
    "# point sources at cell centres\n",
    "skip = 8\n",
    "points = np.zeros((mesh._centroids[::skip].shape[0], 3))\n",
    "points[:, 0] = mesh._centroids[::skip, 0]\n",
    "points[:, 1] = mesh._centroids[::skip, 1]\n",
    "point_cloud = pv.PolyData(points)\n",
    "\n",
    "pvstream = pvmesh.streamlines_from_source(\n",
    "    point_cloud,\n",
    "    vectors=\"V\",\n",
    "    integration_direction=\"both\",\n",
    "    max_time=0.5,\n",
    ")\n",
    "\n",
    "pl = pv.Plotter(window_size=[1000, 1000])\n",
    "\n",
    "pl.add_mesh(\n",
    "    pvmesh,\n",
    "    cmap=\"Reds\",\n",
    "    edge_color=\"Black\",\n",
    "    show_edges=True,\n",
    "    scalars=\"dTdz\",\n",
    "    use_transparency=False,\n",
    "    opacity=1.0,\n",
    ")\n",
    "\n",
    "# \n",
    "# pl.add_mesh(pvmesh, \"Black\", \"wireframe\",  opacity=0.1)\n",
    "\n",
    "# pl.add_points(point_cloud, color=\"White\", point_size=3.0, opacity=0.25)\n",
    "\n",
    "# pl.add_arrows(velocity_points.points, velocity_points.point_data[\"V\"], mag=0.0001, show_scalar_bar=True)\n",
    "pl.add_mesh(pvstream, opacity=0.4, show_scalar_bar=False)\n",
    "    \n",
    "# pl.remove_scalar_bar(\"V\")\n",
    "\n",
    "imagefile = os.path.join(image_dir, checkpoint_base) + f\"_dTdr_{step}.png\"\n",
    "\n",
    "pl.screenshot(filename=imagefile, window_size=(750, 750), return_img=False)\n",
    "# OR\n"
   ]
  },
  {
   "cell_type": "code",
   "execution_count": null,
   "id": "8ba2cf38",
   "metadata": {
    "execution": {
     "iopub.status.busy": "2024-08-20T02:41:29.194098Z",
     "iopub.status.idle": "2024-08-20T02:41:29.194255Z",
     "shell.execute_reply": "2024-08-20T02:41:29.194192Z",
     "shell.execute_reply.started": "2024-08-20T02:41:29.194186Z"
    },
    "lines_to_next_cell": 2
   },
   "outputs": [],
   "source": [
    "pl.show()"
   ]
  },
  {
   "cell_type": "code",
   "execution_count": null,
   "id": "f6bc3bc7-2164-4799-9f00-f6cfef07058d",
   "metadata": {},
   "outputs": [],
   "source": []
  },
  {
   "cell_type": "code",
   "execution_count": null,
   "id": "6c6b7b64-307f-4431-8200-a57302efcca8",
   "metadata": {},
   "outputs": [],
   "source": []
  }
 ],
 "metadata": {
  "jupytext": {
   "cell_metadata_filter": "-all",
   "main_language": "python",
   "notebook_metadata_filter": "-all"
  },
  "kernelspec": {
   "display_name": "Python 3 (ipykernel)",
   "language": "python",
   "name": "python3"
  },
  "language_info": {
   "codemirror_mode": {
    "name": "ipython",
    "version": 3
   },
   "file_extension": ".py",
   "mimetype": "text/x-python",
   "name": "python",
   "nbconvert_exporter": "python",
   "pygments_lexer": "ipython3",
   "version": "3.11.7"
  }
 },
 "nbformat": 4,
 "nbformat_minor": 5
}
