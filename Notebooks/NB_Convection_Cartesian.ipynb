{
 "cells": [
  {
   "cell_type": "markdown",
   "id": "c3744185",
   "metadata": {},
   "source": [
    "# Rayleigh-Bénard Convection in a plane layer\n",
    "\n"
   ]
  },
  {
   "cell_type": "code",
   "execution_count": null,
   "id": "fe47b31e-e195-485a-a977-e1e97f33b94b",
   "metadata": {},
   "outputs": [],
   "source": []
  },
  {
   "cell_type": "code",
   "execution_count": null,
   "id": "5b03552f-ea32-47d0-8fab-b61bcca8d431",
   "metadata": {},
   "outputs": [],
   "source": []
  },
  {
   "cell_type": "code",
   "execution_count": 1,
   "id": "c83c4266",
   "metadata": {
    "execution": {
     "iopub.execute_input": "2024-08-19T06:41:12.493901Z",
     "iopub.status.busy": "2024-08-19T06:41:12.493466Z",
     "iopub.status.idle": "2024-08-19T06:41:13.534848Z",
     "shell.execute_reply": "2024-08-19T06:41:13.534490Z",
     "shell.execute_reply.started": "2024-08-19T06:41:12.493871Z"
    }
   },
   "outputs": [
    {
     "name": "stderr",
     "output_type": "stream",
     "text": [
      "[esdhcp-137.anu.edu.au:51653] shmem: mmap: an error occurred while determining whether or not /var/folders/tx/95gr762j29z4tt5d1dnqlgth0000gn/T//ompi.esdhcp-137.501/jf.0/1340342272/sm_segment.esdhcp-137.501.4fe40000.0 could be created.\n"
     ]
    }
   ],
   "source": [
    "import petsc4py\n",
    "from petsc4py import PETSc\n",
    "\n",
    "import underworld3 as uw\n",
    "from underworld3.systems import Stokes\n",
    "from underworld3 import function\n",
    "\n",
    "import numpy as np\n",
    "import sympy\n",
    "import os\n",
    "\n",
    "# to fix trame issue\n",
    "import nest_asyncio\n",
    "nest_asyncio.apply()"
   ]
  },
  {
   "cell_type": "code",
   "execution_count": 2,
   "id": "bd6f69e3-842b-4448-9107-448a019a5393",
   "metadata": {
    "execution": {
     "iopub.execute_input": "2024-08-19T06:41:13.535481Z",
     "iopub.status.busy": "2024-08-19T06:41:13.535342Z",
     "iopub.status.idle": "2024-08-19T06:41:13.538617Z",
     "shell.execute_reply": "2024-08-19T06:41:13.538330Z",
     "shell.execute_reply.started": "2024-08-19T06:41:13.535471Z"
    }
   },
   "outputs": [],
   "source": [
    "# The problem setup \n",
    "\n",
    "width=6\n",
    "\n",
    "# Parameters that define the notebook\n",
    "# These can be set when launching the script as\n",
    "# mpirun python3 scriptname -uw_resolution=0.1 etc\n",
    "\n",
    "rayleigh_number_exponent = uw.options.getReal(\"rayleigh_no_expt\",6) \n",
    "resolution = uw.options.getInt(\"model_resolution\", default=8)\n",
    "max_steps = uw.options.getInt(\"max_steps\", default=50)\n",
    "restart_step = uw.options.getInt(\"restart_step\", default=-1)\n",
    "\n",
    "# How that works\n",
    "\n",
    "rayleigh_number = pow(10,rayleigh_number_exponent)\n",
    "expt_name = f\"Ra1e{rayleigh_number_exponent}_res{resolution}\"\n",
    "output_dir = os.path.join(\"output\",\"cartesian\",f\"Ra1e{rayleigh_number_exponent}\")\n",
    "\n",
    "os.makedirs(output_dir, exist_ok=True)\n"
   ]
  },
  {
   "cell_type": "code",
   "execution_count": 3,
   "id": "21f26c45",
   "metadata": {
    "execution": {
     "iopub.execute_input": "2024-08-19T06:41:13.539538Z",
     "iopub.status.busy": "2024-08-19T06:41:13.539443Z",
     "iopub.status.idle": "2024-08-19T06:41:13.682307Z",
     "shell.execute_reply": "2024-08-19T06:41:13.681750Z",
     "shell.execute_reply.started": "2024-08-19T06:41:13.539529Z"
    },
    "lines_to_next_cell": 2
   },
   "outputs": [
    {
     "name": "stdout",
     "output_type": "stream",
     "text": [
      "DM Object: uw_.meshes/uw_simplexbox_minC(0.0, 0.0)_maxC(6, 1.0)_csize0.125_regTrue.msh 1 MPI process\n",
      "  type: plex\n",
      "uw_.meshes/uw_simplexbox_minC(0.0, 0.0)_maxC(6, 1.0)_csize0.125_regTrue.msh in 2 dimensions:\n",
      "  Number of 0-cells per rank: 441\n",
      "  Number of 1-cells per rank: 1208\n",
      "  Number of 2-cells per rank: 768\n",
      "Labels:\n",
      "  depth: 3 strata with value/size (0 (441), 1 (1208), 2 (768))\n",
      "  All_Boundaries: 1 strata with value/size (1001 (112))\n",
      "  Bottom: 1 strata with value/size (11 (95))\n",
      "  Elements: 1 strata with value/size (99999 (1097))\n",
      "  Left: 1 strata with value/size (14 (15))\n",
      "  Right: 1 strata with value/size (13 (15))\n",
      "  Top: 1 strata with value/size (12 (95))\n",
      "  celltype: 3 strata with value/size (0 (441), 1 (1208), 3 (768))\n",
      "  UW_Boundaries: 5 strata with value/size (11 (95), 12 (95), 13 (15), 14 (15), 1001 (112))\n"
     ]
    }
   ],
   "source": [
    "## Set up the mesh geometry / discretisation\n",
    "\n",
    "meshbox = uw.meshing.UnstructuredSimplexBox(\n",
    "    minCoords=(0.0,0.0),\n",
    "    maxCoords=(width,1.0), \n",
    "    cellSize=1/resolution, \n",
    "    degree=1, \n",
    "    qdegree=3,\n",
    "    regular=True,\n",
    ")\n",
    "\n",
    "meshbox.return_coords_to_bounds = None\n",
    "meshbox.dm.view()\n",
    "\n",
    "x,y  = meshbox.CoordinateSystem.X\n",
    "x_vector = meshbox.CoordinateSystem.unit_e_0\n",
    "y_vector = meshbox.CoordinateSystem.unit_e_1\n"
   ]
  },
  {
   "cell_type": "code",
   "execution_count": 5,
   "id": "50859b6a",
   "metadata": {
    "execution": {
     "iopub.execute_input": "2024-08-19T06:41:13.686915Z",
     "iopub.status.busy": "2024-08-19T06:41:13.686826Z",
     "iopub.status.idle": "2024-08-19T06:41:13.717018Z",
     "shell.execute_reply": "2024-08-19T06:41:13.716609Z",
     "shell.execute_reply.started": "2024-08-19T06:41:13.686906Z"
    },
    "lines_to_next_cell": 2
   },
   "outputs": [],
   "source": [
    "v_soln = uw.discretisation.MeshVariable(\"U\", meshbox, meshbox.dim, degree=2)\n",
    "p_soln = uw.discretisation.MeshVariable(\"P\", meshbox, 1, degree=1)\n",
    "t_soln = uw.discretisation.MeshVariable(\"T\", meshbox, 1, degree=3)"
   ]
  },
  {
   "cell_type": "code",
   "execution_count": 6,
   "id": "ab2c3ddc",
   "metadata": {
    "execution": {
     "iopub.execute_input": "2024-08-19T06:41:13.719634Z",
     "iopub.status.busy": "2024-08-19T06:41:13.719504Z",
     "iopub.status.idle": "2024-08-19T06:41:13.721945Z",
     "shell.execute_reply": "2024-08-19T06:41:13.721658Z",
     "shell.execute_reply.started": "2024-08-19T06:41:13.719624Z"
    }
   },
   "outputs": [],
   "source": [
    "# passive_swarm = uw.swarm.Swarm(mesh=meshbox)\n",
    "# passive_swarm.populate(fill_param=3)"
   ]
  },
  {
   "cell_type": "code",
   "execution_count": 7,
   "id": "ecb97c81",
   "metadata": {
    "execution": {
     "iopub.execute_input": "2024-08-19T06:41:13.723258Z",
     "iopub.status.busy": "2024-08-19T06:41:13.723034Z",
     "iopub.status.idle": "2024-08-19T06:41:13.737224Z",
     "shell.execute_reply": "2024-08-19T06:41:13.736904Z",
     "shell.execute_reply.started": "2024-08-19T06:41:13.723233Z"
    }
   },
   "outputs": [],
   "source": [
    "# Create solver to solver the momentum equation (Stokes flow)\n",
    "\n",
    "stokes = Stokes(\n",
    "    meshbox, \n",
    "    velocityField=v_soln, \n",
    "    pressureField=p_soln, \n",
    "    solver_name=\"stokes\",\n",
    ")\n",
    "\n",
    "stokes.tolerance = 0.0001\n",
    "\n",
    "stokes.constitutive_model = uw.constitutive_models.ViscousFlowModel\n",
    "stokes.constitutive_model.Parameters.viscosity = 1\n",
    "\n",
    "# Penalise flow crossing the boundary\n",
    "\n",
    "# stokes.add_natural_bc(10*rayleigh_number * v_soln.sym[1] * y_vector, \"Top\")\n",
    "# stokes.add_natural_bc(10*rayleigh_number * v_soln.sym[1] * y_vector, \"Bottom\")\n",
    "# stokes.add_natural_bc(10*rayleigh_number * v_soln.sym[0] * x_vector, \"Left\")\n",
    "# stokes.add_natural_bc(10*rayleigh_number * v_soln.sym[0] * x_vector, \"Right\")\n",
    "\n",
    "stokes.add_dirichlet_bc((None, 0.0), \"Bottom\")\n",
    "stokes.add_dirichlet_bc((None, 0.0), \"Top\")\n",
    "stokes.add_dirichlet_bc((0.0, None), \"Left\")\n",
    "stokes.add_dirichlet_bc((0.0, None), \"Right\")\n",
    "\n",
    "stokes.bodyforce = y_vector * rayleigh_number * t_soln.sym[0]"
   ]
  },
  {
   "cell_type": "code",
   "execution_count": 8,
   "id": "63c21518",
   "metadata": {
    "execution": {
     "iopub.execute_input": "2024-08-19T06:41:13.738458Z",
     "iopub.status.busy": "2024-08-19T06:41:13.738354Z",
     "iopub.status.idle": "2024-08-19T06:41:13.779419Z",
     "shell.execute_reply": "2024-08-19T06:41:13.779089Z",
     "shell.execute_reply.started": "2024-08-19T06:41:13.738448Z"
    },
    "lines_to_next_cell": 2
   },
   "outputs": [],
   "source": [
    "# Create solver for the energy equation (Advection-Diffusion of temperature)\n",
    "\n",
    "adv_diff = uw.systems.AdvDiffusion(\n",
    "    meshbox,\n",
    "    u_Field=t_soln,\n",
    "    V_fn=v_soln,\n",
    "    solver_name=\"adv_diff\",\n",
    "    order=2,\n",
    ")\n",
    "\n",
    "adv_diff.constitutive_model = uw.constitutive_models.DiffusionModel\n",
    "adv_diff.constitutive_model.Parameters.diffusivity = 1\n",
    "\n",
    "## Boundary conditions for this solver\n",
    "\n",
    "adv_diff.add_dirichlet_bc(1.0, \"Bottom\")\n",
    "adv_diff.add_dirichlet_bc(0.0, \"Top\")"
   ]
  },
  {
   "cell_type": "code",
   "execution_count": 9,
   "id": "9741b7b5",
   "metadata": {
    "execution": {
     "iopub.execute_input": "2024-08-19T06:41:13.780039Z",
     "iopub.status.busy": "2024-08-19T06:41:13.779954Z",
     "iopub.status.idle": "2024-08-19T06:41:13.998698Z",
     "shell.execute_reply": "2024-08-19T06:41:13.998412Z",
     "shell.execute_reply.started": "2024-08-19T06:41:13.780030Z"
    },
    "lines_to_next_cell": 0
   },
   "outputs": [],
   "source": [
    "# The advection / diffusion equation is an initial value problem\n",
    "# We set this up to have \n",
    "\n",
    "init_t = 0.25 * sympy.cos(5 * sympy.pi * x) * sympy.sin(sympy.pi * y) + (1-y)\n",
    "\n",
    "with meshbox.access(t_soln):\n",
    "    t_soln.data[...] = uw.function.evaluate(init_t, t_soln.coords).reshape(-1, 1)\n",
    "\n",
    "if restart_step != -1:\n",
    "    print(f\"Reading step {restart_step}\")\n",
    "    t_soln.read_timestep(data_filename=f\"{expt_name}\",\n",
    "                         data_name=\"T\",\n",
    "                         index=restart_step,\n",
    "                         outputPath=output_dir)\n"
   ]
  },
  {
   "cell_type": "code",
   "execution_count": 10,
   "id": "081a8138",
   "metadata": {
    "execution": {
     "iopub.execute_input": "2024-08-19T06:41:13.999223Z",
     "iopub.status.busy": "2024-08-19T06:41:13.999074Z",
     "iopub.status.idle": "2024-08-19T06:41:23.375478Z",
     "shell.execute_reply": "2024-08-19T06:41:23.375052Z",
     "shell.execute_reply.started": "2024-08-19T06:41:13.999214Z"
    }
   },
   "outputs": [],
   "source": [
    "# Solution strategy: solve for the velocity field, then update the temperature field.\n",
    "# First we check this works for a tiny timestep, later we will repeat this to \n",
    "# model the passage of time.\n",
    "\n",
    "stokes.solve()\n",
    "adv_diff.solve(timestep=0.00001 * stokes.estimate_dt())"
   ]
  },
  {
   "cell_type": "code",
   "execution_count": null,
   "id": "0751b0ef-db45-4419-8e4e-d8cad02c8405",
   "metadata": {},
   "outputs": [],
   "source": []
  },
  {
   "cell_type": "code",
   "execution_count": 11,
   "id": "383e63b4-3f44-4f87-bde8-29dfcae0a4b5",
   "metadata": {
    "execution": {
     "iopub.execute_input": "2024-08-19T06:41:23.376172Z",
     "iopub.status.busy": "2024-08-19T06:41:23.376074Z",
     "iopub.status.idle": "2024-08-19T06:41:23.378093Z",
     "shell.execute_reply": "2024-08-19T06:41:23.377847Z",
     "shell.execute_reply.started": "2024-08-19T06:41:23.376160Z"
    }
   },
   "outputs": [],
   "source": [
    "timestep = 0\n",
    "elapsed_time=0.0"
   ]
  },
  {
   "cell_type": "code",
   "execution_count": 12,
   "id": "db5730a6",
   "metadata": {
    "execution": {
     "iopub.execute_input": "2024-08-19T06:41:23.378532Z",
     "iopub.status.busy": "2024-08-19T06:41:23.378453Z",
     "iopub.status.idle": "2024-08-19T06:45:44.147261Z",
     "shell.execute_reply": "2024-08-19T06:45:44.147004Z",
     "shell.execute_reply.started": "2024-08-19T06:41:23.378524Z"
    },
    "lines_to_next_cell": 2
   },
   "outputs": [
    {
     "name": "stdout",
     "output_type": "stream",
     "text": [
      "Timestep 0, dt 0.0001293870661420769, t 0.0\n",
      "Timestep 1, dt 9.754585217777986e-05, t 0.0001293870661420769\n",
      "Timestep 2, dt 8.454860805146877e-05, t 0.00022693291831985676\n",
      "Timestep 3, dt 7.988965190222662e-05, t 0.00031148152637132555\n",
      "Timestep 4, dt 7.958956447695483e-05, t 0.0003913711782735522\n",
      "Timestep 5, dt 8.047738299761243e-05, t 0.000470960742750507\n",
      "Timestep 6, dt 7.967446591690691e-05, t 0.0005514381257481194\n",
      "Timestep 7, dt 8.304606144591268e-05, t 0.0006311125916650263\n",
      "Timestep 8, dt 9.352691722507855e-05, t 0.0007141586531109389\n",
      "Timestep 9, dt 0.00011008758654951942, t 0.0008076855703360175\n",
      "Timestep 10, dt 0.0001273969995148167, t 0.0009177731568855369\n",
      "Timestep 11, dt 0.0001503077189881397, t 0.0010451701564003536\n",
      "Timestep 12, dt 0.00017188400291217064, t 0.0011954778753884934\n",
      "Timestep 13, dt 0.00021293636331411653, t 0.001367361878300664\n",
      "Timestep 14, dt 0.0002478726810813879, t 0.0015802982416147806\n",
      "Timestep 15, dt 0.00025841464334553244, t 0.0018281709226961687\n",
      "Timestep 16, dt 0.0002537995078260271, t 0.002086585566041701\n",
      "Timestep 17, dt 0.0002475723113777598, t 0.0023403850738677283\n",
      "Timestep 18, dt 0.00024326885090129177, t 0.002587957385245488\n",
      "Timestep 19, dt 0.0002259453952038458, t 0.0028312262361467797\n",
      "Timestep 20, dt 0.00023739518837348107, t 0.0030571716313506254\n",
      "Timestep 21, dt 0.0002244824152419741, t 0.0032945668197241064\n",
      "Timestep 22, dt 0.000182094547106191, t 0.0035190492349660807\n",
      "Timestep 23, dt 0.00014656897207049178, t 0.0037011437820722716\n",
      "Timestep 24, dt 0.00012545494426197075, t 0.0038477127541427635\n",
      "Timestep 25, dt 0.0001079912970991553, t 0.003973167698404734\n",
      "Timestep 26, dt 8.974850940512325e-05, t 0.004081158995503889\n",
      "Timestep 27, dt 7.324460288746981e-05, t 0.004170907504909012\n",
      "Timestep 28, dt 6.26660328726661e-05, t 0.004244152107796482\n",
      "Timestep 29, dt 5.007148501117436e-05, t 0.004306818140669148\n",
      "Timestep 30, dt 3.947326321388372e-05, t 0.004356889625680322\n",
      "Timestep 31, dt 3.376867157618638e-05, t 0.004396362888894206\n",
      "Timestep 32, dt 3.086432490170319e-05, t 0.004430131560470392\n",
      "Timestep 33, dt 3.0028848049013024e-05, t 0.004460995885372095\n",
      "Timestep 34, dt 3.087356195047188e-05, t 0.004491024733421107\n",
      "Timestep 35, dt 3.085000706461452e-05, t 0.0045218982953715795\n",
      "Timestep 36, dt 2.996919265188325e-05, t 0.004552748302436194\n",
      "Timestep 37, dt 2.964973691300387e-05, t 0.004582717495088077\n",
      "Timestep 38, dt 3.0230263020755055e-05, t 0.004612367232001082\n",
      "Timestep 39, dt 3.113400585301762e-05, t 0.004642597495021837\n",
      "Timestep 40, dt 3.246335111221903e-05, t 0.004673731500874854\n",
      "Timestep 41, dt 3.4209168198444326e-05, t 0.004706194851987073\n",
      "Timestep 42, dt 3.328255068106941e-05, t 0.0047404040201855175\n",
      "Timestep 43, dt 3.0261763697421556e-05, t 0.004773686570866587\n",
      "Timestep 44, dt 2.9435868884983194e-05, t 0.004803948334564008\n",
      "Timestep 45, dt 2.8349572102062697e-05, t 0.004833384203448992\n",
      "Timestep 46, dt 2.690649404571469e-05, t 0.004861733775551054\n",
      "Timestep 47, dt 2.6820340335050927e-05, t 0.004888640269596769\n",
      "Timestep 48, dt 2.790155517198226e-05, t 0.00491546060993182\n",
      "Timestep 49, dt 2.97142096419768e-05, t 0.004943362165103803\n"
     ]
    }
   ],
   "source": [
    "# Convection model / update in time\n",
    "\n",
    "output = os.path.join(output_dir, expt_name)\n",
    "\n",
    "for step in range(0, max_steps):\n",
    "    stokes.solve()\n",
    "    delta_t = 2.0 * stokes.estimate_dt()\n",
    "    adv_diff.solve(timestep=delta_t)\n",
    "\n",
    "    # stats then loop\n",
    "    tstats = t_soln.stats()\n",
    "\n",
    "    if uw.mpi.rank == 0:\n",
    "        print(f\"Timestep {timestep}, dt {delta_t}, t {elapsed_time}\")\n",
    "    \n",
    "        meshbox.write_timestep(filename=f\"{expt_name}\",\n",
    "                            index=timestep,\n",
    "                            outputPath=output_dir,\n",
    "                            meshVars=[v_soln, p_soln, t_soln],\n",
    "                        )\n",
    "\n",
    "    timestep += 1\n",
    "    elapsed_time += delta_t\n"
   ]
  },
  {
   "cell_type": "code",
   "execution_count": null,
   "id": "5aa94d68-b43c-4319-be44-cafe651801fe",
   "metadata": {},
   "outputs": [],
   "source": []
  },
  {
   "cell_type": "code",
   "execution_count": 17,
   "id": "69384ff1",
   "metadata": {
    "execution": {
     "iopub.execute_input": "2024-08-19T06:50:33.184446Z",
     "iopub.status.busy": "2024-08-19T06:50:33.183781Z",
     "iopub.status.idle": "2024-08-19T06:50:33.463364Z",
     "shell.execute_reply": "2024-08-19T06:50:33.463064Z",
     "shell.execute_reply.started": "2024-08-19T06:50:33.184386Z"
    }
   },
   "outputs": [
    {
     "data": {
      "application/vnd.jupyter.widget-view+json": {
       "model_id": "c462255d87b94b5bae135d415682f296",
       "version_major": 2,
       "version_minor": 0
      },
      "text/plain": [
       "Widget(value='<iframe src=\"http://localhost:61342/index.html?ui=P_0x320cc39d0_4&reconnect=auto\" class=\"pyvista…"
      ]
     },
     "metadata": {},
     "output_type": "display_data"
    }
   ],
   "source": [
    "if uw.mpi.size == 1:\n",
    "    \n",
    "    import pyvista as pv\n",
    "    import underworld3.visualisation as vis\n",
    "\n",
    "    pvmesh = vis.mesh_to_pv_mesh(meshbox)\n",
    "    pvmesh.point_data[\"T\"] = vis.scalar_fn_to_pv_points(pvmesh, t_soln.sym)\n",
    "    pvmesh.point_data[\"V\"] = vis.vector_fn_to_pv_points(pvmesh, v_soln.sym)\n",
    "\n",
    "    pvmesh_v = vis.meshVariable_to_pv_mesh_object(v_soln, alpha=None)\n",
    "    pvmesh_v.point_data[\"V\"] = vis.vector_fn_to_pv_points(pvmesh_v, v_soln.sym)\n",
    "\n",
    "    pvmesh_t = vis.meshVariable_to_pv_mesh_object(t_soln, alpha=None)\n",
    "    pvmesh_t.point_data[\"T\"] = vis.scalar_fn_to_pv_points(pvmesh_t, t_soln.sym)\n",
    "\n",
    "    # point sources at cell centres\n",
    "    cpoints = pvmesh.cell_centers().points\n",
    "    cpoint_cloud = pv.PolyData(cpoints)\n",
    "\n",
    "\n",
    "\n",
    "    pvstream = pvmesh.streamlines_from_source(\n",
    "            cpoint_cloud,\n",
    "            vectors=\"V\",\n",
    "            integrator_type=2,\n",
    "            integration_direction=\"both\",\n",
    "            compute_vorticity=False,\n",
    "            max_steps=1000,\n",
    "            max_time=0.25,\n",
    "            initial_step_length=0.01,\n",
    "            surface_streamlines=True,\n",
    "            )\n",
    "\n",
    "    pl = pv.Plotter(window_size=(750, 750))\n",
    "\n",
    "    pl.add_mesh(\n",
    "        pvmesh_t,\n",
    "        cmap=\"RdBu_r\",\n",
    "        edge_color=\"Black\",\n",
    "        edge_opacity=0.1,\n",
    "        show_edges=True,\n",
    "        scalars=\"T\",\n",
    "        use_transparency=False,\n",
    "        opacity=1.0,\n",
    "        show_scalar_bar=False\n",
    "    )\n",
    "\n",
    "    pl.add_mesh(pvstream, opacity=0.5, \n",
    "                show_scalar_bar=False)\n",
    "\n",
    "    pl.show(cpos=\"xy\")"
   ]
  },
  {
   "cell_type": "code",
   "execution_count": null,
   "id": "69bd2832-e505-4136-9187-2b081ec16787",
   "metadata": {},
   "outputs": [],
   "source": []
  },
  {
   "cell_type": "code",
   "execution_count": null,
   "id": "4264b8d3-e318-47a4-86ce-c05fc5bf2fa0",
   "metadata": {},
   "outputs": [],
   "source": []
  }
 ],
 "metadata": {
  "jupytext": {
   "cell_metadata_filter": "-all",
   "main_language": "python",
   "notebook_metadata_filter": "-all"
  },
  "kernelspec": {
   "display_name": "Python 3 (ipykernel)",
   "language": "python",
   "name": "python3"
  },
  "language_info": {
   "codemirror_mode": {
    "name": "ipython",
    "version": 3
   },
   "file_extension": ".py",
   "mimetype": "text/x-python",
   "name": "python",
   "nbconvert_exporter": "python",
   "pygments_lexer": "ipython3",
   "version": "3.11.10"
  }
 },
 "nbformat": 4,
 "nbformat_minor": 5
}
