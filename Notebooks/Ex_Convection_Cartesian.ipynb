{
 "cells": [
  {
   "cell_type": "markdown",
   "id": "41088089",
   "metadata": {},
   "source": [
    "# Constant viscosity convection, Cartesian domain (benchmark)\n",
    "\n",
    "This is a simple example in which we try to instantiate two solvers on the mesh and have them use a common set of variables.\n",
    "\n",
    "We set up a v, p, T system in which we will solve for a steady-state T field in response to thermal boundary conditions and then use the steady-state T field to compute a stokes flow in response.\n",
    "\n",
    "The next step is to add particles at node points and sample back along the streamlines to find values of the T field at a previous time.\n",
    "\n",
    "(Note, we keep all the pieces from previous increments of this problem to ensure that we don't break something along the way)"
   ]
  },
  {
   "cell_type": "code",
   "execution_count": null,
   "id": "c8c8f105",
   "metadata": {},
   "outputs": [],
   "source": [
    "# to fix trame issue\n",
    "import nest_asyncio\n",
    "nest_asyncio.apply()"
   ]
  },
  {
   "cell_type": "code",
   "execution_count": null,
   "id": "7b8a096b",
   "metadata": {},
   "outputs": [],
   "source": [
    "import petsc4py\n",
    "from petsc4py import PETSc\n",
    "\n",
    "import underworld3 as uw\n",
    "from underworld3.systems import Stokes\n",
    "from underworld3 import function\n",
    "\n",
    "import numpy as np\n",
    "import sympy"
   ]
  },
  {
   "cell_type": "code",
   "execution_count": null,
   "id": "8881ee7c",
   "metadata": {
    "lines_to_next_cell": 2
   },
   "outputs": [],
   "source": [
    "meshbox = uw.meshing.UnstructuredSimplexBox(\n",
    "    minCoords=(0.0, 0.0),\n",
    "    maxCoords=(1.0, 1.0),\n",
    "    cellSize=1.0 / 32.0,\n",
    "    regular=False,\n",
    "    qdegree=3,\n",
    ")"
   ]
  },
  {
   "cell_type": "code",
   "execution_count": null,
   "id": "40de888e",
   "metadata": {},
   "outputs": [],
   "source": [
    "# check the mesh if in a notebook / serial\n",
    "\n",
    "if uw.mpi.size == 1:\n",
    "    \n",
    "    import pyvista as pv\n",
    "    import underworld3.visualisation as vis\n",
    "\n",
    "    # pv.start_xvfb()\n",
    "\n",
    "    pvmesh = vis.mesh_to_pv_mesh(meshbox)\n",
    "    pl = pv.Plotter(window_size=(1000, 750))\n",
    "\n",
    "    # pl.add_mesh(pvmesh,'Black', 'wireframe', opacity=0.5)\n",
    "    pl.add_mesh(pvmesh, edge_color=\"Black\", show_edges=True)\n",
    "\n",
    "    pl.show(cpos=\"xy\")"
   ]
  },
  {
   "cell_type": "code",
   "execution_count": null,
   "id": "18cc05c1",
   "metadata": {
    "lines_to_next_cell": 2
   },
   "outputs": [],
   "source": [
    "v_soln = uw.discretisation.MeshVariable(\"U\", meshbox, meshbox.dim, degree=2)\n",
    "p_soln = uw.discretisation.MeshVariable(\"P\", meshbox, 1, degree=1)\n",
    "t_soln = uw.discretisation.MeshVariable(\"T\", meshbox, 1, degree=3)\n",
    "t_0 = uw.discretisation.MeshVariable(\"T0\", meshbox, 1, degree=3)"
   ]
  },
  {
   "cell_type": "code",
   "execution_count": null,
   "id": "7627d7a1",
   "metadata": {
    "lines_to_next_cell": 2
   },
   "outputs": [],
   "source": [
    "# Create Stokes object\n",
    "\n",
    "stokes = Stokes(\n",
    "    meshbox,\n",
    "    velocityField=v_soln,\n",
    "    pressureField=p_soln,\n",
    "    solver_name=\"stokes\",\n",
    ")\n",
    "\n",
    "# Constant viscosity\n",
    "\n",
    "viscosity = 1\n",
    "stokes.constitutive_model = uw.constitutive_models.ViscousFlowModel\n",
    "stokes.constitutive_model.Parameters.shear_viscosity_0 = 1.0\n",
    "stokes.tolerance = 1.0e-3\n",
    "\n",
    "\n",
    "# free slip.\n",
    "# note with petsc we always need to provide a vector of correct cardinality.\n",
    "\n",
    "stokes.add_dirichlet_bc((sympy.oo,0.0), \"Bottom\")\n",
    "stokes.add_dirichlet_bc((sympy.oo, 0.0), \"Top\")\n",
    "stokes.add_dirichlet_bc((0.0,sympy.oo), \"Left\")\n",
    "stokes.add_dirichlet_bc((0.0,sympy.oo), \"Right\")"
   ]
  },
  {
   "cell_type": "code",
   "execution_count": null,
   "id": "b7f8bfb6",
   "metadata": {
    "lines_to_next_cell": 2
   },
   "outputs": [],
   "source": [
    "# Create a density structure / buoyancy force\n",
    "# gravity will vary linearly from zero at the centre\n",
    "# of the sphere to (say) 1 at the surface\n",
    "\n",
    "import sympy\n",
    "\n",
    "# Some useful coordinate stuff\n",
    "\n",
    "x, y = meshbox.X"
   ]
  },
  {
   "cell_type": "code",
   "execution_count": null,
   "id": "623e6baf",
   "metadata": {
    "lines_to_next_cell": 2
   },
   "outputs": [],
   "source": [
    "# Create adv_diff object\n",
    "\n",
    "# Set some things\n",
    "k = 1.0\n",
    "h = 0.0\n",
    "\n",
    "adv_diff = uw.systems.AdvDiffusionSLCN(\n",
    "    meshbox,\n",
    "    u_Field=t_soln,\n",
    "    V_fn=v_soln,\n",
    "    solver_name=\"adv_diff\",\n",
    ")\n",
    "\n",
    "adv_diff.constitutive_model = uw.constitutive_models.DiffusionModel\n",
    "adv_diff.constitutive_model.Parameters.diffusivity = k\n",
    "adv_diff.theta = 0.5"
   ]
  },
  {
   "cell_type": "code",
   "execution_count": null,
   "id": "e94c216e",
   "metadata": {
    "lines_to_next_cell": 2
   },
   "outputs": [],
   "source": [
    "# Define T boundary conditions via a sympy function\n",
    "\n",
    "import sympy\n",
    "\n",
    "init_t = 0.01 * sympy.sin(5.0 * x) * sympy.sin(np.pi * y) + (1.0 - y)\n",
    "\n",
    "adv_diff.add_dirichlet_bc(1.0, \"Bottom\")\n",
    "adv_diff.add_dirichlet_bc(0.0, \"Top\")\n",
    "\n",
    "with meshbox.access(t_0, t_soln):\n",
    "    t_0.data[...] = uw.function.evaluate(init_t, t_0.coords, meshbox.N).reshape(-1, 1)\n",
    "    t_soln.data[...] = t_0.data[...]"
   ]
  },
  {
   "cell_type": "code",
   "execution_count": null,
   "id": "c8e14c99",
   "metadata": {},
   "outputs": [],
   "source": [
    "buoyancy_force = 1.0e6 * t_soln.sym[0]\n",
    "stokes.bodyforce = sympy.Matrix([0, buoyancy_force])"
   ]
  },
  {
   "cell_type": "code",
   "execution_count": null,
   "id": "6ea1e5d2",
   "metadata": {},
   "outputs": [],
   "source": [
    "# check the stokes solve is set up and that it converges\n",
    "stokes.solve(zero_init_guess=True)"
   ]
  },
  {
   "cell_type": "code",
   "execution_count": null,
   "id": "c24c4ca9",
   "metadata": {},
   "outputs": [],
   "source": [
    "# Check the diffusion part of the solve converges\n",
    "adv_diff.solve(timestep=0.1 * stokes.estimate_dt(), zero_init_guess=True)"
   ]
  },
  {
   "cell_type": "code",
   "execution_count": null,
   "id": "d2b8c10f",
   "metadata": {
    "lines_to_end_of_cell_marker": 2,
    "lines_to_next_cell": 2
   },
   "outputs": [],
   "source": [
    "# check the mesh if in a notebook / serial\n",
    "\n",
    "if uw.mpi.size == 1:\n",
    "    \n",
    "    import pyvista as pv\n",
    "    import underworld3.visualisation as vis\n",
    "\n",
    "    pvmesh = vis.mesh_to_pv_mesh(meshbox)\n",
    "    pvmesh.point_data[\"V\"] = vis.vector_fn_to_pv_points(pvmesh, v_soln.sym)/10\n",
    "    pvmesh.point_data[\"T\"] = vis.scalar_fn_to_pv_points(pvmesh, t_soln.sym)\n",
    "    points = vis.meshVariable_to_pv_cloud(t_soln)\n",
    "    point_cloud = pv.PolyData(points)\n",
    "    point_cloud.point_data[\"Tp\"] = vis.scalar_fn_to_pv_points(points, t_soln.sym)\n",
    "\n",
    "    # points = np.zeros((t_soln.coords.shape[0], 3))\n",
    "    # points[:, 0] = t_soln.coords[:, 0]\n",
    "    # points[:, 1] = t_soln.coords[:, 1]\n",
    "\n",
    "    # point_cloud = pv.PolyData(points)\n",
    "\n",
    "    # with meshbox.access():\n",
    "    #     point_cloud.point_data[\"Tp\"] = t_soln.data.copy()\n",
    "\n",
    "    # point sources at cell centres\n",
    "    cpoints = np.zeros((meshbox._centroids.shape[0] // 4, 3))\n",
    "    cpoints[:, 0] = meshbox._centroids[::4, 0]\n",
    "    cpoints[:, 1] = meshbox._centroids[::4, 1]\n",
    "    cpoint_cloud = pv.PolyData(cpoints)\n",
    "\n",
    "    pvstream = pvmesh.streamlines_from_source(\n",
    "        cpoint_cloud,\n",
    "        vectors=\"V\",\n",
    "        integrator_type=2,\n",
    "        integration_direction=\"forward\",\n",
    "        compute_vorticity=False,\n",
    "        max_steps=1000,\n",
    "        surface_streamlines=True,\n",
    "    )\n",
    "\n",
    "    pl = pv.Plotter(window_size=(1000, 750))\n",
    "\n",
    "    # pl.add_mesh(pvmesh,'Gray', 'wireframe')\n",
    "\n",
    "    # pl.add_mesh(\n",
    "    #     pvmesh, cmap=\"coolwarm\", edge_color=\"Black\",\n",
    "    #     show_edges=True, scalars=\"T\", use_transparency=False, opacity=0.5,\n",
    "    # )\n",
    "\n",
    "    pl.add_points(\n",
    "        point_cloud,\n",
    "        cmap=\"coolwarm\",\n",
    "        render_points_as_spheres=True,\n",
    "        point_size=10,\n",
    "        opacity=0.33,\n",
    "    )\n",
    "\n",
    "    pl.add_mesh(pvstream, opacity=0.5)\n",
    "    # pl.add_arrows(arrow_loc2, arrow_length2, mag=1.0e-1)\n",
    "\n",
    "    # pl.add_points(pdata)\n",
    "\n",
    "    pl.show(cpos=\"xy\")\n",
    "    pvmesh.clear_data()\n",
    "    pvmesh.clear_point_data()"
   ]
  },
  {
   "cell_type": "code",
   "execution_count": null,
   "id": "4bd6912a",
   "metadata": {},
   "outputs": [],
   "source": [
    "pvmesh.clear_point_data()"
   ]
  },
  {
   "cell_type": "code",
   "execution_count": null,
   "id": "bec8046f",
   "metadata": {},
   "outputs": [],
   "source": [
    "def plot_T_mesh(filename):\n",
    "    if uw.mpi.size == 1:\n",
    "        \n",
    "        import pyvista as pv\n",
    "        import underworld3.visualisation as vis\n",
    "\n",
    "        pvmesh = vis.mesh_to_pv_mesh(meshbox)\n",
    "        pvmesh.point_data[\"V\"] = vis.vector_fn_to_pv_points(pvmesh, v_soln.sym)/333\n",
    "        pvmesh.point_data[\"T\"] = vis.scalar_fn_to_pv_points(pvmesh, t_soln.sym)\n",
    "\n",
    "        # point sources at cell centres\n",
    "        cpoints = np.zeros((meshbox._centroids.shape[0] // 4, 3))\n",
    "        cpoints[:, 0] = meshbox._centroids[::4, 0]\n",
    "        cpoints[:, 1] = meshbox._centroids[::4, 1]\n",
    "        cpoint_cloud = pv.PolyData(cpoints)\n",
    "\n",
    "        pvstream = pvmesh.streamlines_from_source(\n",
    "                                                    cpoint_cloud,\n",
    "                                                    vectors=\"V\",\n",
    "                                                    integrator_type=45,\n",
    "                                                    integration_direction=\"forward\",\n",
    "                                                    compute_vorticity=False,\n",
    "                                                    max_steps=25,\n",
    "                                                    surface_streamlines=True,\n",
    "                                                    show_scalar_bar=False,\n",
    "                                                )\n",
    "\n",
    "        # points = vis.meshVariable_to_pv_cloud(t_soln)\n",
    "        # points.point_data[\"T\"] = vis.scalar_fn_to_pv_points(points, t_soln.sym)\n",
    "        # point_cloud = pv.PolyData(points)\n",
    "\n",
    "        pl = pv.Plotter(window_size=(1000, 750))\n",
    "\n",
    "        pl.add_mesh(\n",
    "                    pvmesh,\n",
    "                    cmap=\"coolwarm\",\n",
    "                    edge_color=\"Gray\",\n",
    "                    show_edges=True,\n",
    "                    scalars=\"T\",\n",
    "                    use_transparency=False,\n",
    "                    opacity=0.5,\n",
    "                    show_scalar_bar=False,\n",
    "                )\n",
    "\n",
    "        # pl.add_points(\n",
    "        #                 point_cloud,\n",
    "        #                 cmap=\"coolwarm\",\n",
    "        #                 render_points_as_spheres=False,\n",
    "        #                 point_size=10,\n",
    "        #                 opacity=0.5,\n",
    "        #             )\n",
    "\n",
    "        pl.add_mesh(pvstream, opacity=0.4)\n",
    "\n",
    "        pl.remove_scalar_bar(\"T\")\n",
    "        pl.remove_scalar_bar(\"V\")\n",
    "\n",
    "        pl.screenshot(\n",
    "            filename=\"{}.png\".format(filename),\n",
    "            window_size=(1280, 1280),\n",
    "            return_img=False,\n",
    "        )\n",
    "        # pl.show()\n",
    "        pl.close()\n",
    "\n",
    "        pvmesh.clear_data()\n",
    "        pvmesh.clear_point_data()\n",
    "\n",
    "        pv.close_all()"
   ]
  },
  {
   "cell_type": "code",
   "execution_count": null,
   "id": "e1768319",
   "metadata": {},
   "outputs": [],
   "source": [
    "t_step = 0"
   ]
  },
  {
   "cell_type": "code",
   "execution_count": null,
   "id": "bae56e4e",
   "metadata": {
    "lines_to_next_cell": 2
   },
   "outputs": [],
   "source": [
    "# Convection model / update in time\n",
    "\n",
    "##\n",
    "## There is a strange interaction here between the solvers if the zero_guess is\n",
    "## set to False\n",
    "##\n",
    "\n",
    "expt_name = \"output/Ra1e6\"\n",
    "\n",
    "for step in range(0, 50):\n",
    "    stokes.solve(zero_init_guess=True)\n",
    "    delta_t = 5.0 * stokes.estimate_dt()\n",
    "    adv_diff.solve(timestep=delta_t, zero_init_guess=False)\n",
    "\n",
    "    # stats then loop\n",
    "    tstats = t_soln.stats()\n",
    "\n",
    "    if uw.mpi.rank == 0:\n",
    "        print(\"Timestep {}, dt {}\".format(step, delta_t))\n",
    "    #         print(tstats)\n",
    "\n",
    "    if t_step % 5 == 0:\n",
    "        plot_T_mesh(filename=\"{}_step_{}\".format(expt_name, t_step))\n",
    "\n",
    "    t_step += 1\n"
   ]
  },
  {
   "cell_type": "markdown",
   "id": "87fc9a1d",
   "metadata": {
    "lines_to_next_cell": 2
   },
   "source": [
    "savefile = \"output_conv/convection_cylinder.h5\".format(step)\n",
    "meshbox.save(savefile)\n",
    "v_soln.save(savefile)\n",
    "t_soln.save(savefile)\n",
    "meshbox.generate_xdmf(savefile)"
   ]
  },
  {
   "cell_type": "code",
   "execution_count": null,
   "id": "ee09b8e1",
   "metadata": {},
   "outputs": [],
   "source": [
    "if uw.mpi.size == 1:\n",
    "    \n",
    "    import pyvista as pv\n",
    "    import underworld3.visualisation as vis\n",
    "\n",
    "    pvmesh =  vis.mesh_to_pv_mesh(meshbox)\n",
    "    pvmesh.point_data[\"T\"] = vis.scalar_fn_to_pv_points(pvmesh, t_soln.sym)\n",
    "    pvmesh.point_data[\"V\"] = vis.vector_fn_to_pv_points(pvmesh, stokes.u.sym)\n",
    "\n",
    "    pl = pv.Plotter(window_size=(1000, 750))\n",
    "\n",
    "    # pl.add_arrows(arrow_loc, arrow_length, mag=0.00002, opacity=0.75)\n",
    "    # pl.add_arrows(arrow_loc2, arrow_length2, mag=1.0e-1)\n",
    "\n",
    "    # pl.add_points(point_cloud, cmap=\"coolwarm\", render_points_as_spheres=False, point_size=7.5, opacity=0.25)\n",
    "\n",
    "    pl.add_mesh(pvmesh, show_edges=True, edge_color=\"Black\", cmap=\"coolwarm\", scalars=\"T\", opacity=0.75, show_scalar_bar=False)\n",
    "\n",
    "    pl.show(cpos=\"xy\")"
   ]
  },
  {
   "cell_type": "code",
   "execution_count": null,
   "id": "8511bb2e",
   "metadata": {},
   "outputs": [],
   "source": []
  }
 ],
 "metadata": {
  "jupytext": {
   "cell_metadata_filter": "-all",
   "main_language": "python",
   "notebook_metadata_filter": "-all"
  },
  "kernelspec": {
   "display_name": "Python 3 (ipykernel)",
   "language": "python",
   "name": "python3"
  },
  "language_info": {
   "codemirror_mode": {
    "name": "ipython",
    "version": 3
   },
   "file_extension": ".py",
   "mimetype": "text/x-python",
   "name": "python",
   "nbconvert_exporter": "python",
   "pygments_lexer": "ipython3",
   "version": "3.11.8"
  }
 },
 "nbformat": 4,
 "nbformat_minor": 5
}
