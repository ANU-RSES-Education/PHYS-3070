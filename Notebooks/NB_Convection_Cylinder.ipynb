{
 "cells": [
  {
   "cell_type": "markdown",
   "id": "c3744185",
   "metadata": {},
   "source": [
    "# Rayleigh-Bénard Convection in an annulus\n",
    "\n"
   ]
  },
  {
   "cell_type": "code",
   "execution_count": 1,
   "id": "c83c4266",
   "metadata": {
    "execution": {
     "iopub.execute_input": "2024-08-17T08:00:43.850556Z",
     "iopub.status.busy": "2024-08-17T08:00:43.849519Z",
     "iopub.status.idle": "2024-08-17T08:00:46.909424Z",
     "shell.execute_reply": "2024-08-17T08:00:46.909072Z",
     "shell.execute_reply.started": "2024-08-17T08:00:43.850526Z"
    }
   },
   "outputs": [
    {
     "name": "stderr",
     "output_type": "stream",
     "text": [
      "[Lyrebird.local:26748] shmem: mmap: an error occurred while determining whether or not /var/folders/tx/95gr762j29z4tt5d1dnqlgth0000gn/T//ompi.Lyrebird.501/jf.0/606339072/sm_segment.Lyrebird.501.24240000.0 could be created.\n"
     ]
    }
   ],
   "source": [
    "import petsc4py\n",
    "from petsc4py import PETSc\n",
    "\n",
    "import underworld3 as uw\n",
    "from underworld3.systems import Stokes\n",
    "from underworld3 import function\n",
    "\n",
    "import numpy as np\n",
    "import sympy\n",
    "import os\n",
    "\n",
    "# to fix trame issue\n",
    "import nest_asyncio\n",
    "nest_asyncio.apply()"
   ]
  },
  {
   "cell_type": "code",
   "execution_count": 2,
   "id": "bd6f69e3-842b-4448-9107-448a019a5393",
   "metadata": {
    "execution": {
     "iopub.execute_input": "2024-08-17T08:00:46.909965Z",
     "iopub.status.busy": "2024-08-17T08:00:46.909824Z",
     "iopub.status.idle": "2024-08-17T08:00:46.912350Z",
     "shell.execute_reply": "2024-08-17T08:00:46.912044Z",
     "shell.execute_reply.started": "2024-08-17T08:00:46.909954Z"
    }
   },
   "outputs": [],
   "source": [
    "# The problem setup \n",
    "\n",
    "r_o = 1\n",
    "r_i = 0.5\n",
    "\n",
    "\n",
    "# Parameters that define the notebook\n",
    "# These can be set when launching the script as\n",
    "# mpirun python3 scriptname -uw_resolution=0.1 etc\n",
    "\n",
    "rayleigh_number_exponent = uw.options.getReal(\"rayleigh_no_expt\",6) \n",
    "resolution = uw.options.getInt(\"model_resolution\", default=25)\n",
    "max_steps = uw.options.getInt(\"max_steps\", default=50)\n",
    "restart_step = uw.options.getInt(\"restart_step\", default=-1)\n",
    "\n",
    "# How that works\n",
    "\n",
    "rayleigh_number = pow(10,rayleigh_number_exponent)\n",
    "expt_name = f\"Ra1e{rayleigh_number_exponent}_res{resolution}\"\n",
    "output_dir = os.path.join(\"output\",\"annulus\",f\"Ra1e{rayleigh_number_exponent}\")\n",
    "\n",
    "os.makedirs(output_dir, exist_ok=True)\n"
   ]
  },
  {
   "cell_type": "code",
   "execution_count": 3,
   "id": "21f26c45",
   "metadata": {
    "execution": {
     "iopub.execute_input": "2024-08-17T08:00:46.912912Z",
     "iopub.status.busy": "2024-08-17T08:00:46.912794Z",
     "iopub.status.idle": "2024-08-17T08:00:47.167707Z",
     "shell.execute_reply": "2024-08-17T08:00:47.167357Z",
     "shell.execute_reply.started": "2024-08-17T08:00:46.912902Z"
    },
    "lines_to_next_cell": 2
   },
   "outputs": [],
   "source": [
    "## Set up the mesh geometry / discretisation\n",
    "\n",
    "\n",
    "meshball = uw.meshing.Annulus(\n",
    "    radiusInner=r_i, \n",
    "    radiusOuter=r_o, \n",
    "    cellSize=1/resolution, \n",
    "    degree=1, \n",
    "    qdegree=4, \n",
    ")\n",
    "\n",
    "x,y  = meshball.CoordinateSystem.X\n",
    "r, th = meshball.CoordinateSystem.R\n",
    "r_vector = meshball.CoordinateSystem.unit_e_0\n"
   ]
  },
  {
   "cell_type": "code",
   "execution_count": 4,
   "id": "50859b6a",
   "metadata": {
    "execution": {
     "iopub.execute_input": "2024-08-17T08:00:47.168196Z",
     "iopub.status.busy": "2024-08-17T08:00:47.168114Z",
     "iopub.status.idle": "2024-08-17T08:00:47.172933Z",
     "shell.execute_reply": "2024-08-17T08:00:47.172668Z",
     "shell.execute_reply.started": "2024-08-17T08:00:47.168188Z"
    },
    "lines_to_next_cell": 2
   },
   "outputs": [],
   "source": [
    "v_soln = uw.discretisation.MeshVariable(\"U\", meshball, meshball.dim, degree=2)\n",
    "p_soln = uw.discretisation.MeshVariable(\"P\", meshball, 1, degree=1)\n",
    "t_soln = uw.discretisation.MeshVariable(\"T\", meshball, 1, degree=3)"
   ]
  },
  {
   "cell_type": "code",
   "execution_count": 5,
   "id": "ab2c3ddc",
   "metadata": {
    "execution": {
     "iopub.execute_input": "2024-08-17T08:00:47.173467Z",
     "iopub.status.busy": "2024-08-17T08:00:47.173361Z",
     "iopub.status.idle": "2024-08-17T08:00:47.174741Z",
     "shell.execute_reply": "2024-08-17T08:00:47.174535Z",
     "shell.execute_reply.started": "2024-08-17T08:00:47.173459Z"
    }
   },
   "outputs": [],
   "source": [
    "# passive_swarm = uw.swarm.Swarm(mesh=meshball)\n",
    "# passive_swarm.populate(fill_param=3)"
   ]
  },
  {
   "cell_type": "code",
   "execution_count": 6,
   "id": "ecb97c81",
   "metadata": {
    "execution": {
     "iopub.execute_input": "2024-08-17T08:00:47.176165Z",
     "iopub.status.busy": "2024-08-17T08:00:47.176084Z",
     "iopub.status.idle": "2024-08-17T08:00:47.189233Z",
     "shell.execute_reply": "2024-08-17T08:00:47.188945Z",
     "shell.execute_reply.started": "2024-08-17T08:00:47.176158Z"
    }
   },
   "outputs": [],
   "source": [
    "# Create solver to solver the momentum equation (Stokes flow)\n",
    "\n",
    "stokes = Stokes(\n",
    "    meshball, \n",
    "    velocityField=v_soln, \n",
    "    pressureField=p_soln, \n",
    "    solver_name=\"stokes\",\n",
    ")\n",
    "\n",
    "stokes.tolerance = 0.001\n",
    "\n",
    "stokes.constitutive_model = uw.constitutive_models.ViscousFlowModel\n",
    "stokes.constitutive_model.Parameters.viscosity = 1.0\n",
    "\n",
    "# Penalise flow crossing the boundary\n",
    "\n",
    "stokes.add_natural_bc(10*rayleigh_number * v_soln.sym.dot(r_vector) * r_vector, \"Upper\")\n",
    "stokes.add_natural_bc(10*rayleigh_number * v_soln.sym.dot(r_vector) * r_vector, \"Lower\")\n",
    "\n",
    "stokes.bodyforce = r_vector * rayleigh_number * t_soln.sym[0] / (0.5) ** 3"
   ]
  },
  {
   "cell_type": "code",
   "execution_count": 7,
   "id": "63c21518",
   "metadata": {
    "execution": {
     "iopub.execute_input": "2024-08-17T08:00:47.189617Z",
     "iopub.status.busy": "2024-08-17T08:00:47.189549Z",
     "iopub.status.idle": "2024-08-17T08:00:47.281883Z",
     "shell.execute_reply": "2024-08-17T08:00:47.281614Z",
     "shell.execute_reply.started": "2024-08-17T08:00:47.189609Z"
    },
    "lines_to_next_cell": 2
   },
   "outputs": [],
   "source": [
    "# Create solver for the energy equation (Advection-Diffusion of temperature)\n",
    "\n",
    "adv_diff = uw.systems.AdvDiffusion(\n",
    "    meshball,\n",
    "    u_Field=t_soln,\n",
    "    V_fn=v_soln,\n",
    "    solver_name=\"adv_diff\",\n",
    "    order=2,\n",
    ")\n",
    "\n",
    "adv_diff.constitutive_model = uw.constitutive_models.DiffusionModel\n",
    "adv_diff.constitutive_model.Parameters.diffusivity = 1\n",
    "\n",
    "## Boundary conditions for this solver\n",
    "\n",
    "adv_diff.add_dirichlet_bc(1.0, \"Lower\")\n",
    "adv_diff.add_dirichlet_bc(0.0, \"Upper\")"
   ]
  },
  {
   "cell_type": "code",
   "execution_count": 8,
   "id": "9741b7b5",
   "metadata": {
    "execution": {
     "iopub.execute_input": "2024-08-17T08:00:47.282504Z",
     "iopub.status.busy": "2024-08-17T08:00:47.282412Z",
     "iopub.status.idle": "2024-08-17T08:00:47.515438Z",
     "shell.execute_reply": "2024-08-17T08:00:47.515064Z",
     "shell.execute_reply.started": "2024-08-17T08:00:47.282495Z"
    },
    "lines_to_next_cell": 0
   },
   "outputs": [],
   "source": [
    "# The advection / diffusion equation is an initial value problem\n",
    "# We set this up to have \n",
    "\n",
    "abs_r = sympy.sqrt(meshball.rvec.dot(meshball.rvec))\n",
    "init_t = 0.05 * sympy.sin(2.0 * th) * sympy.sin(np.pi * (r - r_i) / (r_o - r_i)) + (\n",
    "    r_o - r\n",
    ") / (r_o - r_i)\n",
    "\n",
    "\n",
    "with meshball.access(t_soln):\n",
    "    t_soln.data[...] = uw.function.evaluate(init_t, t_soln.coords).reshape(-1, 1)\n"
   ]
  },
  {
   "cell_type": "code",
   "execution_count": 9,
   "id": "081a8138",
   "metadata": {
    "execution": {
     "iopub.execute_input": "2024-08-17T08:00:47.515994Z",
     "iopub.status.busy": "2024-08-17T08:00:47.515836Z",
     "iopub.status.idle": "2024-08-17T08:02:33.222652Z",
     "shell.execute_reply": "2024-08-17T08:02:33.222253Z",
     "shell.execute_reply.started": "2024-08-17T08:00:47.515985Z"
    }
   },
   "outputs": [],
   "source": [
    "# Solution strategy: solve for the velocity field, then update the temperature field.\n",
    "# First we check this works for a tiny timestep, later we will repeat this to \n",
    "# model the passage of time.\n",
    "\n",
    "stokes.solve()\n",
    "adv_diff.solve(timestep=0.00001 * stokes.estimate_dt())"
   ]
  },
  {
   "cell_type": "code",
   "execution_count": 12,
   "id": "95f40020-d2a5-408b-83d9-828ea0740d4b",
   "metadata": {
    "execution": {
     "iopub.execute_input": "2024-08-17T08:02:33.233240Z",
     "iopub.status.busy": "2024-08-17T08:02:33.233135Z",
     "iopub.status.idle": "2024-08-17T08:02:33.354100Z",
     "shell.execute_reply": "2024-08-17T08:02:33.353602Z",
     "shell.execute_reply.started": "2024-08-17T08:02:33.233233Z"
    }
   },
   "outputs": [
    {
     "ename": "ZeroDivisionError",
     "evalue": "division by zero",
     "output_type": "error",
     "traceback": [
      "\u001b[0;31m---------------------------------------------------------------------------\u001b[0m",
      "\u001b[0;31mZeroDivisionError\u001b[0m                         Traceback (most recent call last)",
      "Cell \u001b[0;32mIn[12], line 1\u001b[0m\n\u001b[0;32m----> 1\u001b[0m \u001b[38;5;241;43m0\u001b[39;49m\u001b[38;5;241;43m/\u001b[39;49m\u001b[38;5;241;43m0\u001b[39;49m\n",
      "\u001b[0;31mZeroDivisionError\u001b[0m: division by zero"
     ]
    }
   ],
   "source": [
    "0/0"
   ]
  },
  {
   "cell_type": "code",
   "execution_count": null,
   "id": "383e63b4-3f44-4f87-bde8-29dfcae0a4b5",
   "metadata": {
    "execution": {
     "iopub.status.busy": "2024-08-17T08:02:33.354331Z",
     "iopub.status.idle": "2024-08-17T08:02:33.354443Z",
     "shell.execute_reply": "2024-08-17T08:02:33.354381Z",
     "shell.execute_reply.started": "2024-08-17T08:02:33.354376Z"
    }
   },
   "outputs": [],
   "source": [
    "timestep = 0\n",
    "elapsed_time=0.0"
   ]
  },
  {
   "cell_type": "code",
   "execution_count": null,
   "id": "db5730a6",
   "metadata": {
    "execution": {
     "iopub.status.busy": "2024-08-17T08:02:33.354774Z",
     "iopub.status.idle": "2024-08-17T08:02:33.354930Z",
     "shell.execute_reply": "2024-08-17T08:02:33.354859Z",
     "shell.execute_reply.started": "2024-08-17T08:02:33.354854Z"
    },
    "lines_to_next_cell": 2
   },
   "outputs": [],
   "source": [
    "# Convection model / update in time\n",
    "\n",
    "output = os.path.join(output_dir, expt_name)\n",
    "\n",
    "for step in range(0, max_steps):\n",
    "    stokes.solve()\n",
    "    delta_t = 2.0 * stokes.estimate_dt()\n",
    "    adv_diff.solve(timestep=delta_t)\n",
    "\n",
    "    # stats then loop\n",
    "    tstats = t_soln.stats()\n",
    "\n",
    "    if uw.mpi.rank == 0:\n",
    "        print(f\"Timestep {timestep}, dt {delta_t}, t {elapsed_time}\")\n",
    "\n",
    "    meshball.write_timestep(filename=\"annulus_ckpt\",\n",
    "                            index=timestep,\n",
    "                            outputPath=output_dir,\n",
    "                            meshVars=[v_soln, p_soln, t_soln],\n",
    "                        )\n",
    "\n",
    "    timestep += 1\n",
    "    elapsed_time += delta_t\n"
   ]
  },
  {
   "cell_type": "code",
   "execution_count": null,
   "id": "69384ff1",
   "metadata": {
    "execution": {
     "iopub.status.busy": "2024-08-17T08:02:33.355311Z",
     "iopub.status.idle": "2024-08-17T08:02:33.355492Z",
     "shell.execute_reply": "2024-08-17T08:02:33.355438Z",
     "shell.execute_reply.started": "2024-08-17T08:02:33.355434Z"
    }
   },
   "outputs": [],
   "source": [
    "if uw.mpi.size == 1:\n",
    "    \n",
    "    import pyvista as pv\n",
    "    import underworld3.visualisation as vis\n",
    "\n",
    "    pvmesh = vis.mesh_to_pv_mesh(meshball)\n",
    "    pvmesh.point_data[\"T\"] = vis.scalar_fn_to_pv_points(pvmesh, t_soln.sym)\n",
    "    pvmesh.point_data[\"V\"] = vis.vector_fn_to_pv_points(pvmesh, v_soln.sym)\n",
    "\n",
    "    velocity_points = vis.meshVariable_to_pv_cloud(stokes.u)\n",
    "    velocity_points.point_data[\"V\"] = vis.vector_fn_to_pv_points(velocity_points, stokes.u.sym)\n",
    "\n",
    "    # point sources at cell centres\n",
    "    cpoints = pvmesh.cell_centers().points\n",
    "    cpoint_cloud = pv.PolyData(cpoints)\n",
    "\n",
    "    pvstream = pvmesh.streamlines_from_source(\n",
    "            cpoint_cloud,\n",
    "            vectors=\"V\",\n",
    "            integrator_type=2,\n",
    "            integration_direction=\"both\",\n",
    "            compute_vorticity=False,\n",
    "            max_steps=1000,\n",
    "            max_time=0.1,\n",
    "            initial_step_length=0.01,\n",
    "            surface_streamlines=True,\n",
    "            )\n",
    "\n",
    "    pl = pv.Plotter(window_size=(750, 750))\n",
    "\n",
    "    pl.add_mesh(pvstream, opacity=0.5)\n",
    "    pl.add_mesh(pvmesh, scalars=\"T\", cmap=\"RdBu_r\", opacity=1)\n",
    "\n",
    "    pl.show(cpos=\"xy\")"
   ]
  },
  {
   "cell_type": "code",
   "execution_count": null,
   "id": "150545fd-439c-4efb-ade3-9953db5f2976",
   "metadata": {},
   "outputs": [],
   "source": []
  },
  {
   "cell_type": "code",
   "execution_count": null,
   "id": "838a63b4-f7b7-4238-b0ce-0a20cb1f8b1e",
   "metadata": {
    "execution": {
     "iopub.status.busy": "2024-08-17T08:02:33.355980Z",
     "iopub.status.idle": "2024-08-17T08:02:33.356153Z",
     "shell.execute_reply": "2024-08-17T08:02:33.356041Z",
     "shell.execute_reply.started": "2024-08-17T08:02:33.356036Z"
    }
   },
   "outputs": [],
   "source": [
    "0/0"
   ]
  },
  {
   "cell_type": "code",
   "execution_count": null,
   "id": "d75fe9c1-0eeb-4ee0-876d-bf8c95aad3c0",
   "metadata": {},
   "outputs": [],
   "source": []
  },
  {
   "cell_type": "code",
   "execution_count": null,
   "id": "b7b2547a-2250-4dbb-ac79-f7d7c8460c5a",
   "metadata": {
    "execution": {
     "iopub.status.busy": "2024-08-17T08:02:33.356615Z",
     "iopub.status.idle": "2024-08-17T08:02:33.356712Z",
     "shell.execute_reply": "2024-08-17T08:02:33.356660Z",
     "shell.execute_reply.started": "2024-08-17T08:02:33.356656Z"
    }
   },
   "outputs": [],
   "source": [
    "adv_diff.DuDt._psi_star_projection_solver.u"
   ]
  },
  {
   "cell_type": "code",
   "execution_count": null,
   "id": "25832dbb-f537-49ab-8ba7-c6108cde3c87",
   "metadata": {},
   "outputs": [],
   "source": []
  }
 ],
 "metadata": {
  "jupytext": {
   "cell_metadata_filter": "-all",
   "main_language": "python",
   "notebook_metadata_filter": "-all"
  },
  "kernelspec": {
   "display_name": "Python 3 (ipykernel)",
   "language": "python",
   "name": "python3"
  },
  "language_info": {
   "codemirror_mode": {
    "name": "ipython",
    "version": 3
   },
   "file_extension": ".py",
   "mimetype": "text/x-python",
   "name": "python",
   "nbconvert_exporter": "python",
   "pygments_lexer": "ipython3",
   "version": "3.11.7"
  }
 },
 "nbformat": 4,
 "nbformat_minor": 5
}
