{
 "cells": [
  {
   "cell_type": "markdown",
   "id": "4d23436d",
   "metadata": {},
   "source": [
    "## Visualise stokes annulus model (flow etc)"
   ]
  },
  {
   "cell_type": "code",
   "execution_count": 1,
   "id": "f56963d3",
   "metadata": {
    "execution": {
     "iopub.execute_input": "2024-08-19T07:13:50.665038Z",
     "iopub.status.busy": "2024-08-19T07:13:50.664863Z",
     "iopub.status.idle": "2024-08-19T07:13:50.675219Z",
     "shell.execute_reply": "2024-08-19T07:13:50.674184Z",
     "shell.execute_reply.started": "2024-08-19T07:13:50.665020Z"
    }
   },
   "outputs": [],
   "source": [
    "# to fix trame issue\n",
    "import nest_asyncio\n",
    "nest_asyncio.apply()\n",
    "import os"
   ]
  },
  {
   "cell_type": "code",
   "execution_count": 2,
   "id": "0b026768",
   "metadata": {
    "execution": {
     "iopub.execute_input": "2024-08-19T07:13:50.676572Z",
     "iopub.status.busy": "2024-08-19T07:13:50.676347Z",
     "iopub.status.idle": "2024-08-19T07:13:52.430985Z",
     "shell.execute_reply": "2024-08-19T07:13:52.430355Z",
     "shell.execute_reply.started": "2024-08-19T07:13:50.676551Z"
    }
   },
   "outputs": [
    {
     "name": "stderr",
     "output_type": "stream",
     "text": [
      "[esdhcp-137.anu.edu.au:60410] shmem: mmap: an error occurred while determining whether or not /var/folders/tx/95gr762j29z4tt5d1dnqlgth0000gn/T//ompi.esdhcp-137.501/jf.0/226492416/sm_segment.esdhcp-137.501.d800000.0 could be created.\n"
     ]
    }
   ],
   "source": [
    "import petsc4py\n",
    "import underworld3 as uw\n",
    "import numpy as np\n",
    "import sympy"
   ]
  },
  {
   "cell_type": "code",
   "execution_count": 3,
   "id": "8c3f6ccb",
   "metadata": {
    "execution": {
     "iopub.execute_input": "2024-08-19T07:13:52.432082Z",
     "iopub.status.busy": "2024-08-19T07:13:52.431822Z",
     "iopub.status.idle": "2024-08-19T07:13:52.583116Z",
     "shell.execute_reply": "2024-08-19T07:13:52.582531Z",
     "shell.execute_reply.started": "2024-08-19T07:13:52.432064Z"
    }
   },
   "outputs": [
    {
     "name": "stdout",
     "output_type": "stream",
     "text": [
      "total 0\n",
      "drwxr-xr-x@ 437 lmoresi  staff  13984 Aug 19 17:13 \u001b[34mRa1e6.0\u001b[m\u001b[m/\n"
     ]
    }
   ],
   "source": [
    "ls -trl output/annulus/ | tail"
   ]
  },
  {
   "cell_type": "code",
   "execution_count": 4,
   "id": "bf972017",
   "metadata": {
    "execution": {
     "iopub.execute_input": "2024-08-19T07:13:52.584343Z",
     "iopub.status.busy": "2024-08-19T07:13:52.584160Z",
     "iopub.status.idle": "2024-08-19T07:13:52.726464Z",
     "shell.execute_reply": "2024-08-19T07:13:52.725862Z",
     "shell.execute_reply.started": "2024-08-19T07:13:52.584319Z"
    }
   },
   "outputs": [
    {
     "name": "stdout",
     "output_type": "stream",
     "text": [
      "-rw-r--r--   1 lmoresi  staff  419144 Aug 19 17:13 cartesian_Ra1e6.0_res15.mesh.T.00055.h5\n",
      "-rw-r--r--   1 lmoresi  staff    3086 Aug 19 17:13 cartesian_Ra1e6.0_res15.mesh.00055.xdmf\n",
      "-rw-r--r--   1 lmoresi  staff  241112 Aug 19 17:13 cartesian_Ra1e6.0_res15.mesh.U.00056.h5\n",
      "-rw-r--r--   1 lmoresi  staff   83704 Aug 19 17:13 cartesian_Ra1e6.0_res15.mesh.P.00056.h5\n",
      "-rw-r--r--   1 lmoresi  staff  419144 Aug 19 17:13 cartesian_Ra1e6.0_res15.mesh.T.00056.h5\n",
      "-rw-r--r--   1 lmoresi  staff    3086 Aug 19 17:13 cartesian_Ra1e6.0_res15.mesh.00056.xdmf\n",
      "-rw-r--r--   1 lmoresi  staff  241112 Aug 19 17:13 cartesian_Ra1e6.0_res15.mesh.U.00057.h5\n",
      "-rw-r--r--   1 lmoresi  staff   83704 Aug 19 17:13 cartesian_Ra1e6.0_res15.mesh.P.00057.h5\n",
      "-rw-r--r--   1 lmoresi  staff  419144 Aug 19 17:13 cartesian_Ra1e6.0_res15.mesh.T.00057.h5\n",
      "-rw-r--r--   1 lmoresi  staff    3086 Aug 19 17:13 cartesian_Ra1e6.0_res15.mesh.00057.xdmf\n"
     ]
    }
   ],
   "source": [
    "ls -trl output/annulus/Ra1e6.0/ | tail"
   ]
  },
  {
   "cell_type": "code",
   "execution_count": 5,
   "id": "9a912364",
   "metadata": {
    "execution": {
     "iopub.execute_input": "2024-08-19T07:13:52.727703Z",
     "iopub.status.busy": "2024-08-19T07:13:52.727527Z",
     "iopub.status.idle": "2024-08-19T07:13:52.732243Z",
     "shell.execute_reply": "2024-08-19T07:13:52.731802Z",
     "shell.execute_reply.started": "2024-08-19T07:13:52.727679Z"
    },
    "lines_to_next_cell": 2
   },
   "outputs": [],
   "source": [
    "geometry = \"annulus_02\"\n",
    "resolution = 15\n",
    "\n",
    "checkpoint_dir = f\"output/{geometry}/Ra1e6.0\"\n",
    "checkpoint_base = f\"{geometry}_Ra1e6.0_res{resolution}\"\n",
    "meshfile = os.path.join(checkpoint_dir, checkpoint_base) + \".mesh.00000.h5\"\n",
    "image_dir = os.path.join(checkpoint_dir,\"images\")\n",
    "os.makedirs(image_dir, exist_ok=True)"
   ]
  },
  {
   "cell_type": "code",
   "execution_count": 7,
   "id": "b5d63def",
   "metadata": {
    "execution": {
     "iopub.execute_input": "2024-08-19T07:13:52.742204Z",
     "iopub.status.busy": "2024-08-19T07:13:52.741968Z",
     "iopub.status.idle": "2024-08-19T07:13:53.028975Z",
     "shell.execute_reply": "2024-08-19T07:13:53.028440Z",
     "shell.execute_reply.started": "2024-08-19T07:13:52.742186Z"
    }
   },
   "outputs": [],
   "source": [
    "mesh = uw.discretisation.Mesh(meshfile, \n",
    "                              coordinate_system_type=uw.coordinates.CoordinateSystemType.CYLINDRICAL2D)\n",
    "    \n",
    "x = mesh.N.x\n",
    "y = mesh.N.y\n",
    "\n",
    "v_soln = uw.discretisation.MeshVariable(\"U\", mesh, mesh.dim, degree=2)\n",
    "t_soln = uw.discretisation.MeshVariable(\"T\", mesh, 1, degree=3)\n",
    "flux = uw.discretisation.MeshVariable(r\"dTdz\", mesh, 1, degree=1)"
   ]
  },
  {
   "cell_type": "code",
   "execution_count": 52,
   "id": "b9768720",
   "metadata": {
    "execution": {
     "iopub.execute_input": "2024-08-19T11:09:58.532230Z",
     "iopub.status.busy": "2024-08-19T11:09:58.531719Z",
     "iopub.status.idle": "2024-08-19T11:09:58.537642Z",
     "shell.execute_reply": "2024-08-19T11:09:58.536464Z",
     "shell.execute_reply.started": "2024-08-19T11:09:58.532198Z"
    }
   },
   "outputs": [],
   "source": [
    "steps = range(140,150,1)"
   ]
  },
  {
   "cell_type": "code",
   "execution_count": 69,
   "id": "25ffe942",
   "metadata": {
    "execution": {
     "iopub.execute_input": "2024-08-19T11:13:09.992510Z",
     "iopub.status.busy": "2024-08-19T11:13:09.992209Z",
     "iopub.status.idle": "2024-08-19T11:13:12.273878Z",
     "shell.execute_reply": "2024-08-19T11:13:12.273543Z",
     "shell.execute_reply.started": "2024-08-19T11:13:09.992487Z"
    },
    "lines_to_next_cell": 0
   },
   "outputs": [
    {
     "name": "stdout",
     "output_type": "stream",
     "text": [
      "Plotting step 140\n",
      "Plotting step 141\n",
      "Plotting step 142\n",
      "Plotting step 143\n",
      "Plotting step 144\n",
      "Plotting step 145\n",
      "Plotting step 146\n",
      "Plotting step 147\n",
      "Plotting step 148\n",
      "Plotting step 149\n"
     ]
    }
   ],
   "source": [
    "import mpi4py\n",
    "import pyvista as pv\n",
    "import underworld3.visualisation as vis\n",
    "\n",
    "pl = pv.Plotter(window_size=[1000, 500])\n",
    "\n",
    "for step in steps:\n",
    "\n",
    "    try:\n",
    "        v_soln.read_timestep(checkpoint_base, \"U\", step, outputPath=checkpoint_dir)\n",
    "        t_soln.read_timestep(checkpoint_base, \"T\", step, outputPath=checkpoint_dir)\n",
    "        print(f\"Plotting step {step}\")\n",
    "\n",
    "    except:\n",
    "        print(f\"Failed to read step {step} correctly\")\n",
    "        continue\n",
    "\n",
    "    pl.clear()\n",
    "\n",
    "    pvmesh = vis.mesh_to_pv_mesh(mesh)\n",
    "    # pvmesh.point_data[\"T\"] = vis.scalar_fn_to_pv_points(pvmesh, t_soln.sym[0])\n",
    "    pvmesh.point_data[\"V\"] = vis.vector_fn_to_pv_points(pvmesh, v_soln.sym)\n",
    "\n",
    "    pvmesh_v = vis.meshVariable_to_pv_mesh_object(v_soln, alpha=None)\n",
    "    pvmesh_t = vis.meshVariable_to_pv_mesh_object(t_soln, alpha=None)\n",
    "\n",
    "    pvmesh_v.point_data[\"V\"] = vis.vector_fn_to_pv_points(pvmesh_v, v_soln.sym)\n",
    "    pvmesh_t.point_data[\"T\"] = vis.scalar_fn_to_pv_points(pvmesh_t, t_soln.sym)\n",
    "    \n",
    "    # point sources at cell centres\n",
    "    skip = 10\n",
    "    points = np.zeros((mesh._centroids[::skip].shape[0], 3))\n",
    "    points[:, 0] = mesh._centroids[::skip, 0]\n",
    "    points[:, 1] = mesh._centroids[::skip, 1]\n",
    "    point_cloud = pv.PolyData(points)\n",
    "\n",
    "    pl.add_mesh(\n",
    "        pvmesh_t,\n",
    "        cmap=\"RdBu_r\",\n",
    "        edge_color=\"Black\",\n",
    "        edge_opacity=0.1,\n",
    "        show_edges=True,\n",
    "        scalars=\"T\",\n",
    "        use_transparency=False,\n",
    "        opacity=1.0,\n",
    "        show_scalar_bar=False\n",
    "    )\n",
    "\n",
    "    pvstream = pvmesh.streamlines_from_source(\n",
    "        point_cloud,\n",
    "        vectors=\"V\",\n",
    "        integration_direction=\"both\",\n",
    "        max_time=1,\n",
    "        surface_streamlines=True,\n",
    "    )\n",
    "    \n",
    "\n",
    "    pl.add_mesh(pvstream, opacity=0.4, show_scalar_bar=False)    \n",
    "\n",
    "    # pl.camera_position = [(3.0, 0.5, 6.750994846396983),\n",
    "    #                       (3.0, 0.5, 0.0),\n",
    "    #                       (0.0, 1.0, 0.0)]\n",
    "\n",
    "    imagefile = os.path.join(image_dir, checkpoint_base) + f\"_V_T_{step}.png\"\n",
    "    \n",
    "    pl.screenshot(filename=imagefile,\n",
    "                  window_size=(1000, 500),\n",
    "                  return_img=False)\n",
    "\n"
   ]
  },
  {
   "cell_type": "code",
   "execution_count": 70,
   "id": "ef5a9c93",
   "metadata": {
    "editable": true,
    "execution": {
     "iopub.execute_input": "2024-08-19T11:13:12.274772Z",
     "iopub.status.busy": "2024-08-19T11:13:12.274682Z",
     "iopub.status.idle": "2024-08-19T11:13:12.296471Z",
     "shell.execute_reply": "2024-08-19T11:13:12.296162Z",
     "shell.execute_reply.started": "2024-08-19T11:13:12.274764Z"
    },
    "slideshow": {
     "slide_type": ""
    },
    "tags": []
   },
   "outputs": [
    {
     "data": {
      "application/vnd.jupyter.widget-view+json": {
       "model_id": "b7a5bfa9d018486f95bafb7979e5e16a",
       "version_major": 2,
       "version_minor": 0
      },
      "text/plain": [
       "Widget(value='<iframe src=\"http://localhost:62125/index.html?ui=P_0x37d296b90_22&reconnect=auto\" class=\"pyvist…"
      ]
     },
     "metadata": {},
     "output_type": "display_data"
    }
   ],
   "source": [
    "pl.show(jupyter_backend=\"trame\")\n"
   ]
  },
  {
   "cell_type": "code",
   "execution_count": 26,
   "id": "2c07b0a2-e467-491e-8005-4a22904c55af",
   "metadata": {
    "execution": {
     "iopub.execute_input": "2024-08-19T10:18:36.129493Z",
     "iopub.status.busy": "2024-08-19T10:18:36.129047Z",
     "iopub.status.idle": "2024-08-19T10:18:36.134481Z",
     "shell.execute_reply": "2024-08-19T10:18:36.133269Z",
     "shell.execute_reply.started": "2024-08-19T10:18:36.129464Z"
    }
   },
   "outputs": [],
   "source": []
  },
  {
   "cell_type": "code",
   "execution_count": 11,
   "id": "726f0636",
   "metadata": {
    "execution": {
     "iopub.execute_input": "2024-08-19T07:14:20.066997Z",
     "iopub.status.busy": "2024-08-19T07:14:20.066493Z",
     "iopub.status.idle": "2024-08-19T07:14:20.070152Z",
     "shell.execute_reply": "2024-08-19T07:14:20.069437Z",
     "shell.execute_reply.started": "2024-08-19T07:14:20.066981Z"
    }
   },
   "outputs": [],
   "source": [
    "## Calculate heat flux, evaluate at surface — proxy for boundary layer thickness"
   ]
  },
  {
   "cell_type": "code",
   "execution_count": 12,
   "id": "87481e74-81d9-40fc-939f-deb6cccf6af0",
   "metadata": {
    "execution": {
     "iopub.execute_input": "2024-08-19T07:14:20.071252Z",
     "iopub.status.busy": "2024-08-19T07:14:20.071120Z",
     "iopub.status.idle": "2024-08-19T07:14:20.075773Z",
     "shell.execute_reply": "2024-08-19T07:14:20.075259Z",
     "shell.execute_reply.started": "2024-08-19T07:14:20.071237Z"
    }
   },
   "outputs": [
    {
     "data": {
      "text/plain": [
       "(12466,\n",
       " 0.49898545293583557,\n",
       " 2.3066821254869784e-06,\n",
       " 0.9999978427445213,\n",
       " 6220.352656298126,\n",
       " 60.84989046004559,\n",
       " 0.5449996702221376)"
      ]
     },
     "execution_count": 12,
     "metadata": {},
     "output_type": "execute_result"
    }
   ],
   "source": [
    "t_soln.stats()"
   ]
  },
  {
   "cell_type": "code",
   "execution_count": 13,
   "id": "69b1af47-bd05-4c27-96fa-3699bcc51492",
   "metadata": {
    "execution": {
     "iopub.execute_input": "2024-08-19T07:14:20.077288Z",
     "iopub.status.busy": "2024-08-19T07:14:20.077153Z",
     "iopub.status.idle": "2024-08-19T07:14:20.418164Z",
     "shell.execute_reply": "2024-08-19T07:14:20.417199Z",
     "shell.execute_reply.started": "2024-08-19T07:14:20.077274Z"
    }
   },
   "outputs": [
    {
     "ename": "ZeroDivisionError",
     "evalue": "division by zero",
     "output_type": "error",
     "traceback": [
      "\u001b[0;31m---------------------------------------------------------------------------\u001b[0m",
      "\u001b[0;31mZeroDivisionError\u001b[0m                         Traceback (most recent call last)",
      "Cell \u001b[0;32mIn[13], line 1\u001b[0m\n\u001b[0;32m----> 1\u001b[0m \u001b[38;5;241;43m0\u001b[39;49m\u001b[38;5;241;43m/\u001b[39;49m\u001b[38;5;241;43m0\u001b[39;49m\n",
      "\u001b[0;31mZeroDivisionError\u001b[0m: division by zero"
     ]
    }
   ],
   "source": [
    "0/0"
   ]
  },
  {
   "cell_type": "code",
   "execution_count": null,
   "id": "4d9cfedc",
   "metadata": {
    "execution": {
     "iopub.status.busy": "2024-08-19T07:14:20.418804Z",
     "iopub.status.idle": "2024-08-19T07:14:20.419051Z",
     "shell.execute_reply": "2024-08-19T07:14:20.418929Z",
     "shell.execute_reply.started": "2024-08-19T07:14:20.418918Z"
    }
   },
   "outputs": [],
   "source": [
    "flux_solver = uw.systems.Projection(mesh, flux)\n",
    "\n",
    "# Conductive flux only !\n",
    "radial_flux = -mesh.vector.gradient(t_soln.sym[0]).dot(mesh.CoordinateSystem.unit_e_0)\n",
    "radial_flux *= sympy.exp(-100*(r-1)**2) \n",
    "\n",
    "flux_solver.uw_function = radial_flux\n",
    "flux_solver.smoothing = 1.0e-3\n",
    "flux_solver.solve()"
   ]
  },
  {
   "cell_type": "code",
   "execution_count": null,
   "id": "14253218",
   "metadata": {
    "execution": {
     "iopub.status.busy": "2024-08-19T07:14:20.419995Z",
     "iopub.status.idle": "2024-08-19T07:14:20.420195Z",
     "shell.execute_reply": "2024-08-19T07:14:20.420093Z",
     "shell.execute_reply.started": "2024-08-19T07:14:20.420084Z"
    },
    "lines_to_next_cell": 0
   },
   "outputs": [],
   "source": [
    "import mpi4py\n",
    "import pyvista as pv\n",
    "import underworld3.visualisation as vis\n",
    "\n",
    "pvmesh = vis.mesh_to_pv_mesh(mesh)\n",
    "pvmesh.point_data[\"dTdz\"] = vis.scalar_fn_to_pv_points(pvmesh, flux.sym[0])\n",
    "pvmesh.point_data[\"V\"] = vis.vector_fn_to_pv_points(pvmesh, v_soln.sym)\n",
    "pvmesh.point_data[\"V\"] -= pvmesh.point_data[\"V\"].mean()\n",
    "\n",
    "velocity_points = vis.meshVariable_to_pv_cloud(v_soln)\n",
    "velocity_points.point_data[\"V\"] = vis.vector_fn_to_pv_points(velocity_points, v_soln.sym)\n",
    "\n",
    "# point sources at cell centres\n",
    "skip = 8\n",
    "points = np.zeros((mesh._centroids[::skip].shape[0], 3))\n",
    "points[:, 0] = mesh._centroids[::skip, 0]\n",
    "points[:, 1] = mesh._centroids[::skip, 1]\n",
    "point_cloud = pv.PolyData(points)\n",
    "\n",
    "pvstream = pvmesh.streamlines_from_source(\n",
    "    point_cloud,\n",
    "    vectors=\"V\",\n",
    "    integration_direction=\"both\",\n",
    "    max_time=0.5,\n",
    ")\n",
    "\n",
    "pl = pv.Plotter(window_size=[1000, 1000])\n",
    "\n",
    "pl.add_mesh(\n",
    "    pvmesh,\n",
    "    cmap=\"Reds\",\n",
    "    edge_color=\"Black\",\n",
    "    show_edges=True,\n",
    "    scalars=\"dTdz\",\n",
    "    use_transparency=False,\n",
    "    opacity=1.0,\n",
    ")\n",
    "\n",
    "# \n",
    "# pl.add_mesh(pvmesh, \"Black\", \"wireframe\",  opacity=0.1)\n",
    "\n",
    "# pl.add_points(point_cloud, color=\"White\", point_size=3.0, opacity=0.25)\n",
    "\n",
    "# pl.add_arrows(velocity_points.points, velocity_points.point_data[\"V\"], mag=0.0001, show_scalar_bar=True)\n",
    "pl.add_mesh(pvstream, opacity=0.4, show_scalar_bar=False)\n",
    "    \n",
    "# pl.remove_scalar_bar(\"V\")\n",
    "\n",
    "imagefile = os.path.join(image_dir, checkpoint_base) + f\"_dTdr_{step}.png\"\n",
    "\n",
    "pl.screenshot(filename=imagefile, window_size=(750, 750), return_img=False)\n",
    "# OR\n"
   ]
  },
  {
   "cell_type": "code",
   "execution_count": null,
   "id": "8ba2cf38",
   "metadata": {
    "execution": {
     "iopub.status.busy": "2024-08-19T07:14:20.420913Z",
     "iopub.status.idle": "2024-08-19T07:14:20.421122Z",
     "shell.execute_reply": "2024-08-19T07:14:20.421013Z",
     "shell.execute_reply.started": "2024-08-19T07:14:20.421004Z"
    },
    "lines_to_next_cell": 2
   },
   "outputs": [],
   "source": [
    "pl.show()"
   ]
  },
  {
   "cell_type": "code",
   "execution_count": null,
   "id": "f6bc3bc7-2164-4799-9f00-f6cfef07058d",
   "metadata": {},
   "outputs": [],
   "source": []
  },
  {
   "cell_type": "code",
   "execution_count": null,
   "id": "6c6b7b64-307f-4431-8200-a57302efcca8",
   "metadata": {},
   "outputs": [],
   "source": []
  }
 ],
 "metadata": {
  "jupytext": {
   "cell_metadata_filter": "-all",
   "main_language": "python",
   "notebook_metadata_filter": "-all"
  },
  "kernelspec": {
   "display_name": "Python 3 (ipykernel)",
   "language": "python",
   "name": "python3"
  },
  "language_info": {
   "codemirror_mode": {
    "name": "ipython",
    "version": 3
   },
   "file_extension": ".py",
   "mimetype": "text/x-python",
   "name": "python",
   "nbconvert_exporter": "python",
   "pygments_lexer": "ipython3",
   "version": "3.11.7"
  }
 },
 "nbformat": 4,
 "nbformat_minor": 5
}
