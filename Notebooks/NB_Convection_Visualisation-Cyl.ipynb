{
 "cells": [
  {
   "cell_type": "markdown",
   "id": "4d23436d",
   "metadata": {},
   "source": [
    "## Visualise stokes annulus model (flow etc)"
   ]
  },
  {
   "cell_type": "code",
   "execution_count": 1,
   "id": "f56963d3",
   "metadata": {
    "execution": {
     "iopub.execute_input": "2024-08-21T00:25:35.936148Z",
     "iopub.status.busy": "2024-08-21T00:25:35.935953Z",
     "iopub.status.idle": "2024-08-21T00:25:35.946411Z",
     "shell.execute_reply": "2024-08-21T00:25:35.946057Z",
     "shell.execute_reply.started": "2024-08-21T00:25:35.936126Z"
    }
   },
   "outputs": [],
   "source": [
    "# to fix trame issue\n",
    "import nest_asyncio\n",
    "nest_asyncio.apply()\n",
    "import os"
   ]
  },
  {
   "cell_type": "code",
   "execution_count": 2,
   "id": "0b026768",
   "metadata": {
    "execution": {
     "iopub.execute_input": "2024-08-21T00:25:35.947153Z",
     "iopub.status.busy": "2024-08-21T00:25:35.947009Z",
     "iopub.status.idle": "2024-08-21T00:25:36.978536Z",
     "shell.execute_reply": "2024-08-21T00:25:36.978214Z",
     "shell.execute_reply.started": "2024-08-21T00:25:35.947137Z"
    }
   },
   "outputs": [
    {
     "name": "stderr",
     "output_type": "stream",
     "text": [
      "[esdhcp-137.anu.edu.au:24069] shmem: mmap: an error occurred while determining whether or not /var/folders/tx/95gr762j29z4tt5d1dnqlgth0000gn/T//ompi.esdhcp-137.501/jf.0/2649161728/sm_segment.esdhcp-137.501.9de70000.0 could be created.\n"
     ]
    }
   ],
   "source": [
    "import petsc4py\n",
    "import underworld3 as uw\n",
    "import numpy as np\n",
    "import sympy"
   ]
  },
  {
   "cell_type": "code",
   "execution_count": 3,
   "id": "8c3f6ccb",
   "metadata": {
    "execution": {
     "iopub.execute_input": "2024-08-21T00:25:36.979089Z",
     "iopub.status.busy": "2024-08-21T00:25:36.978968Z",
     "iopub.status.idle": "2024-08-21T00:25:37.115116Z",
     "shell.execute_reply": "2024-08-21T00:25:37.114656Z",
     "shell.execute_reply.started": "2024-08-21T00:25:36.979080Z"
    }
   },
   "outputs": [
    {
     "name": "stdout",
     "output_type": "stream",
     "text": [
      "total 0\n",
      "drwxr-xr-x  3233 lmoresi  staff  103456 Aug 15 10:37 \u001b[34mRa1e5\u001b[m\u001b[m/\n",
      "drwxr-xr-x     2 lmoresi  staff      64 Aug 15 20:26 \u001b[34mRa1e4.0\u001b[m\u001b[m/\n",
      "drwxr-xr-x@  804 lmoresi  staff   25728 Aug 16 13:18 \u001b[34mRa1e5.0\u001b[m\u001b[m/\n",
      "drwxr-xr-x  2271 lmoresi  staff   72672 Aug 18 22:32 \u001b[34mRa1e6.0\u001b[m\u001b[m/\n"
     ]
    }
   ],
   "source": [
    "ls -trl output/annulus/ | tail"
   ]
  },
  {
   "cell_type": "code",
   "execution_count": 4,
   "id": "bf972017",
   "metadata": {
    "execution": {
     "iopub.execute_input": "2024-08-21T00:25:37.115995Z",
     "iopub.status.busy": "2024-08-21T00:25:37.115878Z",
     "iopub.status.idle": "2024-08-21T00:25:37.295115Z",
     "shell.execute_reply": "2024-08-21T00:25:37.294623Z",
     "shell.execute_reply.started": "2024-08-21T00:25:37.115978Z"
    }
   },
   "outputs": [
    {
     "name": "stdout",
     "output_type": "stream",
     "text": [
      "-rw-r--r--    1 lmoresi  staff    3090 Aug 18 22:32 annulus_02_Ra1e6.0_res20.mesh.00297.xdmf\n",
      "-rw-r--r--    1 lmoresi  staff  258744 Aug 18 22:32 annulus_02_Ra1e6.0_res20.mesh.U.00298.h5\n",
      "-rw-r--r--    1 lmoresi  staff   88408 Aug 18 22:32 annulus_02_Ra1e6.0_res20.mesh.P.00298.h5\n",
      "-rw-r--r--    1 lmoresi  staff  453176 Aug 18 22:32 annulus_02_Ra1e6.0_res20.mesh.T.00298.h5\n",
      "-rw-r--r--    1 lmoresi  staff    3090 Aug 18 22:32 annulus_02_Ra1e6.0_res20.mesh.00298.xdmf\n",
      "-rw-r--r--    1 lmoresi  staff  258744 Aug 18 22:32 annulus_02_Ra1e6.0_res20.mesh.U.00299.h5\n",
      "-rw-r--r--    1 lmoresi  staff   88408 Aug 18 22:32 annulus_02_Ra1e6.0_res20.mesh.P.00299.h5\n",
      "-rw-r--r--    1 lmoresi  staff  453176 Aug 18 22:32 annulus_02_Ra1e6.0_res20.mesh.T.00299.h5\n",
      "-rw-r--r--    1 lmoresi  staff    3090 Aug 18 22:32 annulus_02_Ra1e6.0_res20.mesh.00299.xdmf\n",
      "drwxr-xr-x@ 504 lmoresi  staff   16128 Aug 18 22:33 \u001b[34mimages\u001b[m\u001b[m/\n"
     ]
    }
   ],
   "source": [
    "ls -trl output/annulus/Ra1e6.0/ | tail"
   ]
  },
  {
   "cell_type": "code",
   "execution_count": 5,
   "id": "9a912364",
   "metadata": {
    "execution": {
     "iopub.execute_input": "2024-08-21T00:25:37.296225Z",
     "iopub.status.busy": "2024-08-21T00:25:37.296005Z",
     "iopub.status.idle": "2024-08-21T00:25:37.300176Z",
     "shell.execute_reply": "2024-08-21T00:25:37.299870Z",
     "shell.execute_reply.started": "2024-08-21T00:25:37.296199Z"
    },
    "lines_to_next_cell": 2
   },
   "outputs": [],
   "source": [
    "geometry = \"annulus_02\"\n",
    "resolution = 15\n",
    "\n",
    "checkpoint_dir = f\"output/{geometry}/Ra1e6.0\"\n",
    "checkpoint_base = f\"{geometry}_Ra1e6.0_res{resolution}\"\n",
    "meshfile = os.path.join(checkpoint_dir, checkpoint_base) + \".mesh.00000.h5\"\n",
    "image_dir = os.path.join(checkpoint_dir,\"images\")\n",
    "os.makedirs(image_dir, exist_ok=True)"
   ]
  },
  {
   "cell_type": "code",
   "execution_count": 6,
   "id": "b5d63def",
   "metadata": {
    "execution": {
     "iopub.execute_input": "2024-08-21T00:25:37.302222Z",
     "iopub.status.busy": "2024-08-21T00:25:37.302072Z",
     "iopub.status.idle": "2024-08-21T00:25:37.648440Z",
     "shell.execute_reply": "2024-08-21T00:25:37.647987Z",
     "shell.execute_reply.started": "2024-08-21T00:25:37.302207Z"
    }
   },
   "outputs": [
    {
     "name": "stderr",
     "output_type": "stream",
     "text": [
      "[0]PETSC ERROR: --------------------- Error Message --------------------------------------------------------------\n",
      "[0]PETSC ERROR: Error in external library\n",
      "[0]PETSC ERROR: Error in HDF5 call H5Fopen() Status -1\n",
      "[0]PETSC ERROR: WARNING! There are unused option(s) set! Could be the program crashed before usage or a spelling mistake, etc!\n",
      "[0]PETSC ERROR:   Option left: name:-f value: /Users/lmoresi/Library/Jupyter/runtime/kernel-94bff0bc-3d40-452b-9245-24b16222126b.json source: command line\n",
      "[0]PETSC ERROR: See https://petsc.org/release/faq/ for trouble shooting.\n",
      "[0]PETSC ERROR: Petsc Development GIT revision: v3.21.4-437-gbf0460ce64e  GIT Date: 2024-08-14 09:06:37 -0500\n",
      "[0]PETSC ERROR: /Users/lmoresi/mambaforge/envs/underworld3p/lib/python3.11/site-packages/ipykernel_launcher.py with 1 MPI process(es) and PETSC_ARCH arch-darwin-c-opt on esdhcp-137.anu.edu.au by lmoresi Wed Aug 21 10:25:36 2024\n",
      "[0]PETSC ERROR: Configure options: --download-eigen=1 --download-hdf5=0 --download-metis=1 --download-mmg --download-mpi4py=0 --download-mumps=1 --download-parmetis=1 --download-parmmg --download-pragmatic=1 --download-ptscotch --download-scalapack --download-slepc --with-debugging=0 --with-hdf5=1 --with-petsc4py=1 --with-pragmatic=1 --with-x=0 PETSC_ARCH=arch-darwin-c-opt\n",
      "[0]PETSC ERROR: #1 PetscViewerFileSetName_HDF5() at /Users/lmoresi/+Underworld/petsc-main/src/sys/classes/viewer/impls/hdf5/hdf5v.c:424\n",
      "[0]PETSC ERROR: #2 PetscViewerFileSetName() at /Users/lmoresi/+Underworld/petsc-main/src/sys/classes/viewer/impls/ascii/filev.c:764\n",
      "[0]PETSC ERROR: --------------------- Error Message --------------------------------------------------------------\n",
      "[0]PETSC ERROR:   It appears a new error in the code was triggered after a previous error, possibly because:\n",
      "[0]PETSC ERROR:   -  The first error was not properly handled via (for example) the use of\n",
      "[0]PETSC ERROR:      PetscCall(TheFunctionThatErrors()); or\n",
      "[0]PETSC ERROR:   -  The second error was triggered while handling the first error.\n",
      "[0]PETSC ERROR:   Above is the traceback for the previous unhandled error, below the traceback for the next error\n",
      "[0]PETSC ERROR:   ALL ERRORS in the PETSc libraries are fatal, you should add the appropriate error checking to the code\n",
      "[0]PETSC ERROR: Error in external library\n",
      "[0]PETSC ERROR: Error in HDF5 call H5Fflush() Status -1\n",
      "[0]PETSC ERROR: WARNING! There are unused option(s) set! Could be the program crashed before usage or a spelling mistake, etc!\n",
      "[0]PETSC ERROR:   Option left: name:-f value: /Users/lmoresi/Library/Jupyter/runtime/kernel-94bff0bc-3d40-452b-9245-24b16222126b.json source: command line\n",
      "[0]PETSC ERROR: See https://petsc.org/release/faq/ for trouble shooting.\n",
      "[0]PETSC ERROR: Petsc Development GIT revision: v3.21.4-437-gbf0460ce64e  GIT Date: 2024-08-14 09:06:37 -0500\n",
      "[0]PETSC ERROR: /Users/lmoresi/mambaforge/envs/underworld3p/lib/python3.11/site-packages/ipykernel_launcher.py with 1 MPI process(es) and PETSC_ARCH arch-darwin-c-opt on esdhcp-137.anu.edu.au by lmoresi Wed Aug 21 10:25:36 2024\n",
      "[0]PETSC ERROR: Configure options: --download-eigen=1 --download-hdf5=0 --download-metis=1 --download-mmg --download-mpi4py=0 --download-mumps=1 --download-parmetis=1 --download-parmmg --download-pragmatic=1 --download-ptscotch --download-scalapack --download-slepc --with-debugging=0 --with-hdf5=1 --with-petsc4py=1 --with-pragmatic=1 --with-x=0 PETSC_ARCH=arch-darwin-c-opt\n",
      "[0]PETSC ERROR: #1 PetscViewerFlush_HDF5() at /Users/lmoresi/+Underworld/petsc-main/src/sys/classes/viewer/impls/hdf5/hdf5v.c:116\n",
      "[0]PETSC ERROR: #2 PetscViewerFlush() at /Users/lmoresi/+Underworld/petsc-main/src/sys/classes/viewer/interface/flush.c:21\n",
      "[0]PETSC ERROR: #3 PetscViewerDestroy() at /Users/lmoresi/+Underworld/petsc-main/src/sys/classes/viewer/interface/view.c:94\n",
      "[0]PETSC ERROR: #4 PetscObjectDestroy() at /Users/lmoresi/+Underworld/petsc-main/src/sys/objects/destroy.c:50\n",
      "[0]PETSC ERROR: #5 PetscObjectDelayedDestroy() at /Users/lmoresi/+Underworld/petsc-main/src/sys/objects/garbage.c:78\n"
     ]
    },
    {
     "ename": "Error",
     "evalue": "error code 76",
     "output_type": "error",
     "traceback": [
      "\u001b[0;31m---------------------------------------------------------------------------\u001b[0m",
      "\u001b[0;31mError\u001b[0m                                     Traceback (most recent call last)",
      "\u001b[0;31mError\u001b[0m: error code 76"
     ]
    },
    {
     "name": "stderr",
     "output_type": "stream",
     "text": [
      "Exception ignored in: 'petsc4py.PETSc.Object.__dealloc__'\n",
      "Traceback (most recent call last):\n",
      "  File \"/Users/lmoresi/mambaforge/envs/underworld3p/lib/python3.11/site-packages/underworld3/discretisation.py\", line 98, in _from_plexh5\n",
      "    viewer = PETSc.ViewerHDF5().create(filename, \"r\", comm=comm)\n",
      "             ^^^^^^^^^^^^^^^^^^^^^^^^^^^^^^^^^^^^^^^^^^^^^^^^^^^\n",
      "petsc4py.PETSc.Error: error code 76\n"
     ]
    },
    {
     "ename": "Error",
     "evalue": "error code 76",
     "output_type": "error",
     "traceback": [
      "\u001b[0;31m---------------------------------------------------------------------------\u001b[0m",
      "\u001b[0;31mError\u001b[0m                                     Traceback (most recent call last)",
      "Cell \u001b[0;32mIn[6], line 1\u001b[0m\n\u001b[0;32m----> 1\u001b[0m mesh \u001b[38;5;241m=\u001b[39m \u001b[43muw\u001b[49m\u001b[38;5;241;43m.\u001b[39;49m\u001b[43mdiscretisation\u001b[49m\u001b[38;5;241;43m.\u001b[39;49m\u001b[43mMesh\u001b[49m\u001b[43m(\u001b[49m\u001b[43mmeshfile\u001b[49m\u001b[43m,\u001b[49m\u001b[43m \u001b[49m\n\u001b[1;32m      2\u001b[0m \u001b[43m                              \u001b[49m\u001b[43mcoordinate_system_type\u001b[49m\u001b[38;5;241;43m=\u001b[39;49m\u001b[43muw\u001b[49m\u001b[38;5;241;43m.\u001b[39;49m\u001b[43mcoordinates\u001b[49m\u001b[38;5;241;43m.\u001b[39;49m\u001b[43mCoordinateSystemType\u001b[49m\u001b[38;5;241;43m.\u001b[39;49m\u001b[43mCYLINDRICAL2D\u001b[49m\u001b[43m)\u001b[49m\n\u001b[1;32m      4\u001b[0m x \u001b[38;5;241m=\u001b[39m mesh\u001b[38;5;241m.\u001b[39mN\u001b[38;5;241m.\u001b[39mx\n\u001b[1;32m      5\u001b[0m y \u001b[38;5;241m=\u001b[39m mesh\u001b[38;5;241m.\u001b[39mN\u001b[38;5;241m.\u001b[39my\n",
      "File \u001b[0;32m~/mambaforge/envs/underworld3p/lib/python3.11/site-packages/underworld3/discretisation.py:181\u001b[0m, in \u001b[0;36mMesh.__init__\u001b[0;34m(self, plex_or_meshfile, degree, simplex, coordinate_system_type, qdegree, markVertices, useRegions, useMultipleTags, filename, refinement, refinement_callback, return_coords_to_bounds, boundaries, boundary_normals, name, verbose, *args, **kwargs)\u001b[0m\n\u001b[1;32m    176\u001b[0m     \u001b[38;5;28;01mif\u001b[39;00m verbose \u001b[38;5;129;01mand\u001b[39;00m uw\u001b[38;5;241m.\u001b[39mmpi\u001b[38;5;241m.\u001b[39mrank \u001b[38;5;241m==\u001b[39m \u001b[38;5;241m0\u001b[39m:\n\u001b[1;32m    177\u001b[0m         \u001b[38;5;28mprint\u001b[39m(\n\u001b[1;32m    178\u001b[0m             \u001b[38;5;124mf\u001b[39m\u001b[38;5;124m\"\u001b[39m\u001b[38;5;124mConstructing UW mesh from DMPlex h5 file \u001b[39m\u001b[38;5;132;01m{\u001b[39;00mplex_or_meshfile\u001b[38;5;132;01m}\u001b[39;00m\u001b[38;5;124m\"\u001b[39m,\n\u001b[1;32m    179\u001b[0m             flush\u001b[38;5;241m=\u001b[39m\u001b[38;5;28;01mTrue\u001b[39;00m,\n\u001b[1;32m    180\u001b[0m         )\n\u001b[0;32m--> 181\u001b[0m     \u001b[38;5;28mself\u001b[39m\u001b[38;5;241m.\u001b[39msf0, \u001b[38;5;28mself\u001b[39m\u001b[38;5;241m.\u001b[39mdm \u001b[38;5;241m=\u001b[39m \u001b[43m_from_plexh5\u001b[49m\u001b[43m(\u001b[49m\n\u001b[1;32m    182\u001b[0m \u001b[43m        \u001b[49m\u001b[43mplex_or_meshfile\u001b[49m\u001b[43m,\u001b[49m\u001b[43m \u001b[49m\u001b[43mPETSc\u001b[49m\u001b[38;5;241;43m.\u001b[39;49m\u001b[43mCOMM_WORLD\u001b[49m\u001b[43m,\u001b[49m\u001b[43m \u001b[49m\u001b[43mreturn_sf\u001b[49m\u001b[38;5;241;43m=\u001b[39;49m\u001b[38;5;28;43;01mTrue\u001b[39;49;00m\n\u001b[1;32m    183\u001b[0m \u001b[43m    \u001b[49m\u001b[43m)\u001b[49m\n\u001b[1;32m    185\u001b[0m \u001b[38;5;28;01melse\u001b[39;00m:\n\u001b[1;32m    186\u001b[0m     \u001b[38;5;28;01mraise\u001b[39;00m \u001b[38;5;167;01mRuntimeError\u001b[39;00m(\n\u001b[1;32m    187\u001b[0m         \u001b[38;5;124m\"\u001b[39m\u001b[38;5;124mMesh file \u001b[39m\u001b[38;5;132;01m%s\u001b[39;00m\u001b[38;5;124m has unknown format \u001b[39m\u001b[38;5;124m'\u001b[39m\u001b[38;5;132;01m%s\u001b[39;00m\u001b[38;5;124m'\u001b[39m\u001b[38;5;124m.\u001b[39m\u001b[38;5;124m\"\u001b[39m\n\u001b[1;32m    188\u001b[0m         \u001b[38;5;241m%\u001b[39m (plex_or_meshfile, ext[\u001b[38;5;241m1\u001b[39m:])\n\u001b[1;32m    189\u001b[0m     )\n",
      "File \u001b[0;32m~/mambaforge/envs/underworld3p/lib/python3.11/site-packages/underworld3/discretisation.py:98\u001b[0m, in \u001b[0;36m_from_plexh5\u001b[0;34m(filename, comm, return_sf)\u001b[0m\n\u001b[1;32m     95\u001b[0m \u001b[38;5;28;01mif\u001b[39;00m comm \u001b[38;5;241m==\u001b[39m \u001b[38;5;28;01mNone\u001b[39;00m:\n\u001b[1;32m     96\u001b[0m     comm \u001b[38;5;241m=\u001b[39m PETSc\u001b[38;5;241m.\u001b[39mCOMM_WORLD\n\u001b[0;32m---> 98\u001b[0m viewer \u001b[38;5;241m=\u001b[39m \u001b[43mPETSc\u001b[49m\u001b[38;5;241;43m.\u001b[39;49m\u001b[43mViewerHDF5\u001b[49m\u001b[43m(\u001b[49m\u001b[43m)\u001b[49m\u001b[38;5;241;43m.\u001b[39;49m\u001b[43mcreate\u001b[49m\u001b[43m(\u001b[49m\u001b[43mfilename\u001b[49m\u001b[43m,\u001b[49m\u001b[43m \u001b[49m\u001b[38;5;124;43m\"\u001b[39;49m\u001b[38;5;124;43mr\u001b[39;49m\u001b[38;5;124;43m\"\u001b[39;49m\u001b[43m,\u001b[49m\u001b[43m \u001b[49m\u001b[43mcomm\u001b[49m\u001b[38;5;241;43m=\u001b[39;49m\u001b[43mcomm\u001b[49m\u001b[43m)\u001b[49m\n\u001b[1;32m    100\u001b[0m \u001b[38;5;66;03m# h5plex = PETSc.DMPlex().createFromFile(filename, comm=comm)\u001b[39;00m\n\u001b[1;32m    101\u001b[0m h5plex \u001b[38;5;241m=\u001b[39m PETSc\u001b[38;5;241m.\u001b[39mDMPlex()\u001b[38;5;241m.\u001b[39mcreate(comm\u001b[38;5;241m=\u001b[39mcomm)\n",
      "File \u001b[0;32mpetsc4py/PETSc/Viewer.pyx:955\u001b[0m, in \u001b[0;36mpetsc4py.PETSc.ViewerHDF5.create\u001b[0;34m()\u001b[0m\n",
      "\u001b[0;31mError\u001b[0m: error code 76"
     ]
    }
   ],
   "source": [
    "mesh = uw.discretisation.Mesh(meshfile, \n",
    "                              coordinate_system_type=uw.coordinates.CoordinateSystemType.CYLINDRICAL2D)\n",
    "    \n",
    "x = mesh.N.x\n",
    "y = mesh.N.y\n",
    "\n",
    "v_soln = uw.discretisation.MeshVariable(\"U\", mesh, mesh.dim, degree=2)\n",
    "t_soln = uw.discretisation.MeshVariable(\"T\", mesh, 1, degree=3)\n",
    "flux = uw.discretisation.MeshVariable(r\"dTdz\", mesh, 1, degree=1)"
   ]
  },
  {
   "cell_type": "code",
   "execution_count": null,
   "id": "b9768720",
   "metadata": {
    "execution": {
     "iopub.status.busy": "2024-08-21T00:25:37.648651Z",
     "iopub.status.idle": "2024-08-21T00:25:37.648754Z",
     "shell.execute_reply": "2024-08-21T00:25:37.648702Z",
     "shell.execute_reply.started": "2024-08-21T00:25:37.648697Z"
    }
   },
   "outputs": [],
   "source": [
    "steps = range(140,150,1)"
   ]
  },
  {
   "cell_type": "code",
   "execution_count": null,
   "id": "25ffe942",
   "metadata": {
    "execution": {
     "iopub.status.busy": "2024-08-21T00:25:37.649169Z",
     "iopub.status.idle": "2024-08-21T00:25:37.649269Z",
     "shell.execute_reply": "2024-08-21T00:25:37.649217Z",
     "shell.execute_reply.started": "2024-08-21T00:25:37.649211Z"
    },
    "lines_to_next_cell": 0
   },
   "outputs": [],
   "source": [
    "import mpi4py\n",
    "import pyvista as pv\n",
    "import underworld3.visualisation as vis\n",
    "\n",
    "pl = pv.Plotter(window_size=[1000, 500])\n",
    "\n",
    "for step in steps:\n",
    "\n",
    "    try:\n",
    "        v_soln.read_timestep(checkpoint_base, \"U\", step, outputPath=checkpoint_dir)\n",
    "        t_soln.read_timestep(checkpoint_base, \"T\", step, outputPath=checkpoint_dir)\n",
    "        print(f\"Plotting step {step}\")\n",
    "\n",
    "    except:\n",
    "        print(f\"Failed to read step {step} correctly\")\n",
    "        continue\n",
    "\n",
    "    pl.clear()\n",
    "\n",
    "    pvmesh = vis.mesh_to_pv_mesh(mesh)\n",
    "    # pvmesh.point_data[\"T\"] = vis.scalar_fn_to_pv_points(pvmesh, t_soln.sym[0])\n",
    "    pvmesh.point_data[\"V\"] = vis.vector_fn_to_pv_points(pvmesh, v_soln.sym)\n",
    "\n",
    "    pvmesh_v = vis.meshVariable_to_pv_mesh_object(v_soln, alpha=None)\n",
    "    pvmesh_t = vis.meshVariable_to_pv_mesh_object(t_soln, alpha=None)\n",
    "\n",
    "    pvmesh_v.point_data[\"V\"] = vis.vector_fn_to_pv_points(pvmesh_v, v_soln.sym)\n",
    "    pvmesh_t.point_data[\"T\"] = vis.scalar_fn_to_pv_points(pvmesh_t, t_soln.sym)\n",
    "    \n",
    "    # point sources at cell centres\n",
    "    skip = 10\n",
    "    points = np.zeros((mesh._centroids[::skip].shape[0], 3))\n",
    "    points[:, 0] = mesh._centroids[::skip, 0]\n",
    "    points[:, 1] = mesh._centroids[::skip, 1]\n",
    "    point_cloud = pv.PolyData(points)\n",
    "\n",
    "    pl.add_mesh(\n",
    "        pvmesh_t,\n",
    "        cmap=\"RdBu_r\",\n",
    "        edge_color=\"Black\",\n",
    "        edge_opacity=0.1,\n",
    "        show_edges=True,\n",
    "        scalars=\"T\",\n",
    "        use_transparency=False,\n",
    "        opacity=1.0,\n",
    "        show_scalar_bar=False\n",
    "    )\n",
    "\n",
    "    pvstream = pvmesh.streamlines_from_source(\n",
    "        point_cloud,\n",
    "        vectors=\"V\",\n",
    "        integration_direction=\"both\",\n",
    "        max_time=1,\n",
    "        surface_streamlines=True,\n",
    "    )\n",
    "    \n",
    "\n",
    "    pl.add_mesh(pvstream, opacity=0.4, show_scalar_bar=False)    \n",
    "\n",
    "    # pl.camera_position = [(3.0, 0.5, 6.750994846396983),\n",
    "    #                       (3.0, 0.5, 0.0),\n",
    "    #                       (0.0, 1.0, 0.0)]\n",
    "\n",
    "    imagefile = os.path.join(image_dir, checkpoint_base) + f\"_V_T_{step}.png\"\n",
    "    \n",
    "    pl.screenshot(filename=imagefile,\n",
    "                  window_size=(1000, 500),\n",
    "                  return_img=False)\n",
    "\n"
   ]
  },
  {
   "cell_type": "code",
   "execution_count": null,
   "id": "ef5a9c93",
   "metadata": {
    "editable": true,
    "execution": {
     "iopub.status.busy": "2024-08-21T00:25:37.649605Z",
     "iopub.status.idle": "2024-08-21T00:25:37.649704Z",
     "shell.execute_reply": "2024-08-21T00:25:37.649650Z",
     "shell.execute_reply.started": "2024-08-21T00:25:37.649645Z"
    },
    "slideshow": {
     "slide_type": ""
    },
    "tags": []
   },
   "outputs": [],
   "source": [
    "pl.show(jupyter_backend=\"trame\")\n"
   ]
  },
  {
   "cell_type": "code",
   "execution_count": null,
   "id": "2c07b0a2-e467-491e-8005-4a22904c55af",
   "metadata": {},
   "outputs": [],
   "source": []
  },
  {
   "cell_type": "code",
   "execution_count": null,
   "id": "726f0636",
   "metadata": {
    "execution": {
     "iopub.status.busy": "2024-08-21T00:25:37.650079Z",
     "iopub.status.idle": "2024-08-21T00:25:37.650240Z",
     "shell.execute_reply": "2024-08-21T00:25:37.650189Z",
     "shell.execute_reply.started": "2024-08-21T00:25:37.650185Z"
    }
   },
   "outputs": [],
   "source": [
    "## Calculate heat flux, evaluate at surface — proxy for boundary layer thickness"
   ]
  },
  {
   "cell_type": "code",
   "execution_count": null,
   "id": "87481e74-81d9-40fc-939f-deb6cccf6af0",
   "metadata": {
    "execution": {
     "iopub.status.busy": "2024-08-21T00:25:37.650636Z",
     "iopub.status.idle": "2024-08-21T00:25:37.650758Z",
     "shell.execute_reply": "2024-08-21T00:25:37.650693Z",
     "shell.execute_reply.started": "2024-08-21T00:25:37.650687Z"
    }
   },
   "outputs": [],
   "source": [
    "t_soln.stats()"
   ]
  },
  {
   "cell_type": "code",
   "execution_count": null,
   "id": "69b1af47-bd05-4c27-96fa-3699bcc51492",
   "metadata": {
    "execution": {
     "iopub.status.busy": "2024-08-21T00:25:37.651057Z",
     "iopub.status.idle": "2024-08-21T00:25:37.651170Z",
     "shell.execute_reply": "2024-08-21T00:25:37.651111Z",
     "shell.execute_reply.started": "2024-08-21T00:25:37.651106Z"
    }
   },
   "outputs": [],
   "source": [
    "0/0"
   ]
  },
  {
   "cell_type": "code",
   "execution_count": null,
   "id": "4d9cfedc",
   "metadata": {
    "execution": {
     "iopub.status.busy": "2024-08-21T00:25:37.651571Z",
     "iopub.status.idle": "2024-08-21T00:25:37.651660Z",
     "shell.execute_reply": "2024-08-21T00:25:37.651609Z",
     "shell.execute_reply.started": "2024-08-21T00:25:37.651605Z"
    }
   },
   "outputs": [],
   "source": [
    "flux_solver = uw.systems.Projection(mesh, flux)\n",
    "\n",
    "# Conductive flux only !\n",
    "radial_flux = -mesh.vector.gradient(t_soln.sym[0]).dot(mesh.CoordinateSystem.unit_e_0)\n",
    "radial_flux *= sympy.exp(-100*(r-1)**2) \n",
    "\n",
    "flux_solver.uw_function = radial_flux\n",
    "flux_solver.smoothing = 1.0e-3\n",
    "flux_solver.solve()"
   ]
  },
  {
   "cell_type": "code",
   "execution_count": null,
   "id": "14253218",
   "metadata": {
    "execution": {
     "iopub.status.busy": "2024-08-21T00:25:37.652042Z",
     "iopub.status.idle": "2024-08-21T00:25:37.652136Z",
     "shell.execute_reply": "2024-08-21T00:25:37.652091Z",
     "shell.execute_reply.started": "2024-08-21T00:25:37.652087Z"
    },
    "lines_to_next_cell": 0
   },
   "outputs": [],
   "source": [
    "import mpi4py\n",
    "import pyvista as pv\n",
    "import underworld3.visualisation as vis\n",
    "\n",
    "pvmesh = vis.mesh_to_pv_mesh(mesh)\n",
    "pvmesh.point_data[\"dTdz\"] = vis.scalar_fn_to_pv_points(pvmesh, flux.sym[0])\n",
    "pvmesh.point_data[\"V\"] = vis.vector_fn_to_pv_points(pvmesh, v_soln.sym)\n",
    "pvmesh.point_data[\"V\"] -= pvmesh.point_data[\"V\"].mean()\n",
    "\n",
    "velocity_points = vis.meshVariable_to_pv_cloud(v_soln)\n",
    "velocity_points.point_data[\"V\"] = vis.vector_fn_to_pv_points(velocity_points, v_soln.sym)\n",
    "\n",
    "# point sources at cell centres\n",
    "skip = 8\n",
    "points = np.zeros((mesh._centroids[::skip].shape[0], 3))\n",
    "points[:, 0] = mesh._centroids[::skip, 0]\n",
    "points[:, 1] = mesh._centroids[::skip, 1]\n",
    "point_cloud = pv.PolyData(points)\n",
    "\n",
    "pvstream = pvmesh.streamlines_from_source(\n",
    "    point_cloud,\n",
    "    vectors=\"V\",\n",
    "    integration_direction=\"both\",\n",
    "    max_time=0.5,\n",
    ")\n",
    "\n",
    "pl = pv.Plotter(window_size=[1000, 1000])\n",
    "\n",
    "pl.add_mesh(\n",
    "    pvmesh,\n",
    "    cmap=\"Reds\",\n",
    "    edge_color=\"Black\",\n",
    "    show_edges=True,\n",
    "    scalars=\"dTdz\",\n",
    "    use_transparency=False,\n",
    "    opacity=1.0,\n",
    ")\n",
    "\n",
    "# \n",
    "# pl.add_mesh(pvmesh, \"Black\", \"wireframe\",  opacity=0.1)\n",
    "\n",
    "# pl.add_points(point_cloud, color=\"White\", point_size=3.0, opacity=0.25)\n",
    "\n",
    "# pl.add_arrows(velocity_points.points, velocity_points.point_data[\"V\"], mag=0.0001, show_scalar_bar=True)\n",
    "pl.add_mesh(pvstream, opacity=0.4, show_scalar_bar=False)\n",
    "    \n",
    "# pl.remove_scalar_bar(\"V\")\n",
    "\n",
    "imagefile = os.path.join(image_dir, checkpoint_base) + f\"_dTdr_{step}.png\"\n",
    "\n",
    "pl.screenshot(filename=imagefile, window_size=(750, 750), return_img=False)\n",
    "# OR\n"
   ]
  },
  {
   "cell_type": "code",
   "execution_count": null,
   "id": "8ba2cf38",
   "metadata": {
    "execution": {
     "iopub.status.busy": "2024-08-21T00:25:37.652427Z",
     "iopub.status.idle": "2024-08-21T00:25:37.652525Z",
     "shell.execute_reply": "2024-08-21T00:25:37.652474Z",
     "shell.execute_reply.started": "2024-08-21T00:25:37.652469Z"
    },
    "lines_to_next_cell": 2
   },
   "outputs": [],
   "source": [
    "pl.show()"
   ]
  },
  {
   "cell_type": "code",
   "execution_count": null,
   "id": "f6bc3bc7-2164-4799-9f00-f6cfef07058d",
   "metadata": {},
   "outputs": [],
   "source": []
  },
  {
   "cell_type": "code",
   "execution_count": null,
   "id": "6c6b7b64-307f-4431-8200-a57302efcca8",
   "metadata": {},
   "outputs": [],
   "source": []
  }
 ],
 "metadata": {
  "jupytext": {
   "cell_metadata_filter": "-all",
   "main_language": "python",
   "notebook_metadata_filter": "-all"
  },
  "kernelspec": {
   "display_name": "Python 3 (ipykernel)",
   "language": "python",
   "name": "python3"
  },
  "language_info": {
   "codemirror_mode": {
    "name": "ipython",
    "version": 3
   },
   "file_extension": ".py",
   "mimetype": "text/x-python",
   "name": "python",
   "nbconvert_exporter": "python",
   "pygments_lexer": "ipython3",
   "version": "3.11.7"
  }
 },
 "nbformat": 4,
 "nbformat_minor": 5
}
