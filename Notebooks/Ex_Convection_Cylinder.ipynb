{
 "cells": [
  {
   "cell_type": "markdown",
   "id": "c3744185",
   "metadata": {},
   "source": [
    "# Rayleigh-Bénard Convection in an annulus\n",
    "\n"
   ]
  },
  {
   "cell_type": "code",
   "execution_count": 1,
   "id": "c83c4266",
   "metadata": {
    "execution": {
     "iopub.execute_input": "2024-08-13T06:17:48.446534Z",
     "iopub.status.busy": "2024-08-13T06:17:48.446393Z",
     "iopub.status.idle": "2024-08-13T06:17:49.793419Z",
     "shell.execute_reply": "2024-08-13T06:17:49.793108Z",
     "shell.execute_reply.started": "2024-08-13T06:17:48.446516Z"
    },
    "jupyter": {
     "source_hidden": true
    }
   },
   "outputs": [],
   "source": [
    "import petsc4py\n",
    "from petsc4py import PETSc\n",
    "\n",
    "import underworld3 as uw\n",
    "from underworld3.systems import Stokes\n",
    "from underworld3 import function\n",
    "\n",
    "import numpy as np\n",
    "import sympy\n",
    "import os\n",
    "\n",
    "# to fix trame issue\n",
    "import nest_asyncio\n",
    "nest_asyncio.apply()"
   ]
  },
  {
   "cell_type": "code",
   "execution_count": 2,
   "id": "bd6f69e3-842b-4448-9107-448a019a5393",
   "metadata": {
    "execution": {
     "iopub.execute_input": "2024-08-13T06:17:49.794040Z",
     "iopub.status.busy": "2024-08-13T06:17:49.793916Z",
     "iopub.status.idle": "2024-08-13T06:17:49.796011Z",
     "shell.execute_reply": "2024-08-13T06:17:49.795777Z",
     "shell.execute_reply.started": "2024-08-13T06:17:49.794031Z"
    }
   },
   "outputs": [],
   "source": [
    "# The problem setup \n",
    "\n",
    "\n",
    "# Parameters that define the notebook\n",
    "# These can be set when launching the script as\n",
    "# mpirun python3 scriptname -uw_resolution=0.1 etc\n",
    "\n",
    "rayleigh_number_exponent = uw.options.getReal(\"rayleigh_no_expt\",5) \n",
    "resolution = uw.options.getInt(\"model_resolution\", default=15)\n",
    "max_steps = uw.options.getInt(\"max_steps\", default=201)\n",
    "restart_step = uw.options.getInt(\"restart_step\", default=-1)\n",
    "\n",
    "\n",
    "\n",
    "rayleigh_number = pow(10,rayleigh_number_exponent)\n",
    "expt_name = f\"Ra1e{rayleigh_number_exponent}_res{resolution}\"\n",
    "output_dir = os.path.join(\"output\",\"annulus\",f\"Ra1e{rayleigh_number_exponent}\")\n",
    "\n",
    "os.makedirs(output_dir, exist_ok=True)\n"
   ]
  },
  {
   "cell_type": "code",
   "execution_count": null,
   "id": "92b4d10c-ceb4-4671-9e93-6771c53ac771",
   "metadata": {},
   "outputs": [],
   "source": []
  },
  {
   "cell_type": "code",
   "execution_count": 3,
   "id": "21f26c45",
   "metadata": {
    "execution": {
     "iopub.execute_input": "2024-08-13T06:17:49.796525Z",
     "iopub.status.busy": "2024-08-13T06:17:49.796417Z",
     "iopub.status.idle": "2024-08-13T06:17:50.080722Z",
     "shell.execute_reply": "2024-08-13T06:17:50.080482Z",
     "shell.execute_reply.started": "2024-08-13T06:17:49.796514Z"
    },
    "lines_to_next_cell": 2
   },
   "outputs": [],
   "source": [
    "## Set up the mesh geometry / discretisation\n",
    "\n",
    "r_o = 1\n",
    "r_i = 0.5\n",
    "\n",
    "meshball = uw.meshing.Annulus(\n",
    "    radiusInner=r_i, \n",
    "    radiusOuter=r_o, \n",
    "    cellSize=1/resolution, \n",
    "    degree=1, \n",
    "    qdegree=4, \n",
    ")\n",
    "\n",
    "x,y  = meshball.CoordinateSystem.X\n",
    "r, th = meshball.CoordinateSystem.R\n",
    "r_vector = meshball.CoordinateSystem.unit_e_0\n"
   ]
  },
  {
   "cell_type": "code",
   "execution_count": 18,
   "id": "83fdbe83-5f0a-495c-8aae-d8e0e39196a8",
   "metadata": {
    "execution": {
     "iopub.execute_input": "2024-08-14T01:15:38.314449Z",
     "iopub.status.busy": "2024-08-14T01:15:38.314168Z",
     "iopub.status.idle": "2024-08-14T01:15:38.321632Z",
     "shell.execute_reply": "2024-08-14T01:15:38.321087Z",
     "shell.execute_reply.started": "2024-08-14T01:15:38.314429Z"
    }
   },
   "outputs": [
    {
     "data": {
      "text/latex": [
       "$\\displaystyle \\left[\\begin{matrix}\\frac{\\mathrm{x}}{\\sqrt{\\mathrm{x}^{2} + \\mathrm{y}^{2}}} & \\frac{\\mathrm{y}}{\\sqrt{\\mathrm{x}^{2} + \\mathrm{y}^{2}}}\\end{matrix}\\right]$"
      ],
      "text/plain": [
       "Matrix([[N.x/sqrt(N.x**2 + N.y**2), N.y/sqrt(N.x**2 + N.y**2)]])"
      ]
     },
     "execution_count": 18,
     "metadata": {},
     "output_type": "execute_result"
    }
   ],
   "source": [
    "r_vector"
   ]
  },
  {
   "cell_type": "code",
   "execution_count": 4,
   "id": "50859b6a",
   "metadata": {
    "execution": {
     "iopub.execute_input": "2024-08-13T06:17:50.081316Z",
     "iopub.status.busy": "2024-08-13T06:17:50.081181Z",
     "iopub.status.idle": "2024-08-13T06:17:50.086823Z",
     "shell.execute_reply": "2024-08-13T06:17:50.086587Z",
     "shell.execute_reply.started": "2024-08-13T06:17:50.081306Z"
    },
    "lines_to_next_cell": 2
   },
   "outputs": [],
   "source": [
    "v_soln = uw.discretisation.MeshVariable(\"U\", meshball, meshball.dim, degree=2)\n",
    "p_soln = uw.discretisation.MeshVariable(\"P\", meshball, 1, degree=1)\n",
    "t_soln = uw.discretisation.MeshVariable(\"T\", meshball, 1, degree=3)"
   ]
  },
  {
   "cell_type": "code",
   "execution_count": 5,
   "id": "ab2c3ddc",
   "metadata": {
    "execution": {
     "iopub.execute_input": "2024-08-13T06:17:50.088442Z",
     "iopub.status.busy": "2024-08-13T06:17:50.088345Z",
     "iopub.status.idle": "2024-08-13T06:17:50.089991Z",
     "shell.execute_reply": "2024-08-13T06:17:50.089765Z",
     "shell.execute_reply.started": "2024-08-13T06:17:50.088433Z"
    }
   },
   "outputs": [],
   "source": [
    "# passive_swarm = uw.swarm.Swarm(mesh=meshball)\n",
    "# passive_swarm.populate(fill_param=3)"
   ]
  },
  {
   "cell_type": "code",
   "execution_count": 6,
   "id": "ecb97c81",
   "metadata": {
    "execution": {
     "iopub.execute_input": "2024-08-13T06:17:50.090377Z",
     "iopub.status.busy": "2024-08-13T06:17:50.090293Z",
     "iopub.status.idle": "2024-08-13T06:17:50.110785Z",
     "shell.execute_reply": "2024-08-13T06:17:50.110529Z",
     "shell.execute_reply.started": "2024-08-13T06:17:50.090367Z"
    }
   },
   "outputs": [],
   "source": [
    "# Create solver to solver the momentum equation (Stokes flow)\n",
    "\n",
    "stokes = Stokes(\n",
    "    meshball, \n",
    "    velocityField=v_soln, \n",
    "    pressureField=p_soln, \n",
    "    solver_name=\"stokes\",\n",
    ")\n",
    "\n",
    "stokes.constitutive_model = uw.constitutive_models.ViscousFlowModel\n",
    "stokes.constitutive_model.Parameters.viscosity = 1.0\n",
    "\n",
    "# Penalise flow crossing the boundary\n",
    "\n",
    "stokes.add_natural_bc(10*rayleigh_number * v_soln.sym.dot(r_vector) * r_vector, \"Upper\")\n",
    "stokes.add_natural_bc(10*rayleigh_number * v_soln.sym.dot(r_vector) * r_vector, \"Lower\")\n",
    "\n",
    "stokes.bodyforce = r_vector * rayleigh_number * t_soln.sym[0] / (0.5) ** 3"
   ]
  },
  {
   "cell_type": "code",
   "execution_count": 7,
   "id": "63c21518",
   "metadata": {
    "execution": {
     "iopub.execute_input": "2024-08-13T06:17:50.111342Z",
     "iopub.status.busy": "2024-08-13T06:17:50.111247Z",
     "iopub.status.idle": "2024-08-13T06:17:50.165123Z",
     "shell.execute_reply": "2024-08-13T06:17:50.164850Z",
     "shell.execute_reply.started": "2024-08-13T06:17:50.111333Z"
    },
    "lines_to_next_cell": 2
   },
   "outputs": [],
   "source": [
    "# Create solver for the energy equation (Advection-Diffusion of temperature)\n",
    "\n",
    "adv_diff = uw.systems.AdvDiffusion(\n",
    "    meshball,\n",
    "    u_Field=t_soln,\n",
    "    V_fn=v_soln,\n",
    "    solver_name=\"adv_diff\",\n",
    ")\n",
    "\n",
    "adv_diff.constitutive_model = uw.constitutive_models.DiffusionModel\n",
    "adv_diff.constitutive_model.Parameters.diffusivity = 1\n",
    "\n",
    "## Boundary conditions for this solver\n",
    "\n",
    "adv_diff.add_dirichlet_bc(1.0, \"Lower\")\n",
    "adv_diff.add_dirichlet_bc(0.0, \"Upper\")"
   ]
  },
  {
   "cell_type": "code",
   "execution_count": 8,
   "id": "9741b7b5",
   "metadata": {
    "execution": {
     "iopub.execute_input": "2024-08-13T06:17:50.165584Z",
     "iopub.status.busy": "2024-08-13T06:17:50.165501Z",
     "iopub.status.idle": "2024-08-13T06:17:50.508039Z",
     "shell.execute_reply": "2024-08-13T06:17:50.507787Z",
     "shell.execute_reply.started": "2024-08-13T06:17:50.165576Z"
    },
    "lines_to_next_cell": 0
   },
   "outputs": [],
   "source": [
    "# The advection / diffusion equation is an initial value problem\n",
    "# We set this up to have \n",
    "\n",
    "abs_r = sympy.sqrt(meshball.rvec.dot(meshball.rvec))\n",
    "init_t = 0.05 * sympy.sin(2.0 * th) * sympy.sin(np.pi * (r - r_i) / (r_o - r_i)) + (\n",
    "    r_o - r\n",
    ") / (r_o - r_i)\n",
    "\n",
    "\n",
    "with meshball.access(t_soln):\n",
    "    t_soln.data[...] = uw.function.evaluate(init_t, t_soln.coords).reshape(-1, 1)\n"
   ]
  },
  {
   "cell_type": "code",
   "execution_count": 9,
   "id": "081a8138",
   "metadata": {
    "execution": {
     "iopub.execute_input": "2024-08-13T06:17:50.508677Z",
     "iopub.status.busy": "2024-08-13T06:17:50.508505Z",
     "iopub.status.idle": "2024-08-13T06:18:04.171243Z",
     "shell.execute_reply": "2024-08-13T06:18:04.170880Z",
     "shell.execute_reply.started": "2024-08-13T06:17:50.508668Z"
    }
   },
   "outputs": [],
   "source": [
    "# Solution strategy: solve for the velocity field, then update the temperature field.\n",
    "# First we check this works for a tiny timestep, later we will repeat this to \n",
    "# model the passage of time.\n",
    "\n",
    "stokes.solve()\n",
    "adv_diff.solve(timestep=0.00001 * stokes.estimate_dt())"
   ]
  },
  {
   "cell_type": "code",
   "execution_count": 10,
   "id": "af68b3be",
   "metadata": {
    "execution": {
     "iopub.execute_input": "2024-08-13T06:18:04.172065Z",
     "iopub.status.busy": "2024-08-13T06:18:04.171942Z",
     "iopub.status.idle": "2024-08-13T06:18:04.176234Z",
     "shell.execute_reply": "2024-08-13T06:18:04.175939Z",
     "shell.execute_reply.started": "2024-08-13T06:18:04.172051Z"
    }
   },
   "outputs": [],
   "source": [
    "def plot_T_mesh(filename):\n",
    "    if uw.mpi.size == 1:\n",
    "        \n",
    "        import pyvista as pv\n",
    "        import underworld3.visualisation as vis\n",
    "\n",
    "        pvmesh = vis.mesh_to_pv_mesh(meshball)\n",
    "        pvmesh.point_data[\"T\"] = vis.scalar_fn_to_pv_points(pvmesh, t_soln.sym)\n",
    "        pvmesh.point_data[\"V\"] = vis.vector_fn_to_pv_points(pvmesh, stokes.u.sym)\n",
    "\n",
    "        tpoints = vis.meshVariable_to_pv_cloud(t_soln)\n",
    "        tpoints.point_data[\"T\"] = vis.scalar_fn_to_pv_points(tpoints, t_soln.sym)\n",
    "        tpoint_cloud = pv.PolyData(tpoints)\n",
    "\n",
    "        velocity_points = vis.meshVariable_to_pv_cloud(stokes.u)\n",
    "        velocity_points.point_data[\"V\"] = vis.vector_fn_to_pv_points(velocity_points, stokes.u.sym)\n",
    "\n",
    "        # point sources at cell centres\n",
    "        cpoints = pvmesh.cell_centers().points\n",
    "        cpoint_cloud = pv.PolyData(cpoints)\n",
    "    \n",
    "        pvstream = pvmesh.streamlines_from_source(\n",
    "            cpoint_cloud,\n",
    "            vectors=\"V\",\n",
    "            integrator_type=2,\n",
    "            integration_direction=\"both\",\n",
    "            compute_vorticity=False,\n",
    "            max_steps=1000,\n",
    "            max_time=0.1,\n",
    "            initial_step_length=0.01,\n",
    "            surface_streamlines=True,\n",
    "            )\n",
    "\n",
    "        pl = pv.Plotter(window_size=(750, 750))\n",
    "\n",
    "        pl.add_mesh(\n",
    "                    pvmesh,\n",
    "                    cmap=\"RdBu_r\",\n",
    "                    edge_color=\"Black\",\n",
    "                    show_edges=True,\n",
    "                    scalars=\"T\",\n",
    "                    use_transparency=False,\n",
    "                    opacity=1.0,\n",
    "                    show_scalar_bar=False,\n",
    "                )\n",
    "\n",
    "        pl.add_mesh(pvstream, \n",
    "                    opacity=0.75,             \n",
    "                    show_scalar_bar=False,\n",
    ")\n",
    "\n",
    "        pl.screenshot(\n",
    "            filename=\"{}.png\".format(filename),\n",
    "            window_size=(1280, 1280),\n",
    "            return_img=False,\n",
    "        )\n"
   ]
  },
  {
   "cell_type": "code",
   "execution_count": 11,
   "id": "383e63b4-3f44-4f87-bde8-29dfcae0a4b5",
   "metadata": {
    "execution": {
     "iopub.execute_input": "2024-08-13T06:18:04.176708Z",
     "iopub.status.busy": "2024-08-13T06:18:04.176609Z",
     "iopub.status.idle": "2024-08-13T06:18:04.178606Z",
     "shell.execute_reply": "2024-08-13T06:18:04.178362Z",
     "shell.execute_reply.started": "2024-08-13T06:18:04.176698Z"
    }
   },
   "outputs": [],
   "source": [
    "timestep = 0\n",
    "elapsed_time=0.0"
   ]
  },
  {
   "cell_type": "code",
   "execution_count": 16,
   "id": "db5730a6",
   "metadata": {
    "execution": {
     "iopub.execute_input": "2024-08-13T11:41:43.797248Z",
     "iopub.status.busy": "2024-08-13T11:41:43.796635Z",
     "iopub.status.idle": "2024-08-13T12:09:33.477974Z",
     "shell.execute_reply": "2024-08-13T12:09:33.477664Z",
     "shell.execute_reply.started": "2024-08-13T11:41:43.797197Z"
    },
    "lines_to_next_cell": 2
   },
   "outputs": [
    {
     "name": "stdout",
     "output_type": "stream",
     "text": [
      "Timestep 600, dt 0.0001008652252484519, t 0.0666230598132925\n",
      "Timestep 601, dt 0.00010549800616159097, t 0.06672392503854095\n",
      "Timestep 602, dt 0.00011446087105405518, t 0.06682942304470255\n",
      "Timestep 603, dt 0.00012362811230177587, t 0.0669438839157566\n",
      "Timestep 604, dt 0.00011639894094960975, t 0.06706751202805838\n",
      "Timestep 605, dt 0.00011248111750827654, t 0.067183910969008\n",
      "Timestep 606, dt 0.0001125507383066742, t 0.06729639208651628\n",
      "Timestep 607, dt 0.00011628288544364516, t 0.06740894282482295\n",
      "Timestep 608, dt 0.00012291482432879398, t 0.06752522571026659\n",
      "Timestep 609, dt 0.00011464590221141849, t 0.06764814053459538\n",
      "Timestep 610, dt 0.00010764670641692733, t 0.06776278643680679\n",
      "Timestep 611, dt 0.0001053434298885402, t 0.06787043314322372\n",
      "Timestep 612, dt 0.0001084666760502996, t 0.06797577657311225\n",
      "Timestep 613, dt 0.00011423827482368903, t 0.06808424324916255\n",
      "Timestep 614, dt 0.00011650260857256619, t 0.06819848152398625\n",
      "Timestep 615, dt 0.00011880861007733218, t 0.06831498413255882\n",
      "Timestep 616, dt 0.00010665379846574526, t 0.06843379274263615\n",
      "Timestep 617, dt 9.877215364822675e-05, t 0.0685404465411019\n",
      "Timestep 618, dt 9.693547738515225e-05, t 0.06863921869475013\n",
      "Timestep 619, dt 0.00010030964682031829, t 0.06873615417213529\n",
      "Timestep 620, dt 0.00010715654174387, t 0.0688364638189556\n",
      "Timestep 621, dt 0.00011508673587729817, t 0.06894362036069947\n",
      "Timestep 622, dt 0.0001157942263124756, t 0.06905870709657677\n",
      "Timestep 623, dt 0.00011947521751697023, t 0.06917450132288924\n",
      "Timestep 624, dt 0.000122087632708777, t 0.06929397654040621\n",
      "Timestep 625, dt 0.00011411311687001408, t 0.069416064173115\n",
      "Timestep 626, dt 0.00010630997729719116, t 0.069530177289985\n",
      "Timestep 627, dt 0.0001023367901492277, t 0.0696364872672822\n",
      "Timestep 628, dt 0.00010446241647403906, t 0.06973882405743143\n",
      "Timestep 629, dt 0.00011209076309224217, t 0.06984328647390546\n",
      "Timestep 630, dt 0.00011527291704274329, t 0.0699553772369977\n",
      "Timestep 631, dt 0.000121583672870558, t 0.07007065015404045\n",
      "Timestep 632, dt 0.00011045625634018285, t 0.070192233826911\n",
      "Timestep 633, dt 0.00010196397123678684, t 0.07030269008325118\n",
      "Timestep 634, dt 9.880592352941971e-05, t 0.07040465405448797\n",
      "Timestep 635, dt 0.00010047095083696058, t 0.07050345997801738\n",
      "Timestep 636, dt 0.00010539508854126128, t 0.07060393092885434\n",
      "Timestep 637, dt 0.00011173258341077753, t 0.0707093260173956\n",
      "Timestep 638, dt 0.00011841360375519587, t 0.07082105860080638\n",
      "Timestep 639, dt 0.00012378832701476073, t 0.07093947220456158\n",
      "Timestep 640, dt 0.00012158209234791138, t 0.07106326053157634\n",
      "Timestep 641, dt 0.00011082309578926407, t 0.07118484262392426\n",
      "Timestep 642, dt 0.00010255454492229828, t 0.07129566571971352\n",
      "Timestep 643, dt 9.912013646634011e-05, t 0.07139822026463581\n",
      "Timestep 644, dt 0.0001024754029228611, t 0.07149734040110216\n",
      "Timestep 645, dt 0.00011137758840618872, t 0.07159981580402502\n",
      "Timestep 646, dt 0.00011643497289307017, t 0.07171119339243122\n",
      "Timestep 647, dt 0.00011008919536550956, t 0.07182762836532429\n",
      "Timestep 648, dt 0.0001089209178328273, t 0.0719377175606898\n",
      "Timestep 649, dt 0.00011158539015065875, t 0.07204663847852262\n",
      "Timestep 650, dt 0.00011715390511488725, t 0.07215822386867328\n",
      "Timestep 651, dt 0.0001228018172278898, t 0.07227537777378816\n",
      "Timestep 652, dt 0.00012445629724428138, t 0.07239817959101605\n",
      "Timestep 653, dt 0.00012480060229982872, t 0.07252263588826033\n",
      "Timestep 654, dt 0.000118320736927042, t 0.07264743649056016\n",
      "Timestep 655, dt 0.00011172381623330423, t 0.0727657572274872\n",
      "Timestep 656, dt 0.0001118657197542694, t 0.0728774810437205\n",
      "Timestep 657, dt 0.00011511872689248261, t 0.07298934676347477\n",
      "Timestep 658, dt 0.00010716952020954539, t 0.07310446549036725\n",
      "Timestep 659, dt 0.00010268117894217719, t 0.0732116350105768\n",
      "Timestep 660, dt 0.00010378556662260846, t 0.07331431618951897\n",
      "Timestep 661, dt 0.0001054082844715976, t 0.07341810175614158\n",
      "Timestep 662, dt 0.00010375031178937535, t 0.07352351004061318\n",
      "Timestep 663, dt 0.00010744631455650941, t 0.07362726035240255\n",
      "Timestep 664, dt 0.00011718215794519169, t 0.07373470666695905\n",
      "Timestep 665, dt 0.00012826351610176006, t 0.07385188882490425\n",
      "Timestep 666, dt 0.0001242016221185093, t 0.07398015234100601\n",
      "Timestep 667, dt 0.00012184979537127431, t 0.07410435396312452\n",
      "Timestep 668, dt 0.00012019662173683556, t 0.0742262037584958\n",
      "Timestep 669, dt 0.0001200348878147629, t 0.07434640038023263\n",
      "Timestep 670, dt 0.00011860484339765883, t 0.07446643526804739\n",
      "Timestep 671, dt 0.00011376461114411199, t 0.07458504011144505\n",
      "Timestep 672, dt 0.00010235957443926249, t 0.07469880472258916\n",
      "Timestep 673, dt 9.20104927402575e-05, t 0.07480116429702842\n",
      "Timestep 674, dt 8.625789630510107e-05, t 0.07489317478976867\n",
      "Timestep 675, dt 8.517109801619014e-05, t 0.07497943268607378\n",
      "Timestep 676, dt 9.172426106812407e-05, t 0.07506460378408997\n",
      "Timestep 677, dt 0.00010719179845313913, t 0.0751563280451581\n",
      "Timestep 678, dt 0.00012316064033098426, t 0.07526351984361124\n",
      "Timestep 679, dt 0.0001308620027140193, t 0.07538668048394222\n",
      "Timestep 680, dt 0.00014166841636370777, t 0.07551754248665624\n",
      "Timestep 681, dt 0.00013730679465229174, t 0.07565921090301994\n",
      "Timestep 682, dt 0.00013223755118260528, t 0.07579651769767223\n",
      "Timestep 683, dt 0.00012731199043256795, t 0.07592875524885484\n",
      "Timestep 684, dt 0.00012313735527419867, t 0.07605606723928741\n",
      "Timestep 685, dt 0.00011691937072168094, t 0.07617920459456161\n",
      "Timestep 686, dt 0.0001137834937207205, t 0.07629612396528329\n",
      "Timestep 687, dt 9.704512689252716e-05, t 0.07640990745900401\n",
      "Timestep 688, dt 8.451316702696345e-05, t 0.07650695258589654\n",
      "Timestep 689, dt 8.009225436409522e-05, t 0.07659146575292351\n",
      "Timestep 690, dt 8.409792499508621e-05, t 0.0766715580072876\n",
      "Timestep 691, dt 9.541189970171977e-05, t 0.07675565593228269\n",
      "Timestep 692, dt 0.00011477061771571072, t 0.07685106783198441\n",
      "Timestep 693, dt 0.00011627979986067155, t 0.07696583844970012\n",
      "Timestep 694, dt 0.00012049378793788719, t 0.0770821182495608\n",
      "Timestep 695, dt 0.0001264346739365423, t 0.07720261203749867\n",
      "Timestep 696, dt 0.0001311767980761748, t 0.07732904671143521\n",
      "Timestep 697, dt 0.0001272122223139984, t 0.07746022350951139\n",
      "Timestep 698, dt 0.0001224931568432047, t 0.07758743573182539\n",
      "Timestep 699, dt 0.00012118190391220875, t 0.0777099288886686\n",
      "Timestep 700, dt 0.00012311357915517455, t 0.0778311107925808\n",
      "Timestep 701, dt 0.00011735061432269523, t 0.07795422437173598\n",
      "Timestep 702, dt 0.00010623875894848635, t 0.07807157498605867\n",
      "Timestep 703, dt 9.625421258973834e-05, t 0.07817781374500715\n",
      "Timestep 704, dt 8.967123989574578e-05, t 0.0782740679575969\n",
      "Timestep 705, dt 8.850180061388026e-05, t 0.07836373919749264\n",
      "Timestep 706, dt 9.376688377139698e-05, t 0.07845224099810652\n",
      "Timestep 707, dt 0.00010538856198500886, t 0.07854600788187792\n",
      "Timestep 708, dt 0.00011369947321329422, t 0.07865139644386293\n",
      "Timestep 709, dt 0.00011221190737098735, t 0.07876509591707623\n",
      "Timestep 710, dt 0.00011407593155393945, t 0.07887730782444721\n",
      "Timestep 711, dt 0.00011494620603631074, t 0.07899138375600115\n",
      "Timestep 712, dt 0.00011307989275488551, t 0.07910632996203747\n",
      "Timestep 713, dt 0.00011575928799671014, t 0.07921940985479235\n",
      "Timestep 714, dt 0.00012232826708729, t 0.07933516914278907\n",
      "Timestep 715, dt 0.00012333414291372443, t 0.07945749740987636\n",
      "Timestep 716, dt 0.00011634508091560587, t 0.07958083155279008\n",
      "Timestep 717, dt 0.00010941051197258618, t 0.0796971766337057\n",
      "Timestep 718, dt 0.00010503720700020562, t 0.07980658714567827\n",
      "Timestep 719, dt 0.00010249704527336595, t 0.07991162435267848\n",
      "Timestep 720, dt 0.00010096538908130383, t 0.08001412139795185\n",
      "Timestep 721, dt 9.939043212546454e-05, t 0.08011508678703315\n",
      "Timestep 722, dt 9.742420973927302e-05, t 0.08021447721915861\n",
      "Timestep 723, dt 0.00010037989923295098, t 0.08031190142889788\n",
      "Timestep 724, dt 0.00010666672711480333, t 0.08041228132813083\n",
      "Timestep 725, dt 0.00010826855980550405, t 0.08051894805524563\n",
      "Timestep 726, dt 0.00010474349985302155, t 0.08062721661505114\n",
      "Timestep 727, dt 0.00010435478445432699, t 0.08073196011490416\n",
      "Timestep 728, dt 0.00011142594287668429, t 0.08083631489935848\n",
      "Timestep 729, dt 0.00012442062667035954, t 0.08094774084223516\n",
      "Timestep 730, dt 0.0001276799401114197, t 0.08107216146890552\n",
      "Timestep 731, dt 0.0001281702793716313, t 0.08119984140901694\n",
      "Timestep 732, dt 0.00012212594542458752, t 0.08132801168838857\n",
      "Timestep 733, dt 0.00011906110641531545, t 0.08145013763381316\n",
      "Timestep 734, dt 0.00011823992723403649, t 0.08156919874022847\n",
      "Timestep 735, dt 0.00011865174269497312, t 0.0816874386674625\n",
      "Timestep 736, dt 0.00011458222397368069, t 0.08180609041015748\n",
      "Timestep 737, dt 0.00011332081984668493, t 0.08192067263413115\n",
      "Timestep 738, dt 0.00011128297079397191, t 0.08203399345397784\n",
      "Timestep 739, dt 0.00010452292795848538, t 0.08214527642477182\n",
      "Timestep 740, dt 9.822120717634605e-05, t 0.0822497993527303\n",
      "Timestep 741, dt 9.420802754851255e-05, t 0.08234802055990664\n",
      "Timestep 742, dt 9.366447167948071e-05, t 0.08244222858745516\n",
      "Timestep 743, dt 9.687169738774236e-05, t 0.08253589305913464\n",
      "Timestep 744, dt 0.00010265316666623461, t 0.08263276475652238\n",
      "Timestep 745, dt 0.00011064660870124747, t 0.08273541792318861\n",
      "Timestep 746, dt 0.00011930272525200304, t 0.08284606453188986\n",
      "Timestep 747, dt 0.0001276041581748651, t 0.08296536725714186\n",
      "Timestep 748, dt 0.00012905873821437283, t 0.08309297141531673\n",
      "Timestep 749, dt 0.0001351368531084186, t 0.08322203015353109\n",
      "Timestep 750, dt 0.0001370832285764445, t 0.08335716700663952\n",
      "Timestep 751, dt 0.00013635402830858374, t 0.08349425023521596\n",
      "Timestep 752, dt 0.00012404919570622287, t 0.08363060426352455\n",
      "Timestep 753, dt 0.00010396292838035296, t 0.08375465345923076\n",
      "Timestep 754, dt 9.758782754069078e-05, t 0.08385861638761112\n",
      "Timestep 755, dt 0.00010041449251379386, t 0.0839562042151518\n",
      "Timestep 756, dt 9.747110227360018e-05, t 0.0840566187076656\n",
      "Timestep 757, dt 8.90514002457332e-05, t 0.0841540898099392\n",
      "Timestep 758, dt 8.796129301832788e-05, t 0.08424314121018493\n",
      "Timestep 759, dt 9.480695833193907e-05, t 0.08433110250320326\n",
      "Timestep 760, dt 0.00010713619529635375, t 0.0844259094615352\n",
      "Timestep 761, dt 0.0001147107108356057, t 0.08453304565683156\n",
      "Timestep 762, dt 0.00012072337217579237, t 0.08464775636766717\n",
      "Timestep 763, dt 0.0001302675299581873, t 0.08476847973984296\n",
      "Timestep 764, dt 0.0001372427118894919, t 0.08489874726980115\n",
      "Timestep 765, dt 0.00013135173968422295, t 0.08503598998169064\n",
      "Timestep 766, dt 0.00012014209568857507, t 0.08516734172137486\n",
      "Timestep 767, dt 0.00011128468346694973, t 0.08528748381706343\n",
      "Timestep 768, dt 0.00010901276405743084, t 0.08539876850053038\n",
      "Timestep 769, dt 0.0001136604527859294, t 0.08550778126458781\n",
      "Timestep 770, dt 0.00010610464222236848, t 0.08562144171737375\n",
      "Timestep 771, dt 9.820017447178332e-05, t 0.08572754635959612\n",
      "Timestep 772, dt 9.319410214721399e-05, t 0.0858257465340679\n",
      "Timestep 773, dt 9.127675449354121e-05, t 0.08591894063621511\n",
      "Timestep 774, dt 9.290276748509994e-05, t 0.08601021739070865\n",
      "Timestep 775, dt 9.867397417582618e-05, t 0.08610312015819374\n",
      "Timestep 776, dt 0.00010692089378809978, t 0.08620179413236957\n",
      "Timestep 777, dt 0.00010903170764605691, t 0.08630871502615767\n",
      "Timestep 778, dt 0.00011182277363578163, t 0.08641774673380373\n",
      "Timestep 779, dt 0.00011657181518816725, t 0.08652956950743951\n",
      "Timestep 780, dt 0.00012592219925913457, t 0.08664614132262767\n",
      "Timestep 781, dt 0.00012567441668800226, t 0.08677206352188681\n",
      "Timestep 782, dt 0.00012145926163503173, t 0.0868977379385748\n",
      "Timestep 783, dt 0.0001206246120650132, t 0.08701919720020984\n",
      "Timestep 784, dt 0.0001225222653260895, t 0.08713982181227485\n",
      "Timestep 785, dt 0.0001209002898062017, t 0.08726234407760095\n",
      "Timestep 786, dt 0.00012041041398575282, t 0.08738324436740715\n",
      "Timestep 787, dt 0.00011001756748824719, t 0.0875036547813929\n",
      "Timestep 788, dt 0.00010094695180730754, t 0.08761367234888114\n",
      "Timestep 789, dt 9.246067281590265e-05, t 0.08771461930068844\n",
      "Timestep 790, dt 8.486383151131952e-05, t 0.08780707997350434\n",
      "Timestep 791, dt 8.40595832776284e-05, t 0.08789194380501567\n",
      "Timestep 792, dt 9.056424945004907e-05, t 0.0879760033882933\n",
      "Timestep 793, dt 0.00010449223925075375, t 0.08806656763774334\n",
      "Timestep 794, dt 0.00012329875965265007, t 0.0881710598769941\n",
      "Timestep 795, dt 0.00012425649287644452, t 0.08829435863664675\n",
      "Timestep 796, dt 0.00012245623850488442, t 0.0884186151295232\n",
      "Timestep 797, dt 0.0001257278391961648, t 0.0885410713680281\n",
      "Timestep 798, dt 0.00012691008291336806, t 0.08866679920722426\n",
      "Timestep 799, dt 0.0001266968183818259, t 0.08879370929013762\n"
     ]
    }
   ],
   "source": [
    "# Convection model / update in time\n",
    "\n",
    "output = os.path.join(output_dir, expt_name)\n",
    "\n",
    "for step in range(0, 200):\n",
    "    stokes.solve()\n",
    "    delta_t = 3.0 * stokes.estimate_dt()\n",
    "    adv_diff.solve(timestep=delta_t)\n",
    "\n",
    "    # stats then loop\n",
    "    tstats = t_soln.stats()\n",
    "\n",
    "    if uw.mpi.rank == 0:\n",
    "        print(f\"Timestep {timestep}, dt {delta_t}, t {elapsed_time}\")\n",
    "\n",
    "    # plot_T_mesh(filename=f\"{output}_step_{timestep}\")\n",
    "\n",
    "    # meshball.petsc_save_checkpoint(index=step, \n",
    "    #                                meshVars=[v_soln, t_soln], \n",
    "    #                                outputPath=output_dir)\n",
    "\n",
    "    meshball.write_timestep(filename=\"annulus_ckpt\",\n",
    "                            index=timestep,\n",
    "                            outputPath=output_dir,\n",
    "                            meshVars=[v_soln, p_soln, t_soln],\n",
    "                        )\n",
    "\n",
    "    timestep += 1\n",
    "    elapsed_time += delta_t\n"
   ]
  },
  {
   "cell_type": "code",
   "execution_count": 13,
   "id": "69384ff1",
   "metadata": {
    "execution": {
     "iopub.execute_input": "2024-08-13T06:51:00.445807Z",
     "iopub.status.busy": "2024-08-13T06:51:00.445672Z",
     "iopub.status.idle": "2024-08-13T06:51:01.200630Z",
     "shell.execute_reply": "2024-08-13T06:51:01.200343Z",
     "shell.execute_reply.started": "2024-08-13T06:51:00.445796Z"
    }
   },
   "outputs": [
    {
     "data": {
      "application/vnd.jupyter.widget-view+json": {
       "model_id": "db48cdd79f9745b49b777f0cab607f7a",
       "version_major": 2,
       "version_minor": 0
      },
      "text/plain": [
       "Widget(value='<iframe id=\"pyvista-jupyter_trame__template_P_0x166b165d0_0\" src=\"http://localhost:8889/trame-ju…"
      ]
     },
     "metadata": {},
     "output_type": "display_data"
    }
   ],
   "source": [
    "if uw.mpi.size == 1:\n",
    "    \n",
    "    import pyvista as pv\n",
    "    import underworld3.visualisation as vis\n",
    "\n",
    "    pvmesh = vis.mesh_to_pv_mesh(meshball)\n",
    "    pvmesh.point_data[\"T\"] = vis.scalar_fn_to_pv_points(pvmesh, t_soln.sym)\n",
    "    pvmesh.point_data[\"V\"] = vis.vector_fn_to_pv_points(pvmesh, v_soln.sym)\n",
    "\n",
    "    velocity_points = vis.meshVariable_to_pv_cloud(stokes.u)\n",
    "    velocity_points.point_data[\"V\"] = vis.vector_fn_to_pv_points(velocity_points, stokes.u.sym)\n",
    "\n",
    "    # point sources at cell centres\n",
    "    cpoints = pvmesh.cell_centers().points\n",
    "    cpoint_cloud = pv.PolyData(cpoints)\n",
    "\n",
    "    pvstream = pvmesh.streamlines_from_source(\n",
    "            cpoint_cloud,\n",
    "            vectors=\"V\",\n",
    "            integrator_type=2,\n",
    "            integration_direction=\"both\",\n",
    "            compute_vorticity=False,\n",
    "            max_steps=1000,\n",
    "            max_time=0.1,\n",
    "            initial_step_length=0.01,\n",
    "            surface_streamlines=True,\n",
    "            )\n",
    "\n",
    "    pl = pv.Plotter(window_size=(750, 750))\n",
    "\n",
    "    pl.add_mesh(pvstream, opacity=0.5)\n",
    "    pl.add_mesh(pvmesh, scalars=\"T\", cmap=\"RdBu_r\", opacity=1)\n",
    "\n",
    "    pl.show(cpos=\"xy\")"
   ]
  },
  {
   "cell_type": "code",
   "execution_count": null,
   "id": "b7b2547a-2250-4dbb-ac79-f7d7c8460c5a",
   "metadata": {},
   "outputs": [],
   "source": []
  }
 ],
 "metadata": {
  "jupytext": {
   "cell_metadata_filter": "-all",
   "main_language": "python",
   "notebook_metadata_filter": "-all"
  },
  "kernelspec": {
   "display_name": "Python 3 (ipykernel)",
   "language": "python",
   "name": "python3"
  },
  "language_info": {
   "codemirror_mode": {
    "name": "ipython",
    "version": 3
   },
   "file_extension": ".py",
   "mimetype": "text/x-python",
   "name": "python",
   "nbconvert_exporter": "python",
   "pygments_lexer": "ipython3",
   "version": "3.11.8"
  }
 },
 "nbformat": 4,
 "nbformat_minor": 5
}
