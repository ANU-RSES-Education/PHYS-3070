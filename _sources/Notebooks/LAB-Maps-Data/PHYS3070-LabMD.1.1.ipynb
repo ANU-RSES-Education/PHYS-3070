{
 "cells": [
  {
   "cell_type": "markdown",
   "metadata": {},
   "source": [
    "# Map of active volcanoes\n",
    "\n",
    "Here is an example of plotting a map of active volcanoes using data online at Oregon State University.  This example was written by Meghan Miller, of ANU.\n",
    "\n",
    "<img src=\"images/volcano_map.png\" width=\"50%\"/>\n",
    "\n",
    "At the end of this script you will produce a map just like the one shown here.\n",
    "\n",
    "\n",
    "## Resources you will use. \n",
    "\n",
    "This notebook makes use of a couple of packages that might come in handy another time. The maps are made by `cartopy` which is a mapping tool written by the Meteorological Office in the UK (and which happens to be really good a plotting satellite data). The `pandas` package is a database tool that is really very good at manipulating tables of different types of data, selecting, sorting, refining and so on.\n"
   ]
  },
  {
   "cell_type": "code",
   "execution_count": 1,
   "metadata": {},
   "outputs": [],
   "source": [
    "%matplotlib inline\n",
    "\n",
    "import json\n",
    "\n",
    "from lxml import html\n",
    "\n",
    "import cartopy.crs as ccrs\n",
    "\n",
    "import numpy as np\n",
    "import pandas as pd\n",
    "import matplotlib.pyplot as plt\n",
    "\n",
    "chartinfo = 'Author: Meghan Miller | Data: Volcano World - volcano.oregonstate.edu'"
   ]
  },
  {
   "cell_type": "markdown",
   "metadata": {},
   "source": [
    "This next section reads the data from the Oregon State University database. This URL is actually a script to return the table of volcanoes in various forms. This is not a big issue as it returns a valid web page, but not every library that reads html is configured to work with these general URLs."
   ]
  },
  {
   "cell_type": "code",
   "execution_count": 2,
   "metadata": {},
   "outputs": [],
   "source": [
    "page_source = \"https://volcano.oregonstate.edu/volcano_table?sort_by=title&sort_order=ASC\""
   ]
  },
  {
   "cell_type": "markdown",
   "metadata": {},
   "source": [
    "This function from the `pandas` package will read all the tables in a web page and turn them into dataframes."
   ]
  },
  {
   "cell_type": "code",
   "execution_count": 3,
   "metadata": {},
   "outputs": [
    {
     "name": "stdout",
     "output_type": "stream",
     "text": [
      "There is/are 1 table/s on this web page\n"
     ]
    }
   ],
   "source": [
    "tables = pd.read_html(page_source)\n",
    "print(\"There is/are {} table/s on this web page\".format(len(tables)))"
   ]
  },
  {
   "cell_type": "markdown",
   "metadata": {},
   "source": [
    "In this case, it is not necessary to parse the various tables to find the one we want, but you would need to check (for example, the page header or footer might be in the form of a table to lay out the information but we don't want to use that for our map !)"
   ]
  },
  {
   "cell_type": "code",
   "execution_count": 4,
   "metadata": {},
   "outputs": [
    {
     "name": "stdout",
     "output_type": "stream",
     "text": [
      "<class 'pandas.core.frame.DataFrame'>\n"
     ]
    }
   ],
   "source": [
    "df_volc = tables[0]\n",
    "print(type(df_volc))"
   ]
  },
  {
   "cell_type": "code",
   "execution_count": 5,
   "metadata": {},
   "outputs": [],
   "source": [
    "# pdurl = 'https://volcano.oregonstate.edu/volcano_table?sort_by=title&sort_order=ASC'\n",
    "# xpath = '//table'\n",
    "# tree = html.parse(pdurl)\n",
    "# tables = tree.xpath(xpath)\n",
    "\n",
    "# table_dfs = []\n",
    "# for idx in range(4, len(tables)):\n",
    "#     df = pd.read_html(html.tostring(tables[idx]), header=0)[0]\n",
    "#     table_dfs.append(df)"
   ]
  },
  {
   "cell_type": "code",
   "execution_count": 6,
   "metadata": {},
   "outputs": [
    {
     "data": {
      "text/plain": [
       "Stratovolcano         126\n",
       "Caldera                20\n",
       "Shield                 13\n",
       "Complex                 8\n",
       "Volcanic field          6\n",
       "Submarine               5\n",
       "Lava dome               3\n",
       "Fissure vent            3\n",
       "Caldera, Shield         2\n",
       "Cinder Cone             2\n",
       "Pyroclastic cone        2\n",
       "Fissure vent, Maar      2\n",
       "Flood Basalt            2\n",
       "Plug                    1\n",
       "Somma                   1\n",
       "Maar                    1\n",
       "Name: Type, dtype: int64"
      ]
     },
     "execution_count": 6,
     "metadata": {},
     "output_type": "execute_result"
    }
   ],
   "source": [
    "df_volc['Type'].value_counts()"
   ]
  },
  {
   "cell_type": "markdown",
   "metadata": {},
   "source": [
    "Clean up the data to make sure the typos and missing information are not propogated into your database. This doesn't seem to be needed in this particular case, but, in other instances, you could use this technique to replace definitions / map to a new terminology etc."
   ]
  },
  {
   "cell_type": "code",
   "execution_count": 7,
   "metadata": {},
   "outputs": [
    {
     "data": {
      "text/plain": [
       "Stratovolcano         126\n",
       "Caldera                20\n",
       "Shield                 13\n",
       "Complex                 8\n",
       "Volcanic Field          6\n",
       "Submarine               5\n",
       "Lava Dome               3\n",
       "Fissure Vent            3\n",
       "Caldera, Shield         2\n",
       "Cinder Cone             2\n",
       "Pyroclastic Cone        2\n",
       "Fissure Vent, Maar      2\n",
       "Flood Basalt            2\n",
       "Plug                    1\n",
       "Somma                   1\n",
       "Maar                    1\n",
       "Name: Type, dtype: int64"
      ]
     },
     "execution_count": 7,
     "metadata": {},
     "output_type": "execute_result"
    }
   ],
   "source": [
    "def cleanup_type(s):\n",
    "    if not isinstance(s, str):\n",
    "        return s\n",
    "    s = s.replace('?', '').replace('  ', ' ')\n",
    "    s = s.replace('volcanoes', 'volcano')\n",
    "    s = s.replace('volcanoe', 'Volcano')\n",
    "    s = s.replace('cones', 'cone')\n",
    "    s = s.replace('Calderas', 'Caldera')\n",
    "    return s.strip().title()\n",
    "\n",
    "df_volc['Type'] = df_volc['Type'].map(cleanup_type)\n",
    "df_volc['Type'].value_counts()"
   ]
  },
  {
   "cell_type": "markdown",
   "metadata": {},
   "source": [
    "Now determine the number of volcanoes in the database."
   ]
  },
  {
   "cell_type": "code",
   "execution_count": 8,
   "metadata": {},
   "outputs": [
    {
     "data": {
      "text/plain": [
       "195"
      ]
     },
     "execution_count": 8,
     "metadata": {},
     "output_type": "execute_result"
    }
   ],
   "source": [
    "df_volc.dropna(inplace=True)\n",
    "len(df_volc)"
   ]
  },
  {
   "cell_type": "markdown",
   "metadata": {},
   "source": [
    "Now select the volcanoes that are above sealevel"
   ]
  },
  {
   "cell_type": "code",
   "execution_count": 9,
   "metadata": {},
   "outputs": [
    {
     "data": {
      "text/plain": [
       "189"
      ]
     },
     "execution_count": 9,
     "metadata": {},
     "output_type": "execute_result"
    }
   ],
   "source": [
    "df_volc = df_volc[df_volc['Elevation (m)'] >= 0]\n",
    "len(df_volc)"
   ]
  },
  {
   "cell_type": "markdown",
   "metadata": {},
   "source": [
    "Make a nice table of the first 10 volcanoes from the information that you grabbed out of the Oregon State University website on volcanoes"
   ]
  },
  {
   "cell_type": "code",
   "execution_count": 10,
   "metadata": {},
   "outputs": [
    {
     "name": "stdout",
     "output_type": "stream",
     "text": [
      "189\n"
     ]
    },
    {
     "data": {
      "text/html": [
       "<div>\n",
       "<style scoped>\n",
       "    .dataframe tbody tr th:only-of-type {\n",
       "        vertical-align: middle;\n",
       "    }\n",
       "\n",
       "    .dataframe tbody tr th {\n",
       "        vertical-align: top;\n",
       "    }\n",
       "\n",
       "    .dataframe thead th {\n",
       "        text-align: right;\n",
       "    }\n",
       "</style>\n",
       "<table border=\"1\" class=\"dataframe\">\n",
       "  <thead>\n",
       "    <tr style=\"text-align: right;\">\n",
       "      <th></th>\n",
       "      <th>Volcano Name</th>\n",
       "      <th>Country</th>\n",
       "      <th>Type</th>\n",
       "      <th>Latitude (dd)</th>\n",
       "      <th>Longitude (dd)</th>\n",
       "      <th>Elevation (m)</th>\n",
       "    </tr>\n",
       "  </thead>\n",
       "  <tbody>\n",
       "    <tr>\n",
       "      <th>0</th>\n",
       "      <td>Abu</td>\n",
       "      <td>Japan</td>\n",
       "      <td>Shield</td>\n",
       "      <td>34.50</td>\n",
       "      <td>131.60</td>\n",
       "      <td>641</td>\n",
       "    </tr>\n",
       "    <tr>\n",
       "      <th>1</th>\n",
       "      <td>Acamarachi</td>\n",
       "      <td>Chile</td>\n",
       "      <td>Stratovolcano</td>\n",
       "      <td>-23.30</td>\n",
       "      <td>-67.62</td>\n",
       "      <td>6046</td>\n",
       "    </tr>\n",
       "    <tr>\n",
       "      <th>2</th>\n",
       "      <td>Acatenango</td>\n",
       "      <td>Guatemala</td>\n",
       "      <td>Stratovolcano</td>\n",
       "      <td>14.50</td>\n",
       "      <td>-90.88</td>\n",
       "      <td>3976</td>\n",
       "    </tr>\n",
       "    <tr>\n",
       "      <th>3</th>\n",
       "      <td>Acigöl-Nevsehir</td>\n",
       "      <td>Turkey</td>\n",
       "      <td>Caldera</td>\n",
       "      <td>38.57</td>\n",
       "      <td>34.52</td>\n",
       "      <td>1689</td>\n",
       "    </tr>\n",
       "    <tr>\n",
       "      <th>4</th>\n",
       "      <td>Adams</td>\n",
       "      <td>United States</td>\n",
       "      <td>Stratovolcano</td>\n",
       "      <td>46.21</td>\n",
       "      <td>-121.49</td>\n",
       "      <td>3742</td>\n",
       "    </tr>\n",
       "    <tr>\n",
       "      <th>6</th>\n",
       "      <td>Adatara</td>\n",
       "      <td>Japan</td>\n",
       "      <td>Stratovolcano</td>\n",
       "      <td>37.64</td>\n",
       "      <td>140.29</td>\n",
       "      <td>1718</td>\n",
       "    </tr>\n",
       "    <tr>\n",
       "      <th>7</th>\n",
       "      <td>Adwa</td>\n",
       "      <td>Ethiopia</td>\n",
       "      <td>Stratovolcano</td>\n",
       "      <td>10.07</td>\n",
       "      <td>40.84</td>\n",
       "      <td>1733</td>\n",
       "    </tr>\n",
       "    <tr>\n",
       "      <th>8</th>\n",
       "      <td>Afderà</td>\n",
       "      <td>Ethiopia</td>\n",
       "      <td>Stratovolcano</td>\n",
       "      <td>13.08</td>\n",
       "      <td>40.85</td>\n",
       "      <td>1295</td>\n",
       "    </tr>\n",
       "    <tr>\n",
       "      <th>9</th>\n",
       "      <td>Agrigan</td>\n",
       "      <td>Mariana Islands</td>\n",
       "      <td>Stratovolcano</td>\n",
       "      <td>18.77</td>\n",
       "      <td>145.67</td>\n",
       "      <td>965</td>\n",
       "    </tr>\n",
       "    <tr>\n",
       "      <th>10</th>\n",
       "      <td>Agua</td>\n",
       "      <td>Guatemala</td>\n",
       "      <td>Stratovolcano</td>\n",
       "      <td>14.47</td>\n",
       "      <td>-90.74</td>\n",
       "      <td>3760</td>\n",
       "    </tr>\n",
       "  </tbody>\n",
       "</table>\n",
       "</div>"
      ],
      "text/plain": [
       "       Volcano Name          Country           Type  Latitude (dd)  \\\n",
       "0               Abu            Japan         Shield          34.50   \n",
       "1        Acamarachi            Chile  Stratovolcano         -23.30   \n",
       "2        Acatenango        Guatemala  Stratovolcano          14.50   \n",
       "3   Acigöl-Nevsehir           Turkey        Caldera          38.57   \n",
       "4             Adams    United States  Stratovolcano          46.21   \n",
       "6           Adatara            Japan  Stratovolcano          37.64   \n",
       "7              Adwa         Ethiopia  Stratovolcano          10.07   \n",
       "8            Afderà         Ethiopia  Stratovolcano          13.08   \n",
       "9           Agrigan  Mariana Islands  Stratovolcano          18.77   \n",
       "10             Agua        Guatemala  Stratovolcano          14.47   \n",
       "\n",
       "    Longitude (dd)  Elevation (m)  \n",
       "0           131.60            641  \n",
       "1           -67.62           6046  \n",
       "2           -90.88           3976  \n",
       "3            34.52           1689  \n",
       "4          -121.49           3742  \n",
       "6           140.29           1718  \n",
       "7            40.84           1733  \n",
       "8            40.85           1295  \n",
       "9           145.67            965  \n",
       "10          -90.74           3760  "
      ]
     },
     "execution_count": 10,
     "metadata": {},
     "output_type": "execute_result"
    }
   ],
   "source": [
    "print(len(df_volc))\n",
    "df_volc.head(10)"
   ]
  },
  {
   "cell_type": "markdown",
   "metadata": {},
   "source": [
    "Determine the number of each type of volcanoes from this list and output this information to the screen."
   ]
  },
  {
   "cell_type": "code",
   "execution_count": 11,
   "metadata": {},
   "outputs": [
    {
     "data": {
      "text/plain": [
       "Stratovolcano         126\n",
       "Caldera                19\n",
       "Shield                 13\n",
       "Complex                 8\n",
       "Volcanic Field          6\n",
       "Lava Dome               3\n",
       "Fissure Vent            3\n",
       "Caldera, Shield         2\n",
       "Cinder Cone             2\n",
       "Pyroclastic Cone        2\n",
       "Fissure Vent, Maar      2\n",
       "Plug                    1\n",
       "Somma                   1\n",
       "Maar                    1\n",
       "Name: Type, dtype: int64"
      ]
     },
     "execution_count": 11,
     "metadata": {},
     "output_type": "execute_result"
    }
   ],
   "source": [
    "df_volc['Type'].value_counts()"
   ]
  },
  {
   "cell_type": "code",
   "execution_count": 12,
   "metadata": {},
   "outputs": [
    {
     "name": "stderr",
     "output_type": "stream",
     "text": [
      "/Users/lmoresi/mambaforge/envs/cartopy/lib/python3.9/site-packages/pandas/util/_decorators.py:311: SettingWithCopyWarning: \n",
      "A value is trying to be set on a copy of a slice from a DataFrame\n",
      "\n",
      "See the caveats in the documentation: https://pandas.pydata.org/pandas-docs/stable/user_guide/indexing.html#returning-a-view-versus-a-copy\n",
      "  return func(*args, **kwargs)\n"
     ]
    },
    {
     "data": {
      "text/plain": [
       "189"
      ]
     },
     "execution_count": 12,
     "metadata": {},
     "output_type": "execute_result"
    }
   ],
   "source": [
    "df_volc.dropna(inplace=True)\n",
    "len(df_volc)"
   ]
  },
  {
   "cell_type": "code",
   "execution_count": 13,
   "metadata": {},
   "outputs": [],
   "source": [
    "df = df_volc[df_volc['Type'] == 'Stratovolcano']"
   ]
  },
  {
   "cell_type": "markdown",
   "metadata": {
    "inputHidden": false,
    "outputHidden": false
   },
   "source": [
    "Create a simple scatter plot map of the stratavolcanoes"
   ]
  },
  {
   "cell_type": "code",
   "execution_count": null,
   "metadata": {},
   "outputs": [],
   "source": [
    "fig=plt.figure(figsize=(12,8))\n",
    "ax = fig.add_subplot(1,1,1, projection=ccrs.Mollweide())\n",
    "ax.stock_img()\n",
    "ax.annotate('Stratovolcanoes of the world | ' + chartinfo, xy=(0, -1.04), xycoords='axes fraction')\n",
    "ax.scatter(df['Longitude (dd)'].array,df['Latitude (dd)'].array, color='red', linewidth=1, marker='^', transform=ccrs.PlateCarree())\n",
    "\n",
    "plt.show()"
   ]
  },
  {
   "cell_type": "code",
   "execution_count": null,
   "metadata": {},
   "outputs": [],
   "source": []
  }
 ],
 "metadata": {
  "kernel_info": {
   "name": "python3"
  },
  "kernelspec": {
   "display_name": "Python 3",
   "language": "python",
   "name": "python3"
  },
  "language_info": {
   "codemirror_mode": {
    "name": "ipython",
    "version": 3
   },
   "file_extension": ".py",
   "mimetype": "text/x-python",
   "name": "python",
   "nbconvert_exporter": "python",
   "pygments_lexer": "ipython3",
   "version": "3.9.4"
  },
  "nteract": {
   "version": "0.12.3"
  }
 },
 "nbformat": 4,
 "nbformat_minor": 4
}
